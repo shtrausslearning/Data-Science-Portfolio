{
 "cells": [
  {
   "cell_type": "markdown",
   "id": "40385b9c-8ea2-4d0d-b06f-111e0f35ce09",
   "metadata": {
    "editable": true,
    "slideshow": {
     "slide_type": ""
    },
    "tags": []
   },
   "source": [
    "# **Feature Engineering and Modelling**\n",
    "\n",
    "\n",
    "## **Background**"
   ]
  },
  {
   "cell_type": "code",
   "execution_count": null,
   "id": "196cb82b-9b1d-466b-b9ef-9f2405e9f6b5",
   "metadata": {
    "editable": true,
    "slideshow": {
     "slide_type": ""
    },
    "tags": []
   },
   "outputs": [],
   "source": []
  }
 ],
 "metadata": {
  "kernelspec": {
   "display_name": "Python 3 (ipykernel)",
   "language": "python",
   "name": "python3"
  },
  "language_info": {
   "codemirror_mode": {
    "name": "ipython",
    "version": 3
   },
   "file_extension": ".py",
   "mimetype": "text/x-python",
   "name": "python",
   "nbconvert_exporter": "python",
   "pygments_lexer": "ipython3",
   "version": "3.12.4"
  }
 },
 "nbformat": 4,
 "nbformat_minor": 5
}
