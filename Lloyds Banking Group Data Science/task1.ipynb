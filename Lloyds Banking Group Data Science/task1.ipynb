{
 "cells": [
  {
   "cell_type": "markdown",
   "metadata": {},
   "source": [
    "# **Lloyds Banking Group Internship Data Science**\n",
    "\n",
    "## **Phase 1: Data gathering and exploratory analysis**\n",
    "\n",
    "### Project brief\n",
    "\n",
    "- Welcome to the Data Science & Analytics team at Lloyds Banking Group. As a new data science graduate, you have been entrusted with a critical project that could significantly impact our customer retention strategies. Li, our senior data scientist, has specifically chosen you to take over this project due to your strong analytical skills and enthusiasm for solving real-world business problems. This is an exciting opportunity for you to apply your knowledge and make a real impact within our team.\n",
    "Context\n",
    "\n",
    "- The project you are about to embark on is the \"Customer Retention Enhancement through Predictive Analytics\" initiative. This project arose from an urgent need to address declining retention rates within certain segments of our customer base. Over the past few months, **we've noticed a worrying trend of increased customer churn, particularly among young professionals and small business owners.** This poses a substantial threat to our market position and long-term profitability.\n",
    "\n",
    "- Our fictional client, SmartBank, a subsidiary of Lloyds, has reported that a substantial portion of their customer base is at risk of moving to competitors offering more personalised banking solutions. SmartBank has tasked our team with developing a predictive model to identify at-risk customers and propose targeted interventions to retain them.\n",
    "Key concepts\n",
    "\n",
    "### Key Concepts\n",
    "\n",
    "Before you begin, it's essential to understand a few key concepts:\n",
    "\n",
    "- Customer churn: The process by which customers stop doing business with a company. Identifying and preventing churn is crucial for maintaining a stable customer base.\n",
    "    Predictive analytics: Techniques that use historical data to forecast future possibilities. In this project, you'll use predictive analytics to predict which customers are likely to churn.\n",
    "    Exploratory data analysis (EDA): A method of analysing data sets to summarise their primary characteristics, often using visual strategies. EDA is crucial for understanding the data before building predictive models.\n",
    "    Machine learning models: Algorithms that let computers learn from and make predictions or decisions based on data. You'll be building a classification model to predict customer churn.\n",
    "\n",
    "### Project requirements\n",
    "\n",
    "Your task involves two main phases.\n",
    "\n",
    "- **`Phase 1: Data gathering and exploratory analysis`**\n",
    "\n",
    "    - Objective: Collect relevant data, perform exploratory data analysis (EDA), and prepare the data for modelling.\n",
    "    Steps:\n",
    "        Identify and gather data from provided sources relevant to predicting customer churn.\n",
    "        Conduct EDA to understand the data, identify key features, and uncover patterns and insights.\n",
    "        Clean and preprocess the data to ensure it is ready for model building.\n",
    "    Deliverable: Submit a report detailing your exploratory data analysis and key findings, including the cleaned and preprocessed data set.\n",
    "\n",
    "- Phase 2: Building a machine learning model\n",
    "\n",
    "    - Objective: Develop a predictive model to identify customers at risk of churning and propose ways to measure the model’s performance.\n",
    "    Steps:\n",
    "        Choose a suitable machine learning algorithm for the classification task.\n",
    "        Build and train the model to predict customer churn.\n",
    "        Suggest ways to evaluate and measure the model’s performance, ensuring its reliability and accuracy.\n",
    "    Deliverable: Submit a report, including the trained machine learning model and your proposed methods for evaluating and measuring the model’s performance.\n",
    "\n",
    "The importance of this project\n",
    "\n",
    "Addressing customer churn is critical for maintaining SmartBank's competitive edge and ensuring long-term sustainability. The board of directors is strongly encouraging the team to deliver a solution promptly, as timely delivery will help secure our market position and capitalize on opportunities. The team is feeling the heat, but they are also highly motivated and determined to turn this challenge into an opportunity. Your role is pivotal in this effort, and your contributions will be closely monitored by senior management.\n",
    "\n",
    "Embrace this chance to showcase your skills and make a meaningful impact. It’s time to dive in and get to work!"
   ]
  },
  {
   "cell_type": "code",
   "execution_count": 108,
   "metadata": {},
   "outputs": [],
   "source": [
    "import pandas as pd\n",
    "import plotly.express as px\n",
    "import matplotlib.pyplot as plt\n",
    "import seaborn as sns\n",
    "import warnings; warnings.filterwarnings('ignore')\n",
    "from IPython.display import Image"
   ]
  },
  {
   "cell_type": "markdown",
   "metadata": {},
   "source": [
    "## **Read Dataset**"
   ]
  },
  {
   "cell_type": "code",
   "execution_count": 109,
   "metadata": {
    "trusted": false
   },
   "outputs": [
    {
     "data": {
      "text/plain": [
       "dict_keys(['Customer_Demographics', 'Transaction_History', 'Customer_Service', 'Online_Activity', 'Churn_Status'])"
      ]
     },
     "execution_count": 109,
     "metadata": {},
     "output_type": "execute_result"
    }
   ],
   "source": [
    "ds = pd.read_excel('Customer_Churn_Data_Large.xlsx',sheet_name=None)\n",
    "ds.keys()"
   ]
  },
  {
   "cell_type": "code",
   "execution_count": 110,
   "metadata": {
    "trusted": true
   },
   "outputs": [],
   "source": [
    "demographic = ds['Customer_Demographics']\n",
    "transaction = ds['Transaction_History']\n",
    "service = ds['Customer_Service']\n",
    "activity = ds['Online_Activity']\n",
    "status = ds['Churn_Status']\n",
    "status['ChurnStatus'] = pd.Categorical(status['ChurnStatus'],[0,1])"
   ]
  },
  {
   "cell_type": "code",
   "execution_count": 111,
   "metadata": {},
   "outputs": [
    {
     "data": {
      "text/html": [
       "<div>\n",
       "<style scoped>\n",
       "    .dataframe tbody tr th:only-of-type {\n",
       "        vertical-align: middle;\n",
       "    }\n",
       "\n",
       "    .dataframe tbody tr th {\n",
       "        vertical-align: top;\n",
       "    }\n",
       "\n",
       "    .dataframe thead th {\n",
       "        text-align: right;\n",
       "    }\n",
       "</style>\n",
       "<table border=\"1\" class=\"dataframe\">\n",
       "  <thead>\n",
       "    <tr style=\"text-align: right;\">\n",
       "      <th></th>\n",
       "      <th>CustomerID</th>\n",
       "      <th>Age</th>\n",
       "      <th>Gender</th>\n",
       "      <th>MaritalStatus</th>\n",
       "      <th>IncomeLevel</th>\n",
       "    </tr>\n",
       "  </thead>\n",
       "  <tbody>\n",
       "    <tr>\n",
       "      <th>0</th>\n",
       "      <td>1</td>\n",
       "      <td>62</td>\n",
       "      <td>M</td>\n",
       "      <td>Single</td>\n",
       "      <td>Low</td>\n",
       "    </tr>\n",
       "    <tr>\n",
       "      <th>1</th>\n",
       "      <td>2</td>\n",
       "      <td>65</td>\n",
       "      <td>M</td>\n",
       "      <td>Married</td>\n",
       "      <td>Low</td>\n",
       "    </tr>\n",
       "    <tr>\n",
       "      <th>2</th>\n",
       "      <td>3</td>\n",
       "      <td>18</td>\n",
       "      <td>M</td>\n",
       "      <td>Single</td>\n",
       "      <td>Low</td>\n",
       "    </tr>\n",
       "    <tr>\n",
       "      <th>3</th>\n",
       "      <td>4</td>\n",
       "      <td>21</td>\n",
       "      <td>M</td>\n",
       "      <td>Widowed</td>\n",
       "      <td>Low</td>\n",
       "    </tr>\n",
       "    <tr>\n",
       "      <th>4</th>\n",
       "      <td>5</td>\n",
       "      <td>21</td>\n",
       "      <td>M</td>\n",
       "      <td>Divorced</td>\n",
       "      <td>Medium</td>\n",
       "    </tr>\n",
       "  </tbody>\n",
       "</table>\n",
       "</div>"
      ],
      "text/plain": [
       "   CustomerID  Age Gender MaritalStatus IncomeLevel\n",
       "0           1   62      M        Single         Low\n",
       "1           2   65      M       Married         Low\n",
       "2           3   18      M        Single         Low\n",
       "3           4   21      M       Widowed         Low\n",
       "4           5   21      M      Divorced      Medium"
      ]
     },
     "execution_count": 111,
     "metadata": {},
     "output_type": "execute_result"
    }
   ],
   "source": [
    "demographic.head()"
   ]
  },
  {
   "cell_type": "code",
   "execution_count": 112,
   "metadata": {},
   "outputs": [
    {
     "data": {
      "text/html": [
       "<div>\n",
       "<style scoped>\n",
       "    .dataframe tbody tr th:only-of-type {\n",
       "        vertical-align: middle;\n",
       "    }\n",
       "\n",
       "    .dataframe tbody tr th {\n",
       "        vertical-align: top;\n",
       "    }\n",
       "\n",
       "    .dataframe thead th {\n",
       "        text-align: right;\n",
       "    }\n",
       "</style>\n",
       "<table border=\"1\" class=\"dataframe\">\n",
       "  <thead>\n",
       "    <tr style=\"text-align: right;\">\n",
       "      <th></th>\n",
       "      <th>CustomerID</th>\n",
       "      <th>TransactionID</th>\n",
       "      <th>TransactionDate</th>\n",
       "      <th>AmountSpent</th>\n",
       "      <th>ProductCategory</th>\n",
       "    </tr>\n",
       "  </thead>\n",
       "  <tbody>\n",
       "    <tr>\n",
       "      <th>0</th>\n",
       "      <td>1</td>\n",
       "      <td>7194</td>\n",
       "      <td>2022-03-27</td>\n",
       "      <td>416.50</td>\n",
       "      <td>Electronics</td>\n",
       "    </tr>\n",
       "    <tr>\n",
       "      <th>1</th>\n",
       "      <td>2</td>\n",
       "      <td>7250</td>\n",
       "      <td>2022-08-08</td>\n",
       "      <td>54.96</td>\n",
       "      <td>Clothing</td>\n",
       "    </tr>\n",
       "    <tr>\n",
       "      <th>2</th>\n",
       "      <td>2</td>\n",
       "      <td>9660</td>\n",
       "      <td>2022-07-25</td>\n",
       "      <td>197.50</td>\n",
       "      <td>Electronics</td>\n",
       "    </tr>\n",
       "    <tr>\n",
       "      <th>3</th>\n",
       "      <td>2</td>\n",
       "      <td>2998</td>\n",
       "      <td>2022-01-25</td>\n",
       "      <td>101.31</td>\n",
       "      <td>Furniture</td>\n",
       "    </tr>\n",
       "    <tr>\n",
       "      <th>4</th>\n",
       "      <td>2</td>\n",
       "      <td>1228</td>\n",
       "      <td>2022-07-24</td>\n",
       "      <td>397.37</td>\n",
       "      <td>Clothing</td>\n",
       "    </tr>\n",
       "  </tbody>\n",
       "</table>\n",
       "</div>"
      ],
      "text/plain": [
       "   CustomerID  TransactionID TransactionDate  AmountSpent ProductCategory\n",
       "0           1           7194      2022-03-27       416.50     Electronics\n",
       "1           2           7250      2022-08-08        54.96        Clothing\n",
       "2           2           9660      2022-07-25       197.50     Electronics\n",
       "3           2           2998      2022-01-25       101.31       Furniture\n",
       "4           2           1228      2022-07-24       397.37        Clothing"
      ]
     },
     "execution_count": 112,
     "metadata": {},
     "output_type": "execute_result"
    }
   ],
   "source": [
    "transaction.head()"
   ]
  },
  {
   "cell_type": "code",
   "execution_count": 113,
   "metadata": {},
   "outputs": [
    {
     "data": {
      "text/html": [
       "<div>\n",
       "<style scoped>\n",
       "    .dataframe tbody tr th:only-of-type {\n",
       "        vertical-align: middle;\n",
       "    }\n",
       "\n",
       "    .dataframe tbody tr th {\n",
       "        vertical-align: top;\n",
       "    }\n",
       "\n",
       "    .dataframe thead th {\n",
       "        text-align: right;\n",
       "    }\n",
       "</style>\n",
       "<table border=\"1\" class=\"dataframe\">\n",
       "  <thead>\n",
       "    <tr style=\"text-align: right;\">\n",
       "      <th></th>\n",
       "      <th>CustomerID</th>\n",
       "      <th>InteractionID</th>\n",
       "      <th>InteractionDate</th>\n",
       "      <th>InteractionType</th>\n",
       "      <th>ResolutionStatus</th>\n",
       "    </tr>\n",
       "  </thead>\n",
       "  <tbody>\n",
       "    <tr>\n",
       "      <th>0</th>\n",
       "      <td>1</td>\n",
       "      <td>6363</td>\n",
       "      <td>2022-03-31</td>\n",
       "      <td>Inquiry</td>\n",
       "      <td>Resolved</td>\n",
       "    </tr>\n",
       "    <tr>\n",
       "      <th>1</th>\n",
       "      <td>2</td>\n",
       "      <td>3329</td>\n",
       "      <td>2022-03-17</td>\n",
       "      <td>Inquiry</td>\n",
       "      <td>Resolved</td>\n",
       "    </tr>\n",
       "    <tr>\n",
       "      <th>2</th>\n",
       "      <td>3</td>\n",
       "      <td>9976</td>\n",
       "      <td>2022-08-24</td>\n",
       "      <td>Inquiry</td>\n",
       "      <td>Resolved</td>\n",
       "    </tr>\n",
       "    <tr>\n",
       "      <th>3</th>\n",
       "      <td>4</td>\n",
       "      <td>7354</td>\n",
       "      <td>2022-11-18</td>\n",
       "      <td>Inquiry</td>\n",
       "      <td>Resolved</td>\n",
       "    </tr>\n",
       "    <tr>\n",
       "      <th>4</th>\n",
       "      <td>4</td>\n",
       "      <td>5393</td>\n",
       "      <td>2022-07-03</td>\n",
       "      <td>Inquiry</td>\n",
       "      <td>Unresolved</td>\n",
       "    </tr>\n",
       "  </tbody>\n",
       "</table>\n",
       "</div>"
      ],
      "text/plain": [
       "   CustomerID  InteractionID InteractionDate InteractionType ResolutionStatus\n",
       "0           1           6363      2022-03-31         Inquiry         Resolved\n",
       "1           2           3329      2022-03-17         Inquiry         Resolved\n",
       "2           3           9976      2022-08-24         Inquiry         Resolved\n",
       "3           4           7354      2022-11-18         Inquiry         Resolved\n",
       "4           4           5393      2022-07-03         Inquiry       Unresolved"
      ]
     },
     "execution_count": 113,
     "metadata": {},
     "output_type": "execute_result"
    }
   ],
   "source": [
    "service.head()"
   ]
  },
  {
   "cell_type": "code",
   "execution_count": 114,
   "metadata": {},
   "outputs": [
    {
     "data": {
      "text/html": [
       "<div>\n",
       "<style scoped>\n",
       "    .dataframe tbody tr th:only-of-type {\n",
       "        vertical-align: middle;\n",
       "    }\n",
       "\n",
       "    .dataframe tbody tr th {\n",
       "        vertical-align: top;\n",
       "    }\n",
       "\n",
       "    .dataframe thead th {\n",
       "        text-align: right;\n",
       "    }\n",
       "</style>\n",
       "<table border=\"1\" class=\"dataframe\">\n",
       "  <thead>\n",
       "    <tr style=\"text-align: right;\">\n",
       "      <th></th>\n",
       "      <th>CustomerID</th>\n",
       "      <th>LastLoginDate</th>\n",
       "      <th>LoginFrequency</th>\n",
       "      <th>ServiceUsage</th>\n",
       "    </tr>\n",
       "  </thead>\n",
       "  <tbody>\n",
       "    <tr>\n",
       "      <th>0</th>\n",
       "      <td>1</td>\n",
       "      <td>2023-10-21</td>\n",
       "      <td>34</td>\n",
       "      <td>Mobile App</td>\n",
       "    </tr>\n",
       "    <tr>\n",
       "      <th>1</th>\n",
       "      <td>2</td>\n",
       "      <td>2023-12-05</td>\n",
       "      <td>5</td>\n",
       "      <td>Website</td>\n",
       "    </tr>\n",
       "    <tr>\n",
       "      <th>2</th>\n",
       "      <td>3</td>\n",
       "      <td>2023-11-15</td>\n",
       "      <td>3</td>\n",
       "      <td>Website</td>\n",
       "    </tr>\n",
       "    <tr>\n",
       "      <th>3</th>\n",
       "      <td>4</td>\n",
       "      <td>2023-08-25</td>\n",
       "      <td>2</td>\n",
       "      <td>Website</td>\n",
       "    </tr>\n",
       "    <tr>\n",
       "      <th>4</th>\n",
       "      <td>5</td>\n",
       "      <td>2023-10-27</td>\n",
       "      <td>41</td>\n",
       "      <td>Website</td>\n",
       "    </tr>\n",
       "  </tbody>\n",
       "</table>\n",
       "</div>"
      ],
      "text/plain": [
       "   CustomerID LastLoginDate  LoginFrequency ServiceUsage\n",
       "0           1    2023-10-21              34   Mobile App\n",
       "1           2    2023-12-05               5      Website\n",
       "2           3    2023-11-15               3      Website\n",
       "3           4    2023-08-25               2      Website\n",
       "4           5    2023-10-27              41      Website"
      ]
     },
     "execution_count": 114,
     "metadata": {},
     "output_type": "execute_result"
    }
   ],
   "source": [
    "activity.head()"
   ]
  },
  {
   "cell_type": "code",
   "execution_count": 115,
   "metadata": {},
   "outputs": [
    {
     "data": {
      "text/html": [
       "<div>\n",
       "<style scoped>\n",
       "    .dataframe tbody tr th:only-of-type {\n",
       "        vertical-align: middle;\n",
       "    }\n",
       "\n",
       "    .dataframe tbody tr th {\n",
       "        vertical-align: top;\n",
       "    }\n",
       "\n",
       "    .dataframe thead th {\n",
       "        text-align: right;\n",
       "    }\n",
       "</style>\n",
       "<table border=\"1\" class=\"dataframe\">\n",
       "  <thead>\n",
       "    <tr style=\"text-align: right;\">\n",
       "      <th></th>\n",
       "      <th>CustomerID</th>\n",
       "      <th>ChurnStatus</th>\n",
       "    </tr>\n",
       "  </thead>\n",
       "  <tbody>\n",
       "    <tr>\n",
       "      <th>0</th>\n",
       "      <td>1</td>\n",
       "      <td>0</td>\n",
       "    </tr>\n",
       "    <tr>\n",
       "      <th>1</th>\n",
       "      <td>2</td>\n",
       "      <td>1</td>\n",
       "    </tr>\n",
       "    <tr>\n",
       "      <th>2</th>\n",
       "      <td>3</td>\n",
       "      <td>0</td>\n",
       "    </tr>\n",
       "    <tr>\n",
       "      <th>3</th>\n",
       "      <td>4</td>\n",
       "      <td>0</td>\n",
       "    </tr>\n",
       "    <tr>\n",
       "      <th>4</th>\n",
       "      <td>5</td>\n",
       "      <td>0</td>\n",
       "    </tr>\n",
       "  </tbody>\n",
       "</table>\n",
       "</div>"
      ],
      "text/plain": [
       "   CustomerID ChurnStatus\n",
       "0           1           0\n",
       "1           2           1\n",
       "2           3           0\n",
       "3           4           0\n",
       "4           5           0"
      ]
     },
     "execution_count": 115,
     "metadata": {},
     "output_type": "execute_result"
    }
   ],
   "source": [
    "status.head()"
   ]
  },
  {
   "cell_type": "markdown",
   "metadata": {},
   "source": [
    "\n",
    "## **EDA**\n",
    "\n",
    "### **1. CustomerID numbers**\n",
    "\n",
    "Lets look at how many customers are churning **~20%** of the sampled data "
   ]
  },
  {
   "cell_type": "code",
   "execution_count": 116,
   "metadata": {},
   "outputs": [
    {
     "data": {
      "text/plain": [
       "ChurnStatus\n",
       "0    0.796\n",
       "1    0.204\n",
       "Name: count, dtype: float64"
      ]
     },
     "execution_count": 116,
     "metadata": {},
     "output_type": "execute_result"
    }
   ],
   "source": [
    "numbers = demographic.merge(status,left_on='CustomerID',right_on='CustomerID',how='left').groupby(['ChurnStatus'])['CustomerID'].describe()['count']\n",
    "numbers/numbers.sum()"
   ]
  },
  {
   "cell_type": "markdown",
   "metadata": {},
   "source": [
    "### **2. Demographic relation to churn**\n",
    "\n",
    "From a **demographic** point if view the data tells us that no one feature shows the root causes of churn \n",
    "\n",
    "- For **age groups** churned customer variation:\n",
    "    - The mean churn for each age is evenly distribted \n",
    "    - While age group 50-60 has a slightly higher mean of 22% \n",
    "    - we look at maximum values 30-40 had an age at which 38.4% churned \n",
    "    - The minimum churn values dont differ to much either, all in the region of 5-10%\n",
    "\n",
    "\n",
    "- **Gender** doesnt seem to be critical either, with churned customers being about 50/50 male and female\n",
    "- Marital status showes that a slightly higher number of clients who churned were married or widowed (6, 5.4%) as opposed to single and divorced (4.4, 4.6%), which also indicates that there is no clear pattern responsible for churn\n",
    "- The income group also didnt really add any significant insigh with all three groups sharing about the same distribution of 6.5 - 7.2%"
   ]
  },
  {
   "cell_type": "code",
   "execution_count": 117,
   "metadata": {
    "trusted": true
   },
   "outputs": [],
   "source": [
    "demo_churn = demographic.merge(status,left_on='CustomerID',right_on='CustomerID')"
   ]
  },
  {
   "cell_type": "code",
   "execution_count": 118,
   "metadata": {
    "trusted": true
   },
   "outputs": [],
   "source": [
    "age_churn = demo_churn.groupby(['Age','ChurnStatus']).agg(Counts=('Age','count')).reset_index()\n",
    "tots = demo_churn.groupby(['Age'],as_index=False).agg(Counts=('Age','count'))\n",
    "merged = age_churn.merge(tots,left_on='Age',right_on='Age')\n",
    "merged['Percent'] = ((merged['Counts_x']/merged['Counts_y'])*100).round(2)"
   ]
  },
  {
   "cell_type": "code",
   "execution_count": 119,
   "metadata": {
    "trusted": true
   },
   "outputs": [
    {
     "data": {
      "text/plain": [
       "np.float64(0.204)"
      ]
     },
     "execution_count": 119,
     "metadata": {},
     "output_type": "execute_result"
    }
   ],
   "source": [
    "merged[merged['ChurnStatus'] == 1]['Counts_x'].sum()/merged['Counts_x'].sum()"
   ]
  },
  {
   "cell_type": "code",
   "execution_count": 120,
   "metadata": {
    "trusted": false
   },
   "outputs": [
    {
     "data": {
      "text/html": [
       "<style type=\"text/css\">\n",
       "#T_9b87c_row0_col0, #T_9b87c_row0_col2, #T_9b87c_row0_col6, #T_9b87c_row0_col7, #T_9b87c_row2_col1, #T_9b87c_row2_col3, #T_9b87c_row2_col4, #T_9b87c_row2_col5 {\n",
       "  background-color: #440154;\n",
       "  color: #f1f1f1;\n",
       "}\n",
       "#T_9b87c_row0_col1 {\n",
       "  background-color: #48c16e;\n",
       "  color: #f1f1f1;\n",
       "}\n",
       "#T_9b87c_row0_col3, #T_9b87c_row0_col4, #T_9b87c_row1_col0, #T_9b87c_row2_col0, #T_9b87c_row2_col2, #T_9b87c_row2_col7, #T_9b87c_row3_col0, #T_9b87c_row4_col0, #T_9b87c_row4_col1, #T_9b87c_row4_col5, #T_9b87c_row4_col6 {\n",
       "  background-color: #fde725;\n",
       "  color: #000000;\n",
       "}\n",
       "#T_9b87c_row0_col5 {\n",
       "  background-color: #6ece58;\n",
       "  color: #000000;\n",
       "}\n",
       "#T_9b87c_row1_col1 {\n",
       "  background-color: #3c508b;\n",
       "  color: #f1f1f1;\n",
       "}\n",
       "#T_9b87c_row1_col2 {\n",
       "  background-color: #238a8d;\n",
       "  color: #f1f1f1;\n",
       "}\n",
       "#T_9b87c_row1_col3 {\n",
       "  background-color: #20938c;\n",
       "  color: #f1f1f1;\n",
       "}\n",
       "#T_9b87c_row1_col4 {\n",
       "  background-color: #38588c;\n",
       "  color: #f1f1f1;\n",
       "}\n",
       "#T_9b87c_row1_col5, #T_9b87c_row3_col5 {\n",
       "  background-color: #8bd646;\n",
       "  color: #000000;\n",
       "}\n",
       "#T_9b87c_row1_col6 {\n",
       "  background-color: #482979;\n",
       "  color: #f1f1f1;\n",
       "}\n",
       "#T_9b87c_row1_col7, #T_9b87c_row3_col6 {\n",
       "  background-color: #218e8d;\n",
       "  color: #f1f1f1;\n",
       "}\n",
       "#T_9b87c_row2_col6 {\n",
       "  background-color: #23a983;\n",
       "  color: #f1f1f1;\n",
       "}\n",
       "#T_9b87c_row3_col1 {\n",
       "  background-color: #2cb17e;\n",
       "  color: #f1f1f1;\n",
       "}\n",
       "#T_9b87c_row3_col2 {\n",
       "  background-color: #27ad81;\n",
       "  color: #f1f1f1;\n",
       "}\n",
       "#T_9b87c_row3_col3 {\n",
       "  background-color: #355f8d;\n",
       "  color: #f1f1f1;\n",
       "}\n",
       "#T_9b87c_row3_col4 {\n",
       "  background-color: #1e9d89;\n",
       "  color: #f1f1f1;\n",
       "}\n",
       "#T_9b87c_row3_col7, #T_9b87c_row5_col7 {\n",
       "  background-color: #26ad81;\n",
       "  color: #f1f1f1;\n",
       "}\n",
       "#T_9b87c_row4_col2 {\n",
       "  background-color: #21a685;\n",
       "  color: #f1f1f1;\n",
       "}\n",
       "#T_9b87c_row4_col3 {\n",
       "  background-color: #29af7f;\n",
       "  color: #f1f1f1;\n",
       "}\n",
       "#T_9b87c_row4_col4 {\n",
       "  background-color: #25ac82;\n",
       "  color: #f1f1f1;\n",
       "}\n",
       "#T_9b87c_row4_col7 {\n",
       "  background-color: #5ac864;\n",
       "  color: #000000;\n",
       "}\n",
       "#T_9b87c_row5_col0 {\n",
       "  background-color: #a0da39;\n",
       "  color: #000000;\n",
       "}\n",
       "#T_9b87c_row5_col1 {\n",
       "  background-color: #1f9a8a;\n",
       "  color: #f1f1f1;\n",
       "}\n",
       "#T_9b87c_row5_col2 {\n",
       "  background-color: #35b779;\n",
       "  color: #f1f1f1;\n",
       "}\n",
       "#T_9b87c_row5_col3 {\n",
       "  background-color: #29798e;\n",
       "  color: #f1f1f1;\n",
       "}\n",
       "#T_9b87c_row5_col4 {\n",
       "  background-color: #25838e;\n",
       "  color: #f1f1f1;\n",
       "}\n",
       "#T_9b87c_row5_col5 {\n",
       "  background-color: #481769;\n",
       "  color: #f1f1f1;\n",
       "}\n",
       "#T_9b87c_row5_col6 {\n",
       "  background-color: #bddf26;\n",
       "  color: #000000;\n",
       "}\n",
       "</style>\n",
       "<table id=\"T_9b87c\">\n",
       "  <thead>\n",
       "    <tr>\n",
       "      <th class=\"blank level0\" >&nbsp;</th>\n",
       "      <th id=\"T_9b87c_level0_col0\" class=\"col_heading level0 col0\" >count</th>\n",
       "      <th id=\"T_9b87c_level0_col1\" class=\"col_heading level0 col1\" >mean</th>\n",
       "      <th id=\"T_9b87c_level0_col2\" class=\"col_heading level0 col2\" >std</th>\n",
       "      <th id=\"T_9b87c_level0_col3\" class=\"col_heading level0 col3\" >min</th>\n",
       "      <th id=\"T_9b87c_level0_col4\" class=\"col_heading level0 col4\" >25%</th>\n",
       "      <th id=\"T_9b87c_level0_col5\" class=\"col_heading level0 col5\" >50%</th>\n",
       "      <th id=\"T_9b87c_level0_col6\" class=\"col_heading level0 col6\" >75%</th>\n",
       "      <th id=\"T_9b87c_level0_col7\" class=\"col_heading level0 col7\" >max</th>\n",
       "    </tr>\n",
       "    <tr>\n",
       "      <th class=\"index_name level0\" >Age_bins</th>\n",
       "      <th class=\"blank col0\" >&nbsp;</th>\n",
       "      <th class=\"blank col1\" >&nbsp;</th>\n",
       "      <th class=\"blank col2\" >&nbsp;</th>\n",
       "      <th class=\"blank col3\" >&nbsp;</th>\n",
       "      <th class=\"blank col4\" >&nbsp;</th>\n",
       "      <th class=\"blank col5\" >&nbsp;</th>\n",
       "      <th class=\"blank col6\" >&nbsp;</th>\n",
       "      <th class=\"blank col7\" >&nbsp;</th>\n",
       "    </tr>\n",
       "  </thead>\n",
       "  <tbody>\n",
       "    <tr>\n",
       "      <th id=\"T_9b87c_level0_row0\" class=\"row_heading level0 row0\" >(10, 20]</th>\n",
       "      <td id=\"T_9b87c_row0_col0\" class=\"data row0 col0\" >3.00</td>\n",
       "      <td id=\"T_9b87c_row0_col1\" class=\"data row0 col1\" >21.16</td>\n",
       "      <td id=\"T_9b87c_row0_col2\" class=\"data row0 col2\" >3.69</td>\n",
       "      <td id=\"T_9b87c_row0_col3\" class=\"data row0 col3\" >17.65</td>\n",
       "      <td id=\"T_9b87c_row0_col4\" class=\"data row0 col4\" >19.24</td>\n",
       "      <td id=\"T_9b87c_row0_col5\" class=\"data row0 col5\" >20.83</td>\n",
       "      <td id=\"T_9b87c_row0_col6\" class=\"data row0 col6\" >22.91</td>\n",
       "      <td id=\"T_9b87c_row0_col7\" class=\"data row0 col7\" >25.00</td>\n",
       "    </tr>\n",
       "    <tr>\n",
       "      <th id=\"T_9b87c_level0_row1\" class=\"row_heading level0 row1\" >(20, 30]</th>\n",
       "      <td id=\"T_9b87c_row1_col0\" class=\"data row1 col0\" >10.00</td>\n",
       "      <td id=\"T_9b87c_row1_col1\" class=\"data row1 col1\" >19.29</td>\n",
       "      <td id=\"T_9b87c_row1_col2\" class=\"data row1 col2\" >7.68</td>\n",
       "      <td id=\"T_9b87c_row1_col3\" class=\"data row1 col3\" >9.09</td>\n",
       "      <td id=\"T_9b87c_row1_col4\" class=\"data row1 col4\" >12.71</td>\n",
       "      <td id=\"T_9b87c_row1_col5\" class=\"data row1 col5\" >21.11</td>\n",
       "      <td id=\"T_9b87c_row1_col6\" class=\"data row1 col6\" >23.63</td>\n",
       "      <td id=\"T_9b87c_row1_col7\" class=\"data row1 col7\" >31.58</td>\n",
       "    </tr>\n",
       "    <tr>\n",
       "      <th id=\"T_9b87c_level0_row2\" class=\"row_heading level0 row2\" >(30, 40]</th>\n",
       "      <td id=\"T_9b87c_row2_col0\" class=\"data row2 col0\" >10.00</td>\n",
       "      <td id=\"T_9b87c_row2_col1\" class=\"data row2 col1\" >18.30</td>\n",
       "      <td id=\"T_9b87c_row2_col2\" class=\"data row2 col2\" >12.10</td>\n",
       "      <td id=\"T_9b87c_row2_col3\" class=\"data row2 col3\" >0.00</td>\n",
       "      <td id=\"T_9b87c_row2_col4\" class=\"data row2 col4\" >10.28</td>\n",
       "      <td id=\"T_9b87c_row2_col5\" class=\"data row2 col5\" >16.32</td>\n",
       "      <td id=\"T_9b87c_row2_col6\" class=\"data row2 col6\" >26.70</td>\n",
       "      <td id=\"T_9b87c_row2_col7\" class=\"data row2 col7\" >38.46</td>\n",
       "    </tr>\n",
       "    <tr>\n",
       "      <th id=\"T_9b87c_level0_row3\" class=\"row_heading level0 row3\" >(40, 50]</th>\n",
       "      <td id=\"T_9b87c_row3_col0\" class=\"data row3 col0\" >10.00</td>\n",
       "      <td id=\"T_9b87c_row3_col1\" class=\"data row3 col1\" >20.87</td>\n",
       "      <td id=\"T_9b87c_row3_col2\" class=\"data row3 col2\" >8.92</td>\n",
       "      <td id=\"T_9b87c_row3_col3\" class=\"data row3 col3\" >5.26</td>\n",
       "      <td id=\"T_9b87c_row3_col4\" class=\"data row3 col4\" >15.23</td>\n",
       "      <td id=\"T_9b87c_row3_col5\" class=\"data row3 col5\" >21.11</td>\n",
       "      <td id=\"T_9b87c_row3_col6\" class=\"data row3 col6\" >25.99</td>\n",
       "      <td id=\"T_9b87c_row3_col7\" class=\"data row3 col7\" >33.33</td>\n",
       "    </tr>\n",
       "    <tr>\n",
       "      <th id=\"T_9b87c_level0_row4\" class=\"row_heading level0 row4\" >(50, 60]</th>\n",
       "      <td id=\"T_9b87c_row4_col0\" class=\"data row4 col0\" >10.00</td>\n",
       "      <td id=\"T_9b87c_row4_col1\" class=\"data row4 col1\" >22.32</td>\n",
       "      <td id=\"T_9b87c_row4_col2\" class=\"data row4 col2\" >8.66</td>\n",
       "      <td id=\"T_9b87c_row4_col3\" class=\"data row4 col3\" >11.11</td>\n",
       "      <td id=\"T_9b87c_row4_col4\" class=\"data row4 col4\" >15.79</td>\n",
       "      <td id=\"T_9b87c_row4_col5\" class=\"data row4 col5\" >22.12</td>\n",
       "      <td id=\"T_9b87c_row4_col6\" class=\"data row4 col6\" >29.20</td>\n",
       "      <td id=\"T_9b87c_row4_col7\" class=\"data row4 col7\" >35.00</td>\n",
       "    </tr>\n",
       "    <tr>\n",
       "      <th id=\"T_9b87c_level0_row5\" class=\"row_heading level0 row5\" >(60, 70]</th>\n",
       "      <td id=\"T_9b87c_row5_col0\" class=\"data row5 col0\" >9.00</td>\n",
       "      <td id=\"T_9b87c_row5_col1\" class=\"data row5 col1\" >20.47</td>\n",
       "      <td id=\"T_9b87c_row5_col2\" class=\"data row5 col2\" >9.27</td>\n",
       "      <td id=\"T_9b87c_row5_col3\" class=\"data row5 col3\" >7.14</td>\n",
       "      <td id=\"T_9b87c_row5_col4\" class=\"data row5 col4\" >14.29</td>\n",
       "      <td id=\"T_9b87c_row5_col5\" class=\"data row5 col5\" >16.67</td>\n",
       "      <td id=\"T_9b87c_row5_col6\" class=\"data row5 col6\" >28.57</td>\n",
       "      <td id=\"T_9b87c_row5_col7\" class=\"data row5 col7\" >33.33</td>\n",
       "    </tr>\n",
       "  </tbody>\n",
       "</table>\n"
      ],
      "text/plain": [
       "<pandas.io.formats.style.Styler at 0x70d7e9d41190>"
      ]
     },
     "execution_count": 120,
     "metadata": {},
     "output_type": "execute_result"
    }
   ],
   "source": [
    "# age bins of customers who churned\n",
    "merged['Age_bins'] = pd.cut(merged['Age'],[10,20,30,40,50,60,70])\n",
    "merged['Age_bins'] = merged['Age_bins'].astype('string')\n",
    "merged[merged['ChurnStatus'] == 1].groupby(['Age_bins'])['Percent'].describe().style.background_gradient(cmap='viridis').format(\"{:.2f}\")"
   ]
  },
  {
   "cell_type": "code",
   "execution_count": 121,
   "metadata": {},
   "outputs": [
    {
     "data": {
      "text/html": [
       "<style type=\"text/css\">\n",
       "#T_1c8ea_row0_col0, #T_1c8ea_row0_col2, #T_1c8ea_row0_col6, #T_1c8ea_row0_col7, #T_1c8ea_row2_col3, #T_1c8ea_row4_col1, #T_1c8ea_row4_col4, #T_1c8ea_row4_col5 {\n",
       "  background-color: #440154;\n",
       "  color: #f1f1f1;\n",
       "}\n",
       "#T_1c8ea_row0_col1 {\n",
       "  background-color: #365d8d;\n",
       "  color: #f1f1f1;\n",
       "}\n",
       "#T_1c8ea_row0_col3, #T_1c8ea_row0_col4, #T_1c8ea_row1_col0, #T_1c8ea_row2_col0, #T_1c8ea_row2_col1, #T_1c8ea_row2_col2, #T_1c8ea_row2_col5, #T_1c8ea_row2_col6, #T_1c8ea_row2_col7, #T_1c8ea_row3_col0, #T_1c8ea_row4_col0 {\n",
       "  background-color: #fde725;\n",
       "  color: #000000;\n",
       "}\n",
       "#T_1c8ea_row0_col5 {\n",
       "  background-color: #3e4989;\n",
       "  color: #f1f1f1;\n",
       "}\n",
       "#T_1c8ea_row1_col1 {\n",
       "  background-color: #60ca60;\n",
       "  color: #000000;\n",
       "}\n",
       "#T_1c8ea_row1_col2 {\n",
       "  background-color: #238a8d;\n",
       "  color: #f1f1f1;\n",
       "}\n",
       "#T_1c8ea_row1_col3, #T_1c8ea_row3_col4 {\n",
       "  background-color: #20928c;\n",
       "  color: #f1f1f1;\n",
       "}\n",
       "#T_1c8ea_row1_col4 {\n",
       "  background-color: #b2dd2d;\n",
       "  color: #000000;\n",
       "}\n",
       "#T_1c8ea_row1_col5, #T_1c8ea_row3_col5 {\n",
       "  background-color: #443b84;\n",
       "  color: #f1f1f1;\n",
       "}\n",
       "#T_1c8ea_row1_col6 {\n",
       "  background-color: #52c569;\n",
       "  color: #000000;\n",
       "}\n",
       "#T_1c8ea_row1_col7 {\n",
       "  background-color: #228d8d;\n",
       "  color: #f1f1f1;\n",
       "}\n",
       "#T_1c8ea_row2_col4 {\n",
       "  background-color: #2a778e;\n",
       "  color: #f1f1f1;\n",
       "}\n",
       "#T_1c8ea_row3_col1 {\n",
       "  background-color: #2e6f8e;\n",
       "  color: #f1f1f1;\n",
       "}\n",
       "#T_1c8ea_row3_col2 {\n",
       "  background-color: #27ad81;\n",
       "  color: #f1f1f1;\n",
       "}\n",
       "#T_1c8ea_row3_col3, #T_1c8ea_row5_col3 {\n",
       "  background-color: #2c738e;\n",
       "  color: #f1f1f1;\n",
       "}\n",
       "#T_1c8ea_row3_col6 {\n",
       "  background-color: #25838e;\n",
       "  color: #f1f1f1;\n",
       "}\n",
       "#T_1c8ea_row3_col7 {\n",
       "  background-color: #44bf70;\n",
       "  color: #f1f1f1;\n",
       "}\n",
       "#T_1c8ea_row4_col2 {\n",
       "  background-color: #21a685;\n",
       "  color: #f1f1f1;\n",
       "}\n",
       "#T_1c8ea_row4_col3 {\n",
       "  background-color: #3a538b;\n",
       "  color: #f1f1f1;\n",
       "}\n",
       "#T_1c8ea_row4_col6 {\n",
       "  background-color: #2b748e;\n",
       "  color: #f1f1f1;\n",
       "}\n",
       "#T_1c8ea_row4_col7 {\n",
       "  background-color: #2d718e;\n",
       "  color: #f1f1f1;\n",
       "}\n",
       "#T_1c8ea_row5_col0 {\n",
       "  background-color: #a0da39;\n",
       "  color: #000000;\n",
       "}\n",
       "#T_1c8ea_row5_col1 {\n",
       "  background-color: #24868e;\n",
       "  color: #f1f1f1;\n",
       "}\n",
       "#T_1c8ea_row5_col2 {\n",
       "  background-color: #35b779;\n",
       "  color: #f1f1f1;\n",
       "}\n",
       "#T_1c8ea_row5_col4 {\n",
       "  background-color: #482475;\n",
       "  color: #f1f1f1;\n",
       "}\n",
       "#T_1c8ea_row5_col5 {\n",
       "  background-color: #d8e219;\n",
       "  color: #000000;\n",
       "}\n",
       "#T_1c8ea_row5_col6 {\n",
       "  background-color: #1e9d89;\n",
       "  color: #f1f1f1;\n",
       "}\n",
       "#T_1c8ea_row5_col7 {\n",
       "  background-color: #22a785;\n",
       "  color: #f1f1f1;\n",
       "}\n",
       "</style>\n",
       "<table id=\"T_1c8ea\">\n",
       "  <thead>\n",
       "    <tr>\n",
       "      <th class=\"blank level0\" >&nbsp;</th>\n",
       "      <th id=\"T_1c8ea_level0_col0\" class=\"col_heading level0 col0\" >count</th>\n",
       "      <th id=\"T_1c8ea_level0_col1\" class=\"col_heading level0 col1\" >mean</th>\n",
       "      <th id=\"T_1c8ea_level0_col2\" class=\"col_heading level0 col2\" >std</th>\n",
       "      <th id=\"T_1c8ea_level0_col3\" class=\"col_heading level0 col3\" >min</th>\n",
       "      <th id=\"T_1c8ea_level0_col4\" class=\"col_heading level0 col4\" >25%</th>\n",
       "      <th id=\"T_1c8ea_level0_col5\" class=\"col_heading level0 col5\" >50%</th>\n",
       "      <th id=\"T_1c8ea_level0_col6\" class=\"col_heading level0 col6\" >75%</th>\n",
       "      <th id=\"T_1c8ea_level0_col7\" class=\"col_heading level0 col7\" >max</th>\n",
       "    </tr>\n",
       "    <tr>\n",
       "      <th class=\"index_name level0\" >Age_bins</th>\n",
       "      <th class=\"blank col0\" >&nbsp;</th>\n",
       "      <th class=\"blank col1\" >&nbsp;</th>\n",
       "      <th class=\"blank col2\" >&nbsp;</th>\n",
       "      <th class=\"blank col3\" >&nbsp;</th>\n",
       "      <th class=\"blank col4\" >&nbsp;</th>\n",
       "      <th class=\"blank col5\" >&nbsp;</th>\n",
       "      <th class=\"blank col6\" >&nbsp;</th>\n",
       "      <th class=\"blank col7\" >&nbsp;</th>\n",
       "    </tr>\n",
       "  </thead>\n",
       "  <tbody>\n",
       "    <tr>\n",
       "      <th id=\"T_1c8ea_level0_row0\" class=\"row_heading level0 row0\" >(10, 20]</th>\n",
       "      <td id=\"T_1c8ea_row0_col0\" class=\"data row0 col0\" >3.00</td>\n",
       "      <td id=\"T_1c8ea_row0_col1\" class=\"data row0 col1\" >78.84</td>\n",
       "      <td id=\"T_1c8ea_row0_col2\" class=\"data row0 col2\" >3.69</td>\n",
       "      <td id=\"T_1c8ea_row0_col3\" class=\"data row0 col3\" >75.00</td>\n",
       "      <td id=\"T_1c8ea_row0_col4\" class=\"data row0 col4\" >77.09</td>\n",
       "      <td id=\"T_1c8ea_row0_col5\" class=\"data row0 col5\" >79.17</td>\n",
       "      <td id=\"T_1c8ea_row0_col6\" class=\"data row0 col6\" >80.76</td>\n",
       "      <td id=\"T_1c8ea_row0_col7\" class=\"data row0 col7\" >82.35</td>\n",
       "    </tr>\n",
       "    <tr>\n",
       "      <th id=\"T_1c8ea_level0_row1\" class=\"row_heading level0 row1\" >(20, 30]</th>\n",
       "      <td id=\"T_1c8ea_row1_col0\" class=\"data row1 col0\" >10.00</td>\n",
       "      <td id=\"T_1c8ea_row1_col1\" class=\"data row1 col1\" >80.71</td>\n",
       "      <td id=\"T_1c8ea_row1_col2\" class=\"data row1 col2\" >7.68</td>\n",
       "      <td id=\"T_1c8ea_row1_col3\" class=\"data row1 col3\" >68.42</td>\n",
       "      <td id=\"T_1c8ea_row1_col4\" class=\"data row1 col4\" >76.37</td>\n",
       "      <td id=\"T_1c8ea_row1_col5\" class=\"data row1 col5\" >78.89</td>\n",
       "      <td id=\"T_1c8ea_row1_col6\" class=\"data row1 col6\" >87.29</td>\n",
       "      <td id=\"T_1c8ea_row1_col7\" class=\"data row1 col7\" >90.91</td>\n",
       "    </tr>\n",
       "    <tr>\n",
       "      <th id=\"T_1c8ea_level0_row2\" class=\"row_heading level0 row2\" >(30, 40]</th>\n",
       "      <td id=\"T_1c8ea_row2_col0\" class=\"data row2 col0\" >10.00</td>\n",
       "      <td id=\"T_1c8ea_row2_col1\" class=\"data row2 col1\" >81.70</td>\n",
       "      <td id=\"T_1c8ea_row2_col2\" class=\"data row2 col2\" >12.10</td>\n",
       "      <td id=\"T_1c8ea_row2_col3\" class=\"data row2 col3\" >61.54</td>\n",
       "      <td id=\"T_1c8ea_row2_col4\" class=\"data row2 col4\" >73.30</td>\n",
       "      <td id=\"T_1c8ea_row2_col5\" class=\"data row2 col5\" >83.67</td>\n",
       "      <td id=\"T_1c8ea_row2_col6\" class=\"data row2 col6\" >89.72</td>\n",
       "      <td id=\"T_1c8ea_row2_col7\" class=\"data row2 col7\" >100.00</td>\n",
       "    </tr>\n",
       "    <tr>\n",
       "      <th id=\"T_1c8ea_level0_row3\" class=\"row_heading level0 row3\" >(40, 50]</th>\n",
       "      <td id=\"T_1c8ea_row3_col0\" class=\"data row3 col0\" >10.00</td>\n",
       "      <td id=\"T_1c8ea_row3_col1\" class=\"data row3 col1\" >79.13</td>\n",
       "      <td id=\"T_1c8ea_row3_col2\" class=\"data row3 col2\" >8.92</td>\n",
       "      <td id=\"T_1c8ea_row3_col3\" class=\"data row3 col3\" >66.67</td>\n",
       "      <td id=\"T_1c8ea_row3_col4\" class=\"data row3 col4\" >74.01</td>\n",
       "      <td id=\"T_1c8ea_row3_col5\" class=\"data row3 col5\" >78.89</td>\n",
       "      <td id=\"T_1c8ea_row3_col6\" class=\"data row3 col6\" >84.77</td>\n",
       "      <td id=\"T_1c8ea_row3_col7\" class=\"data row3 col7\" >94.74</td>\n",
       "    </tr>\n",
       "    <tr>\n",
       "      <th id=\"T_1c8ea_level0_row4\" class=\"row_heading level0 row4\" >(50, 60]</th>\n",
       "      <td id=\"T_1c8ea_row4_col0\" class=\"data row4 col0\" >10.00</td>\n",
       "      <td id=\"T_1c8ea_row4_col1\" class=\"data row4 col1\" >77.68</td>\n",
       "      <td id=\"T_1c8ea_row4_col2\" class=\"data row4 col2\" >8.66</td>\n",
       "      <td id=\"T_1c8ea_row4_col3\" class=\"data row4 col3\" >65.00</td>\n",
       "      <td id=\"T_1c8ea_row4_col4\" class=\"data row4 col4\" >70.80</td>\n",
       "      <td id=\"T_1c8ea_row4_col5\" class=\"data row4 col5\" >77.88</td>\n",
       "      <td id=\"T_1c8ea_row4_col6\" class=\"data row4 col6\" >84.21</td>\n",
       "      <td id=\"T_1c8ea_row4_col7\" class=\"data row4 col7\" >88.89</td>\n",
       "    </tr>\n",
       "    <tr>\n",
       "      <th id=\"T_1c8ea_level0_row5\" class=\"row_heading level0 row5\" >(60, 70]</th>\n",
       "      <td id=\"T_1c8ea_row5_col0\" class=\"data row5 col0\" >9.00</td>\n",
       "      <td id=\"T_1c8ea_row5_col1\" class=\"data row5 col1\" >79.53</td>\n",
       "      <td id=\"T_1c8ea_row5_col2\" class=\"data row5 col2\" >9.27</td>\n",
       "      <td id=\"T_1c8ea_row5_col3\" class=\"data row5 col3\" >66.67</td>\n",
       "      <td id=\"T_1c8ea_row5_col4\" class=\"data row5 col4\" >71.43</td>\n",
       "      <td id=\"T_1c8ea_row5_col5\" class=\"data row5 col5\" >83.33</td>\n",
       "      <td id=\"T_1c8ea_row5_col6\" class=\"data row5 col6\" >85.71</td>\n",
       "      <td id=\"T_1c8ea_row5_col7\" class=\"data row5 col7\" >92.86</td>\n",
       "    </tr>\n",
       "  </tbody>\n",
       "</table>\n"
      ],
      "text/plain": [
       "<pandas.io.formats.style.Styler at 0x70d7e35e8620>"
      ]
     },
     "execution_count": 121,
     "metadata": {},
     "output_type": "execute_result"
    }
   ],
   "source": [
    "merged[merged['ChurnStatus'] == 0].groupby(['Age_bins'])['Percent'].describe().style.background_gradient(cmap='viridis').format(\"{:.2f}\")"
   ]
  },
  {
   "cell_type": "code",
   "execution_count": 122,
   "metadata": {},
   "outputs": [],
   "source": [
    "def m(x):\n",
    "    return x.style.background_gradient(cmap='viridis').format(\"{:.2f}\")"
   ]
  },
  {
   "cell_type": "code",
   "execution_count": 123,
   "metadata": {
    "trusted": false
   },
   "outputs": [
    {
     "data": {
      "text/html": [
       "<style type=\"text/css\">\n",
       "#T_a103b_row0_col0, #T_a103b_row0_col1 {\n",
       "  background-color: #fde725;\n",
       "  color: #000000;\n",
       "}\n",
       "#T_a103b_row1_col0, #T_a103b_row1_col1 {\n",
       "  background-color: #440154;\n",
       "  color: #f1f1f1;\n",
       "}\n",
       "#T_a103b_row2_col0, #T_a103b_row2_col1 {\n",
       "  background-color: #c2df23;\n",
       "  color: #000000;\n",
       "}\n",
       "#T_a103b_row3_col0, #T_a103b_row3_col1 {\n",
       "  background-color: #440256;\n",
       "  color: #f1f1f1;\n",
       "}\n",
       "</style>\n",
       "<table id=\"T_a103b\">\n",
       "  <thead>\n",
       "    <tr>\n",
       "      <th class=\"blank\" >&nbsp;</th>\n",
       "      <th class=\"blank level0\" >&nbsp;</th>\n",
       "      <th id=\"T_a103b_level0_col0\" class=\"col_heading level0 col0\" >counts</th>\n",
       "      <th id=\"T_a103b_level0_col1\" class=\"col_heading level0 col1\" >percentage</th>\n",
       "    </tr>\n",
       "    <tr>\n",
       "      <th class=\"index_name level0\" >Gender</th>\n",
       "      <th class=\"index_name level1\" >ChurnStatus</th>\n",
       "      <th class=\"blank col0\" >&nbsp;</th>\n",
       "      <th class=\"blank col1\" >&nbsp;</th>\n",
       "    </tr>\n",
       "  </thead>\n",
       "  <tbody>\n",
       "    <tr>\n",
       "      <th id=\"T_a103b_level0_row0\" class=\"row_heading level0 row0\" rowspan=\"2\">F</th>\n",
       "      <th id=\"T_a103b_level1_row0\" class=\"row_heading level1 row0\" >0</th>\n",
       "      <td id=\"T_a103b_row0_col0\" class=\"data row0 col0\" >412.00</td>\n",
       "      <td id=\"T_a103b_row0_col1\" class=\"data row0 col1\" >41.20</td>\n",
       "    </tr>\n",
       "    <tr>\n",
       "      <th id=\"T_a103b_level1_row1\" class=\"row_heading level1 row1\" >1</th>\n",
       "      <td id=\"T_a103b_row1_col0\" class=\"data row1 col0\" >101.00</td>\n",
       "      <td id=\"T_a103b_row1_col1\" class=\"data row1 col1\" >10.10</td>\n",
       "    </tr>\n",
       "    <tr>\n",
       "      <th id=\"T_a103b_level0_row2\" class=\"row_heading level0 row2\" rowspan=\"2\">M</th>\n",
       "      <th id=\"T_a103b_level1_row2\" class=\"row_heading level1 row2\" >0</th>\n",
       "      <td id=\"T_a103b_row2_col0\" class=\"data row2 col0\" >384.00</td>\n",
       "      <td id=\"T_a103b_row2_col1\" class=\"data row2 col1\" >38.40</td>\n",
       "    </tr>\n",
       "    <tr>\n",
       "      <th id=\"T_a103b_level1_row3\" class=\"row_heading level1 row3\" >1</th>\n",
       "      <td id=\"T_a103b_row3_col0\" class=\"data row3 col0\" >103.00</td>\n",
       "      <td id=\"T_a103b_row3_col1\" class=\"data row3 col1\" >10.30</td>\n",
       "    </tr>\n",
       "  </tbody>\n",
       "</table>\n"
      ],
      "text/plain": [
       "<pandas.io.formats.style.Styler at 0x70d7e990f9b0>"
      ]
     },
     "execution_count": 123,
     "metadata": {},
     "output_type": "execute_result"
    }
   ],
   "source": [
    "gender_churn = demo_churn.groupby(['Gender','ChurnStatus']).agg(counts=('Age','count'))\n",
    "gender_churn['percentage'] = 100 * gender_churn['counts'] / gender_churn['counts'].sum()\n",
    "\n",
    "m(gender_churn)"
   ]
  },
  {
   "cell_type": "code",
   "execution_count": 124,
   "metadata": {
    "trusted": false
   },
   "outputs": [
    {
     "data": {
      "text/html": [
       "<style type=\"text/css\">\n",
       "#T_a866b_row0_col0, #T_a866b_row0_col1 {\n",
       "  background-color: #b5de2b;\n",
       "  color: #000000;\n",
       "}\n",
       "#T_a866b_row1_col0, #T_a866b_row1_col1 {\n",
       "  background-color: #450457;\n",
       "  color: #f1f1f1;\n",
       "}\n",
       "#T_a866b_row2_col0, #T_a866b_row2_col1 {\n",
       "  background-color: #b0dd2f;\n",
       "  color: #000000;\n",
       "}\n",
       "#T_a866b_row3_col0, #T_a866b_row3_col1 {\n",
       "  background-color: #482173;\n",
       "  color: #f1f1f1;\n",
       "}\n",
       "#T_a866b_row4_col0, #T_a866b_row4_col1 {\n",
       "  background-color: #4ac16d;\n",
       "  color: #000000;\n",
       "}\n",
       "#T_a866b_row5_col0, #T_a866b_row5_col1 {\n",
       "  background-color: #440154;\n",
       "  color: #f1f1f1;\n",
       "}\n",
       "#T_a866b_row6_col0, #T_a866b_row6_col1 {\n",
       "  background-color: #fde725;\n",
       "  color: #000000;\n",
       "}\n",
       "#T_a866b_row7_col0, #T_a866b_row7_col1 {\n",
       "  background-color: #481668;\n",
       "  color: #f1f1f1;\n",
       "}\n",
       "</style>\n",
       "<table id=\"T_a866b\">\n",
       "  <thead>\n",
       "    <tr>\n",
       "      <th class=\"blank\" >&nbsp;</th>\n",
       "      <th class=\"blank level0\" >&nbsp;</th>\n",
       "      <th id=\"T_a866b_level0_col0\" class=\"col_heading level0 col0\" >counts</th>\n",
       "      <th id=\"T_a866b_level0_col1\" class=\"col_heading level0 col1\" >percentage</th>\n",
       "    </tr>\n",
       "    <tr>\n",
       "      <th class=\"index_name level0\" >MaritalStatus</th>\n",
       "      <th class=\"index_name level1\" >ChurnStatus</th>\n",
       "      <th class=\"blank col0\" >&nbsp;</th>\n",
       "      <th class=\"blank col1\" >&nbsp;</th>\n",
       "    </tr>\n",
       "  </thead>\n",
       "  <tbody>\n",
       "    <tr>\n",
       "      <th id=\"T_a866b_level0_row0\" class=\"row_heading level0 row0\" rowspan=\"2\">Divorced</th>\n",
       "      <th id=\"T_a866b_level1_row0\" class=\"row_heading level1 row0\" >0</th>\n",
       "      <td id=\"T_a866b_row0_col0\" class=\"data row0 col0\" >202.00</td>\n",
       "      <td id=\"T_a866b_row0_col1\" class=\"data row0 col1\" >20.20</td>\n",
       "    </tr>\n",
       "    <tr>\n",
       "      <th id=\"T_a866b_level1_row1\" class=\"row_heading level1 row1\" >1</th>\n",
       "      <td id=\"T_a866b_row1_col0\" class=\"data row1 col0\" >46.00</td>\n",
       "      <td id=\"T_a866b_row1_col1\" class=\"data row1 col1\" >4.60</td>\n",
       "    </tr>\n",
       "    <tr>\n",
       "      <th id=\"T_a866b_level0_row2\" class=\"row_heading level0 row2\" rowspan=\"2\">Married</th>\n",
       "      <th id=\"T_a866b_level1_row2\" class=\"row_heading level1 row2\" >0</th>\n",
       "      <td id=\"T_a866b_row2_col0\" class=\"data row2 col0\" >201.00</td>\n",
       "      <td id=\"T_a866b_row2_col1\" class=\"data row2 col1\" >20.10</td>\n",
       "    </tr>\n",
       "    <tr>\n",
       "      <th id=\"T_a866b_level1_row3\" class=\"row_heading level1 row3\" >1</th>\n",
       "      <td id=\"T_a866b_row3_col0\" class=\"data row3 col0\" >60.00</td>\n",
       "      <td id=\"T_a866b_row3_col1\" class=\"data row3 col1\" >6.00</td>\n",
       "    </tr>\n",
       "    <tr>\n",
       "      <th id=\"T_a866b_level0_row4\" class=\"row_heading level0 row4\" rowspan=\"2\">Single</th>\n",
       "      <th id=\"T_a866b_level1_row4\" class=\"row_heading level1 row4\" >0</th>\n",
       "      <td id=\"T_a866b_row4_col0\" class=\"data row4 col0\" >171.00</td>\n",
       "      <td id=\"T_a866b_row4_col1\" class=\"data row4 col1\" >17.10</td>\n",
       "    </tr>\n",
       "    <tr>\n",
       "      <th id=\"T_a866b_level1_row5\" class=\"row_heading level1 row5\" >1</th>\n",
       "      <td id=\"T_a866b_row5_col0\" class=\"data row5 col0\" >44.00</td>\n",
       "      <td id=\"T_a866b_row5_col1\" class=\"data row5 col1\" >4.40</td>\n",
       "    </tr>\n",
       "    <tr>\n",
       "      <th id=\"T_a866b_level0_row6\" class=\"row_heading level0 row6\" rowspan=\"2\">Widowed</th>\n",
       "      <th id=\"T_a866b_level1_row6\" class=\"row_heading level1 row6\" >0</th>\n",
       "      <td id=\"T_a866b_row6_col0\" class=\"data row6 col0\" >222.00</td>\n",
       "      <td id=\"T_a866b_row6_col1\" class=\"data row6 col1\" >22.20</td>\n",
       "    </tr>\n",
       "    <tr>\n",
       "      <th id=\"T_a866b_level1_row7\" class=\"row_heading level1 row7\" >1</th>\n",
       "      <td id=\"T_a866b_row7_col0\" class=\"data row7 col0\" >54.00</td>\n",
       "      <td id=\"T_a866b_row7_col1\" class=\"data row7 col1\" >5.40</td>\n",
       "    </tr>\n",
       "  </tbody>\n",
       "</table>\n"
      ],
      "text/plain": [
       "<pandas.io.formats.style.Styler at 0x70d7e35ea5a0>"
      ]
     },
     "execution_count": 124,
     "metadata": {},
     "output_type": "execute_result"
    }
   ],
   "source": [
    "marital_churn = demo_churn.groupby(['MaritalStatus','ChurnStatus']).agg(counts=('Age','count')) \n",
    "marital_churn['percentage'] = 100 * marital_churn['counts'] / marital_churn['counts'].sum()\n",
    "m(marital_churn)"
   ]
  },
  {
   "cell_type": "code",
   "execution_count": 125,
   "metadata": {
    "trusted": false
   },
   "outputs": [
    {
     "data": {
      "text/html": [
       "<style type=\"text/css\">\n",
       "#T_0f47d_row0_col0, #T_0f47d_row0_col1 {\n",
       "  background-color: #fde725;\n",
       "  color: #000000;\n",
       "}\n",
       "#T_0f47d_row1_col0, #T_0f47d_row1_col1 {\n",
       "  background-color: #450457;\n",
       "  color: #f1f1f1;\n",
       "}\n",
       "#T_0f47d_row2_col0, #T_0f47d_row2_col1 {\n",
       "  background-color: #a5db36;\n",
       "  color: #000000;\n",
       "}\n",
       "#T_0f47d_row3_col0, #T_0f47d_row3_col1 {\n",
       "  background-color: #470d60;\n",
       "  color: #f1f1f1;\n",
       "}\n",
       "#T_0f47d_row4_col0, #T_0f47d_row4_col1 {\n",
       "  background-color: #c0df25;\n",
       "  color: #000000;\n",
       "}\n",
       "#T_0f47d_row5_col0, #T_0f47d_row5_col1 {\n",
       "  background-color: #440154;\n",
       "  color: #f1f1f1;\n",
       "}\n",
       "</style>\n",
       "<table id=\"T_0f47d\">\n",
       "  <thead>\n",
       "    <tr>\n",
       "      <th class=\"blank\" >&nbsp;</th>\n",
       "      <th class=\"blank level0\" >&nbsp;</th>\n",
       "      <th id=\"T_0f47d_level0_col0\" class=\"col_heading level0 col0\" >counts</th>\n",
       "      <th id=\"T_0f47d_level0_col1\" class=\"col_heading level0 col1\" >percentage</th>\n",
       "    </tr>\n",
       "    <tr>\n",
       "      <th class=\"index_name level0\" >IncomeLevel</th>\n",
       "      <th class=\"index_name level1\" >ChurnStatus</th>\n",
       "      <th class=\"blank col0\" >&nbsp;</th>\n",
       "      <th class=\"blank col1\" >&nbsp;</th>\n",
       "    </tr>\n",
       "  </thead>\n",
       "  <tbody>\n",
       "    <tr>\n",
       "      <th id=\"T_0f47d_level0_row0\" class=\"row_heading level0 row0\" rowspan=\"2\">High</th>\n",
       "      <th id=\"T_0f47d_level1_row0\" class=\"row_heading level1 row0\" >0</th>\n",
       "      <td id=\"T_0f47d_row0_col0\" class=\"data row0 col0\" >282.00</td>\n",
       "      <td id=\"T_0f47d_row0_col1\" class=\"data row0 col1\" >28.20</td>\n",
       "    </tr>\n",
       "    <tr>\n",
       "      <th id=\"T_0f47d_level1_row1\" class=\"row_heading level1 row1\" >1</th>\n",
       "      <td id=\"T_0f47d_row1_col0\" class=\"data row1 col0\" >67.00</td>\n",
       "      <td id=\"T_0f47d_row1_col1\" class=\"data row1 col1\" >6.70</td>\n",
       "    </tr>\n",
       "    <tr>\n",
       "      <th id=\"T_0f47d_level0_row2\" class=\"row_heading level0 row2\" rowspan=\"2\">Low</th>\n",
       "      <th id=\"T_0f47d_level1_row2\" class=\"row_heading level1 row2\" >0</th>\n",
       "      <td id=\"T_0f47d_row2_col0\" class=\"data row2 col0\" >253.00</td>\n",
       "      <td id=\"T_0f47d_row2_col1\" class=\"data row2 col1\" >25.30</td>\n",
       "    </tr>\n",
       "    <tr>\n",
       "      <th id=\"T_0f47d_level1_row3\" class=\"row_heading level1 row3\" >1</th>\n",
       "      <td id=\"T_0f47d_row3_col0\" class=\"data row3 col0\" >72.00</td>\n",
       "      <td id=\"T_0f47d_row3_col1\" class=\"data row3 col1\" >7.20</td>\n",
       "    </tr>\n",
       "    <tr>\n",
       "      <th id=\"T_0f47d_level0_row4\" class=\"row_heading level0 row4\" rowspan=\"2\">Medium</th>\n",
       "      <th id=\"T_0f47d_level1_row4\" class=\"row_heading level1 row4\" >0</th>\n",
       "      <td id=\"T_0f47d_row4_col0\" class=\"data row4 col0\" >261.00</td>\n",
       "      <td id=\"T_0f47d_row4_col1\" class=\"data row4 col1\" >26.10</td>\n",
       "    </tr>\n",
       "    <tr>\n",
       "      <th id=\"T_0f47d_level1_row5\" class=\"row_heading level1 row5\" >1</th>\n",
       "      <td id=\"T_0f47d_row5_col0\" class=\"data row5 col0\" >65.00</td>\n",
       "      <td id=\"T_0f47d_row5_col1\" class=\"data row5 col1\" >6.50</td>\n",
       "    </tr>\n",
       "  </tbody>\n",
       "</table>\n"
      ],
      "text/plain": [
       "<pandas.io.formats.style.Styler at 0x70d7e99fc950>"
      ]
     },
     "execution_count": 125,
     "metadata": {},
     "output_type": "execute_result"
    }
   ],
   "source": [
    "income_churn = demo_churn.groupby(['IncomeLevel','ChurnStatus']).agg(counts=('Age','count'))\n",
    "income_churn['percentage'] = 100 * income_churn['counts'] / income_churn['counts'].sum()\n",
    "m(income_churn)"
   ]
  },
  {
   "cell_type": "markdown",
   "metadata": {},
   "source": [
    "### **3. User transaction relation to churn**\n",
    "\n",
    "For **transactional** data, we have more features to differentiate both groups\n",
    "\n",
    "- Whilst there is no difference in the **number of purchases** of each group\n",
    "- We start to see some clear variation in spending in various **ProductCategory**; especially evident in statistics of grocery purchases. \n",
    "- The mean purchases of customers who churned is much higher (mean,25% & 50% subsets)\n",
    "\n",
    "<br>\n",
    "\n",
    "```markdown\n",
    "\t                count\tmean\tstd\tmin\t25%\t50%\t75%\tmax\n",
    "Groceries\t0\t820.0\t251.88\t145.05\t5.20\t126.24\t249.44\t381.39\t499.57\n",
    "                1\t200.0\t272.95\t138.11\t5.92\t161.76\t277.58\t389.38\t494.90\n",
    "```\n",
    "\n",
    "**Historical transaction** data:\n",
    "\n",
    "- Average/Mean spending across all categories is about the same over time\n",
    "- Maximum spending of churned customers is noticably less than those who didn't churn, especially in the **last 6 months**\n",
    "- For **groceries**, historical data also confirms that churned customers tend to spend much more on groceries, on multiple occasions, the difference between these two groups is very significant (**1.5 - 2 times**)"
   ]
  },
  {
   "cell_type": "code",
   "execution_count": 126,
   "metadata": {
    "trusted": true
   },
   "outputs": [
    {
     "data": {
      "text/plain": [
       "ChurnStatus\n",
       "0    5.0\n",
       "1    5.0\n",
       "Name: Counts, dtype: float64"
      ]
     },
     "execution_count": 126,
     "metadata": {},
     "output_type": "execute_result"
    }
   ],
   "source": [
    "# average number of transactions\n",
    "transaction_churn = transaction.groupby(['CustomerID'],as_index=False).agg(Counts=('TransactionID','count')).merge(status,left_on='CustomerID',right_on='CustomerID')\n",
    "transaction_churn['Active'] = transaction_churn['Counts'].apply(lambda x: x > 0)\n",
    "transaction_churn.groupby(['ChurnStatus'])['Counts'].median()"
   ]
  },
  {
   "cell_type": "code",
   "execution_count": 127,
   "metadata": {
    "trusted": true
   },
   "outputs": [],
   "source": [
    "# average transaction by user\n",
    "transaction_data = transaction.merge(status,left_on='CustomerID',right_on='CustomerID')"
   ]
  },
  {
   "cell_type": "markdown",
   "metadata": {},
   "source": [
    "Lets check how each groups tends to spend on different **product categories** "
   ]
  },
  {
   "cell_type": "code",
   "execution_count": 128,
   "metadata": {
    "trusted": true
   },
   "outputs": [
    {
     "data": {
      "text/html": [
       "<style type=\"text/css\">\n",
       "#T_a2488_row0_col0, #T_a2488_row1_col7, #T_a2488_row3_col2, #T_a2488_row3_col6, #T_a2488_row6_col3, #T_a2488_row9_col1, #T_a2488_row9_col4, #T_a2488_row9_col5 {\n",
       "  background-color: #fde725;\n",
       "  color: #000000;\n",
       "}\n",
       "#T_a2488_row0_col1, #T_a2488_row4_col3 {\n",
       "  background-color: #3f4889;\n",
       "  color: #f1f1f1;\n",
       "}\n",
       "#T_a2488_row0_col2, #T_a2488_row5_col6 {\n",
       "  background-color: #3e4a89;\n",
       "  color: #f1f1f1;\n",
       "}\n",
       "#T_a2488_row0_col3, #T_a2488_row3_col0, #T_a2488_row3_col4, #T_a2488_row5_col7, #T_a2488_row6_col6, #T_a2488_row7_col1, #T_a2488_row7_col5, #T_a2488_row9_col2 {\n",
       "  background-color: #440154;\n",
       "  color: #f1f1f1;\n",
       "}\n",
       "#T_a2488_row0_col4 {\n",
       "  background-color: #31668e;\n",
       "  color: #f1f1f1;\n",
       "}\n",
       "#T_a2488_row0_col5 {\n",
       "  background-color: #25838e;\n",
       "  color: #f1f1f1;\n",
       "}\n",
       "#T_a2488_row0_col6 {\n",
       "  background-color: #440256;\n",
       "  color: #f1f1f1;\n",
       "}\n",
       "#T_a2488_row0_col7 {\n",
       "  background-color: #1fa188;\n",
       "  color: #f1f1f1;\n",
       "}\n",
       "#T_a2488_row1_col0, #T_a2488_row8_col3 {\n",
       "  background-color: #450559;\n",
       "  color: #f1f1f1;\n",
       "}\n",
       "#T_a2488_row1_col1 {\n",
       "  background-color: #375b8d;\n",
       "  color: #f1f1f1;\n",
       "}\n",
       "#T_a2488_row1_col2 {\n",
       "  background-color: #1fa088;\n",
       "  color: #f1f1f1;\n",
       "}\n",
       "#T_a2488_row1_col3 {\n",
       "  background-color: #37b878;\n",
       "  color: #f1f1f1;\n",
       "}\n",
       "#T_a2488_row1_col4 {\n",
       "  background-color: #443983;\n",
       "  color: #f1f1f1;\n",
       "}\n",
       "#T_a2488_row1_col5 {\n",
       "  background-color: #3bbb75;\n",
       "  color: #f1f1f1;\n",
       "}\n",
       "#T_a2488_row1_col6, #T_a2488_row5_col5 {\n",
       "  background-color: #1fa287;\n",
       "  color: #f1f1f1;\n",
       "}\n",
       "#T_a2488_row2_col0 {\n",
       "  background-color: #dfe318;\n",
       "  color: #000000;\n",
       "}\n",
       "#T_a2488_row2_col1 {\n",
       "  background-color: #2f6c8e;\n",
       "  color: #f1f1f1;\n",
       "}\n",
       "#T_a2488_row2_col2, #T_a2488_row5_col4 {\n",
       "  background-color: #34618d;\n",
       "  color: #f1f1f1;\n",
       "}\n",
       "#T_a2488_row2_col3 {\n",
       "  background-color: #2e6f8e;\n",
       "  color: #f1f1f1;\n",
       "}\n",
       "#T_a2488_row2_col4 {\n",
       "  background-color: #2d708e;\n",
       "  color: #f1f1f1;\n",
       "}\n",
       "#T_a2488_row2_col5 {\n",
       "  background-color: #24aa83;\n",
       "  color: #f1f1f1;\n",
       "}\n",
       "#T_a2488_row2_col6 {\n",
       "  background-color: #3d4e8a;\n",
       "  color: #f1f1f1;\n",
       "}\n",
       "#T_a2488_row2_col7 {\n",
       "  background-color: #c5e021;\n",
       "  color: #000000;\n",
       "}\n",
       "#T_a2488_row3_col1 {\n",
       "  background-color: #3b528b;\n",
       "  color: #f1f1f1;\n",
       "}\n",
       "#T_a2488_row3_col3 {\n",
       "  background-color: #365d8d;\n",
       "  color: #f1f1f1;\n",
       "}\n",
       "#T_a2488_row3_col5 {\n",
       "  background-color: #39568c;\n",
       "  color: #f1f1f1;\n",
       "}\n",
       "#T_a2488_row3_col7 {\n",
       "  background-color: #3aba76;\n",
       "  color: #f1f1f1;\n",
       "}\n",
       "#T_a2488_row4_col0 {\n",
       "  background-color: #bade28;\n",
       "  color: #000000;\n",
       "}\n",
       "#T_a2488_row4_col1 {\n",
       "  background-color: #414287;\n",
       "  color: #f1f1f1;\n",
       "}\n",
       "#T_a2488_row4_col2 {\n",
       "  background-color: #482475;\n",
       "  color: #f1f1f1;\n",
       "}\n",
       "#T_a2488_row4_col4 {\n",
       "  background-color: #2c728e;\n",
       "  color: #f1f1f1;\n",
       "}\n",
       "#T_a2488_row4_col5 {\n",
       "  background-color: #2d718e;\n",
       "  color: #f1f1f1;\n",
       "}\n",
       "#T_a2488_row4_col6 {\n",
       "  background-color: #471365;\n",
       "  color: #f1f1f1;\n",
       "}\n",
       "#T_a2488_row4_col7 {\n",
       "  background-color: #7cd250;\n",
       "  color: #000000;\n",
       "}\n",
       "#T_a2488_row5_col0 {\n",
       "  background-color: #481668;\n",
       "  color: #f1f1f1;\n",
       "}\n",
       "#T_a2488_row5_col1 {\n",
       "  background-color: #365c8d;\n",
       "  color: #f1f1f1;\n",
       "}\n",
       "#T_a2488_row5_col2 {\n",
       "  background-color: #472d7b;\n",
       "  color: #f1f1f1;\n",
       "}\n",
       "#T_a2488_row5_col3 {\n",
       "  background-color: #42be71;\n",
       "  color: #f1f1f1;\n",
       "}\n",
       "#T_a2488_row6_col0 {\n",
       "  background-color: #bddf26;\n",
       "  color: #000000;\n",
       "}\n",
       "#T_a2488_row6_col1 {\n",
       "  background-color: #423f85;\n",
       "  color: #f1f1f1;\n",
       "}\n",
       "#T_a2488_row6_col2, #T_a2488_row7_col2 {\n",
       "  background-color: #453882;\n",
       "  color: #f1f1f1;\n",
       "}\n",
       "#T_a2488_row6_col4 {\n",
       "  background-color: #2c718e;\n",
       "  color: #f1f1f1;\n",
       "}\n",
       "#T_a2488_row6_col5 {\n",
       "  background-color: #2e6e8e;\n",
       "  color: #f1f1f1;\n",
       "}\n",
       "#T_a2488_row6_col7 {\n",
       "  background-color: #f4e61e;\n",
       "  color: #000000;\n",
       "}\n",
       "#T_a2488_row7_col0 {\n",
       "  background-color: #471063;\n",
       "  color: #f1f1f1;\n",
       "}\n",
       "#T_a2488_row7_col3 {\n",
       "  background-color: #277e8e;\n",
       "  color: #f1f1f1;\n",
       "}\n",
       "#T_a2488_row7_col4 {\n",
       "  background-color: #424086;\n",
       "  color: #f1f1f1;\n",
       "}\n",
       "#T_a2488_row7_col6 {\n",
       "  background-color: #471164;\n",
       "  color: #f1f1f1;\n",
       "}\n",
       "#T_a2488_row7_col7, #T_a2488_row8_col0 {\n",
       "  background-color: #e7e419;\n",
       "  color: #000000;\n",
       "}\n",
       "#T_a2488_row8_col1 {\n",
       "  background-color: #33638d;\n",
       "  color: #f1f1f1;\n",
       "}\n",
       "#T_a2488_row8_col2 {\n",
       "  background-color: #25858e;\n",
       "  color: #f1f1f1;\n",
       "}\n",
       "#T_a2488_row8_col4 {\n",
       "  background-color: #33628d;\n",
       "  color: #f1f1f1;\n",
       "}\n",
       "#T_a2488_row8_col5 {\n",
       "  background-color: #23888e;\n",
       "  color: #f1f1f1;\n",
       "}\n",
       "#T_a2488_row8_col6 {\n",
       "  background-color: #1f9f88;\n",
       "  color: #f1f1f1;\n",
       "}\n",
       "#T_a2488_row8_col7 {\n",
       "  background-color: #eae51a;\n",
       "  color: #000000;\n",
       "}\n",
       "#T_a2488_row9_col0 {\n",
       "  background-color: #46085c;\n",
       "  color: #f1f1f1;\n",
       "}\n",
       "#T_a2488_row9_col3 {\n",
       "  background-color: #24868e;\n",
       "  color: #f1f1f1;\n",
       "}\n",
       "#T_a2488_row9_col6 {\n",
       "  background-color: #95d840;\n",
       "  color: #000000;\n",
       "}\n",
       "#T_a2488_row9_col7 {\n",
       "  background-color: #24878e;\n",
       "  color: #f1f1f1;\n",
       "}\n",
       "</style>\n",
       "<table id=\"T_a2488\">\n",
       "  <thead>\n",
       "    <tr>\n",
       "      <th class=\"blank\" >&nbsp;</th>\n",
       "      <th class=\"blank level0\" >&nbsp;</th>\n",
       "      <th id=\"T_a2488_level0_col0\" class=\"col_heading level0 col0\" >count</th>\n",
       "      <th id=\"T_a2488_level0_col1\" class=\"col_heading level0 col1\" >mean</th>\n",
       "      <th id=\"T_a2488_level0_col2\" class=\"col_heading level0 col2\" >std</th>\n",
       "      <th id=\"T_a2488_level0_col3\" class=\"col_heading level0 col3\" >min</th>\n",
       "      <th id=\"T_a2488_level0_col4\" class=\"col_heading level0 col4\" >25%</th>\n",
       "      <th id=\"T_a2488_level0_col5\" class=\"col_heading level0 col5\" >50%</th>\n",
       "      <th id=\"T_a2488_level0_col6\" class=\"col_heading level0 col6\" >75%</th>\n",
       "      <th id=\"T_a2488_level0_col7\" class=\"col_heading level0 col7\" >max</th>\n",
       "    </tr>\n",
       "    <tr>\n",
       "      <th class=\"index_name level0\" >ProductCategory</th>\n",
       "      <th class=\"index_name level1\" >ChurnStatus</th>\n",
       "      <th class=\"blank col0\" >&nbsp;</th>\n",
       "      <th class=\"blank col1\" >&nbsp;</th>\n",
       "      <th class=\"blank col2\" >&nbsp;</th>\n",
       "      <th class=\"blank col3\" >&nbsp;</th>\n",
       "      <th class=\"blank col4\" >&nbsp;</th>\n",
       "      <th class=\"blank col5\" >&nbsp;</th>\n",
       "      <th class=\"blank col6\" >&nbsp;</th>\n",
       "      <th class=\"blank col7\" >&nbsp;</th>\n",
       "    </tr>\n",
       "  </thead>\n",
       "  <tbody>\n",
       "    <tr>\n",
       "      <th id=\"T_a2488_level0_row0\" class=\"row_heading level0 row0\" rowspan=\"2\">Books</th>\n",
       "      <th id=\"T_a2488_level1_row0\" class=\"row_heading level1 row0\" >0</th>\n",
       "      <td id=\"T_a2488_row0_col0\" class=\"data row0 col0\" >844.00</td>\n",
       "      <td id=\"T_a2488_row0_col1\" class=\"data row0 col1\" >248.96</td>\n",
       "      <td id=\"T_a2488_row0_col2\" class=\"data row0 col2\" >141.55</td>\n",
       "      <td id=\"T_a2488_row0_col3\" class=\"data row0 col3\" >5.18</td>\n",
       "      <td id=\"T_a2488_row0_col4\" class=\"data row0 col4\" >127.01</td>\n",
       "      <td id=\"T_a2488_row0_col5\" class=\"data row0 col5\" >248.50</td>\n",
       "      <td id=\"T_a2488_row0_col6\" class=\"data row0 col6\" >365.49</td>\n",
       "      <td id=\"T_a2488_row0_col7\" class=\"data row0 col7\" >495.85</td>\n",
       "    </tr>\n",
       "    <tr>\n",
       "      <th id=\"T_a2488_level1_row1\" class=\"row_heading level1 row1\" >1</th>\n",
       "      <td id=\"T_a2488_row1_col0\" class=\"data row1 col0\" >197.00</td>\n",
       "      <td id=\"T_a2488_row1_col1\" class=\"data row1 col1\" >250.99</td>\n",
       "      <td id=\"T_a2488_row1_col2\" class=\"data row1 col2\" >146.68</td>\n",
       "      <td id=\"T_a2488_row1_col3\" class=\"data row1 col3\" >6.26</td>\n",
       "      <td id=\"T_a2488_row1_col4\" class=\"data row1 col4\" >118.64</td>\n",
       "      <td id=\"T_a2488_row1_col5\" class=\"data row1 col5\" >260.79</td>\n",
       "      <td id=\"T_a2488_row1_col6\" class=\"data row1 col6\" >381.84</td>\n",
       "      <td id=\"T_a2488_row1_col7\" class=\"data row1 col7\" >499.86</td>\n",
       "    </tr>\n",
       "    <tr>\n",
       "      <th id=\"T_a2488_level0_row2\" class=\"row_heading level0 row2\" rowspan=\"2\">Clothing</th>\n",
       "      <th id=\"T_a2488_level1_row2\" class=\"row_heading level1 row2\" >0</th>\n",
       "      <td id=\"T_a2488_row2_col0\" class=\"data row2 col0\" >813.00</td>\n",
       "      <td id=\"T_a2488_row2_col1\" class=\"data row2 col1\" >253.00</td>\n",
       "      <td id=\"T_a2488_row2_col2\" class=\"data row2 col2\" >142.76</td>\n",
       "      <td id=\"T_a2488_row2_col3\" class=\"data row2 col3\" >5.76</td>\n",
       "      <td id=\"T_a2488_row2_col4\" class=\"data row2 col4\" >129.07</td>\n",
       "      <td id=\"T_a2488_row2_col5\" class=\"data row2 col5\" >256.79</td>\n",
       "      <td id=\"T_a2488_row2_col6\" class=\"data row2 col6\" >372.13</td>\n",
       "      <td id=\"T_a2488_row2_col7\" class=\"data row2 col7\" >499.06</td>\n",
       "    </tr>\n",
       "    <tr>\n",
       "      <th id=\"T_a2488_level1_row3\" class=\"row_heading level1 row3\" >1</th>\n",
       "      <td id=\"T_a2488_row3_col0\" class=\"data row3 col0\" >187.00</td>\n",
       "      <td id=\"T_a2488_row3_col1\" class=\"data row3 col1\" >250.05</td>\n",
       "      <td id=\"T_a2488_row3_col2\" class=\"data row3 col2\" >153.31</td>\n",
       "      <td id=\"T_a2488_row3_col3\" class=\"data row3 col3\" >5.65</td>\n",
       "      <td id=\"T_a2488_row3_col4\" class=\"data row3 col4\" >110.12</td>\n",
       "      <td id=\"T_a2488_row3_col5\" class=\"data row3 col5\" >238.97</td>\n",
       "      <td id=\"T_a2488_row3_col6\" class=\"data row3 col6\" >393.88</td>\n",
       "      <td id=\"T_a2488_row3_col7\" class=\"data row3 col7\" >496.88</td>\n",
       "    </tr>\n",
       "    <tr>\n",
       "      <th id=\"T_a2488_level0_row4\" class=\"row_heading level0 row4\" rowspan=\"2\">Electronics</th>\n",
       "      <th id=\"T_a2488_level1_row4\" class=\"row_heading level1 row4\" >0</th>\n",
       "      <td id=\"T_a2488_row4_col0\" class=\"data row4 col0\" >776.00</td>\n",
       "      <td id=\"T_a2488_row4_col1\" class=\"data row4 col1\" >248.27</td>\n",
       "      <td id=\"T_a2488_row4_col2\" class=\"data row4 col2\" >139.61</td>\n",
       "      <td id=\"T_a2488_row4_col3\" class=\"data row4 col3\" >5.53</td>\n",
       "      <td id=\"T_a2488_row4_col4\" class=\"data row4 col4\" >129.58</td>\n",
       "      <td id=\"T_a2488_row4_col5\" class=\"data row4 col5\" >244.38</td>\n",
       "      <td id=\"T_a2488_row4_col6\" class=\"data row4 col6\" >366.77</td>\n",
       "      <td id=\"T_a2488_row4_col7\" class=\"data row4 col7\" >498.03</td>\n",
       "    </tr>\n",
       "    <tr>\n",
       "      <th id=\"T_a2488_level1_row5\" class=\"row_heading level1 row5\" >1</th>\n",
       "      <td id=\"T_a2488_row5_col0\" class=\"data row5 col0\" >225.00</td>\n",
       "      <td id=\"T_a2488_row5_col1\" class=\"data row5 col1\" >251.02</td>\n",
       "      <td id=\"T_a2488_row5_col2\" class=\"data row5 col2\" >140.06</td>\n",
       "      <td id=\"T_a2488_row5_col3\" class=\"data row5 col3\" >6.30</td>\n",
       "      <td id=\"T_a2488_row5_col4\" class=\"data row5 col4\" >125.88</td>\n",
       "      <td id=\"T_a2488_row5_col5\" class=\"data row5 col5\" >255.14</td>\n",
       "      <td id=\"T_a2488_row5_col6\" class=\"data row5 col6\" >371.73</td>\n",
       "      <td id=\"T_a2488_row5_col7\" class=\"data row5 col7\" >490.60</td>\n",
       "    </tr>\n",
       "    <tr>\n",
       "      <th id=\"T_a2488_level0_row6\" class=\"row_heading level0 row6\" rowspan=\"2\">Furniture</th>\n",
       "      <th id=\"T_a2488_level1_row6\" class=\"row_heading level1 row6\" >0</th>\n",
       "      <td id=\"T_a2488_row6_col0\" class=\"data row6 col0\" >779.00</td>\n",
       "      <td id=\"T_a2488_row6_col1\" class=\"data row6 col1\" >247.99</td>\n",
       "      <td id=\"T_a2488_row6_col2\" class=\"data row6 col2\" >140.56</td>\n",
       "      <td id=\"T_a2488_row6_col3\" class=\"data row6 col3\" >6.79</td>\n",
       "      <td id=\"T_a2488_row6_col4\" class=\"data row6 col4\" >129.37</td>\n",
       "      <td id=\"T_a2488_row6_col5\" class=\"data row6 col5\" >243.71</td>\n",
       "      <td id=\"T_a2488_row6_col6\" class=\"data row6 col6\" >365.36</td>\n",
       "      <td id=\"T_a2488_row6_col7\" class=\"data row6 col7\" >499.70</td>\n",
       "    </tr>\n",
       "    <tr>\n",
       "      <th id=\"T_a2488_level1_row7\" class=\"row_heading level1 row7\" >1</th>\n",
       "      <td id=\"T_a2488_row7_col0\" class=\"data row7 col0\" >213.00</td>\n",
       "      <td id=\"T_a2488_row7_col1\" class=\"data row7 col1\" >242.27</td>\n",
       "      <td id=\"T_a2488_row7_col2\" class=\"data row7 col2\" >140.58</td>\n",
       "      <td id=\"T_a2488_row7_col3\" class=\"data row7 col3\" >5.86</td>\n",
       "      <td id=\"T_a2488_row7_col4\" class=\"data row7 col4\" >119.98</td>\n",
       "      <td id=\"T_a2488_row7_col5\" class=\"data row7 col5\" >224.83</td>\n",
       "      <td id=\"T_a2488_row7_col6\" class=\"data row7 col6\" >366.66</td>\n",
       "      <td id=\"T_a2488_row7_col7\" class=\"data row7 col7\" >499.51</td>\n",
       "    </tr>\n",
       "    <tr>\n",
       "      <th id=\"T_a2488_level0_row8\" class=\"row_heading level0 row8\" rowspan=\"2\">Groceries</th>\n",
       "      <th id=\"T_a2488_level1_row8\" class=\"row_heading level1 row8\" >0</th>\n",
       "      <td id=\"T_a2488_row8_col0\" class=\"data row8 col0\" >820.00</td>\n",
       "      <td id=\"T_a2488_row8_col1\" class=\"data row8 col1\" >251.88</td>\n",
       "      <td id=\"T_a2488_row8_col2\" class=\"data row8 col2\" >145.05</td>\n",
       "      <td id=\"T_a2488_row8_col3\" class=\"data row8 col3\" >5.20</td>\n",
       "      <td id=\"T_a2488_row8_col4\" class=\"data row8 col4\" >126.24</td>\n",
       "      <td id=\"T_a2488_row8_col5\" class=\"data row8 col5\" >249.44</td>\n",
       "      <td id=\"T_a2488_row8_col6\" class=\"data row8 col6\" >381.39</td>\n",
       "      <td id=\"T_a2488_row8_col7\" class=\"data row8 col7\" >499.57</td>\n",
       "    </tr>\n",
       "    <tr>\n",
       "      <th id=\"T_a2488_level1_row9\" class=\"row_heading level1 row9\" >1</th>\n",
       "      <td id=\"T_a2488_row9_col0\" class=\"data row9 col0\" >200.00</td>\n",
       "      <td id=\"T_a2488_row9_col1\" class=\"data row9 col1\" >272.95</td>\n",
       "      <td id=\"T_a2488_row9_col2\" class=\"data row9 col2\" >138.11</td>\n",
       "      <td id=\"T_a2488_row9_col3\" class=\"data row9 col3\" >5.92</td>\n",
       "      <td id=\"T_a2488_row9_col4\" class=\"data row9 col4\" >161.76</td>\n",
       "      <td id=\"T_a2488_row9_col5\" class=\"data row9 col5\" >277.58</td>\n",
       "      <td id=\"T_a2488_row9_col6\" class=\"data row9 col6\" >389.38</td>\n",
       "      <td id=\"T_a2488_row9_col7\" class=\"data row9 col7\" >494.90</td>\n",
       "    </tr>\n",
       "  </tbody>\n",
       "</table>\n"
      ],
      "text/plain": [
       "<pandas.io.formats.style.Styler at 0x70d7e994ffe0>"
      ]
     },
     "execution_count": 128,
     "metadata": {},
     "output_type": "execute_result"
    }
   ],
   "source": [
    "trx_churn_prods_vals = transaction_data.groupby(['ProductCategory','ChurnStatus'])['AmountSpent'].describe().round(2)\n",
    "trx_churn_prods_vals.style.background_gradient(cmap='viridis').format(\"{:.2f}\")"
   ]
  },
  {
   "cell_type": "code",
   "execution_count": 129,
   "metadata": {},
   "outputs": [],
   "source": [
    "churn_trans_average_all = transaction_data.set_index('TransactionDate').groupby('ChurnStatus').resample('7d')['AmountSpent'].mean().reset_index()\n",
    "churn_trans_average_max = transaction_data.set_index('TransactionDate').groupby('ChurnStatus').resample('7d')['AmountSpent'].max().reset_index()\n",
    "churn_trans_average_groc = transaction_data[transaction_data['ProductCategory'] == 'Groceries'].set_index('TransactionDate').groupby('ChurnStatus').resample('7d')['AmountSpent'].mean().reset_index()"
   ]
  },
  {
   "cell_type": "code",
   "execution_count": 130,
   "metadata": {},
   "outputs": [
    {
     "data": {
      "application/vnd.plotly.v1+json": {
       "config": {
        "plotlyServerURL": "https://plot.ly"
       },
       "data": [
        {
         "hovertemplate": "ChurnStatus=0<br>TransactionDate=%{x}<br>AmountSpent=%{y}<extra></extra>",
         "legendgroup": "0",
         "line": {
          "color": "#456987",
          "dash": "solid"
         },
         "marker": {
          "symbol": "circle"
         },
         "mode": "lines+markers",
         "name": "0",
         "orientation": "v",
         "showlegend": true,
         "type": "scatter",
         "x": [
          "2022-01-01T00:00:00.000000000",
          "2022-01-08T00:00:00.000000000",
          "2022-01-15T00:00:00.000000000",
          "2022-01-22T00:00:00.000000000",
          "2022-01-29T00:00:00.000000000",
          "2022-02-05T00:00:00.000000000",
          "2022-02-12T00:00:00.000000000",
          "2022-02-19T00:00:00.000000000",
          "2022-02-26T00:00:00.000000000",
          "2022-03-05T00:00:00.000000000",
          "2022-03-12T00:00:00.000000000",
          "2022-03-19T00:00:00.000000000",
          "2022-03-26T00:00:00.000000000",
          "2022-04-02T00:00:00.000000000",
          "2022-04-09T00:00:00.000000000",
          "2022-04-16T00:00:00.000000000",
          "2022-04-23T00:00:00.000000000",
          "2022-04-30T00:00:00.000000000",
          "2022-05-07T00:00:00.000000000",
          "2022-05-14T00:00:00.000000000",
          "2022-05-21T00:00:00.000000000",
          "2022-05-28T00:00:00.000000000",
          "2022-06-04T00:00:00.000000000",
          "2022-06-11T00:00:00.000000000",
          "2022-06-18T00:00:00.000000000",
          "2022-06-25T00:00:00.000000000",
          "2022-07-02T00:00:00.000000000",
          "2022-07-09T00:00:00.000000000",
          "2022-07-16T00:00:00.000000000",
          "2022-07-23T00:00:00.000000000",
          "2022-07-30T00:00:00.000000000",
          "2022-08-06T00:00:00.000000000",
          "2022-08-13T00:00:00.000000000",
          "2022-08-20T00:00:00.000000000",
          "2022-08-27T00:00:00.000000000",
          "2022-09-03T00:00:00.000000000",
          "2022-09-10T00:00:00.000000000",
          "2022-09-17T00:00:00.000000000",
          "2022-09-24T00:00:00.000000000",
          "2022-10-01T00:00:00.000000000",
          "2022-10-08T00:00:00.000000000",
          "2022-10-15T00:00:00.000000000",
          "2022-10-22T00:00:00.000000000",
          "2022-10-29T00:00:00.000000000",
          "2022-11-05T00:00:00.000000000",
          "2022-11-12T00:00:00.000000000",
          "2022-11-19T00:00:00.000000000",
          "2022-11-26T00:00:00.000000000",
          "2022-12-03T00:00:00.000000000",
          "2022-12-10T00:00:00.000000000",
          "2022-12-17T00:00:00.000000000",
          "2022-12-24T00:00:00.000000000",
          "2022-12-31T00:00:00.000000000"
         ],
         "xaxis": "x",
         "y": {
          "bdata": "OIlBYGXhb0BDi2zne49uQBkqO0zdeXBAvXr16tXjbUDjpZvEIIJuQMzfTIL6XHBA7J6RpYeEbkB6CKeHcIJqQLTmGU2AmHBAcPKknNKLcEB+u9ST8UtwQJUj0dnzwXBA5Y0RTPSRcEC5OAMk9yhwQKSfYHBsPW5A8W1FvTribECCZeRBlOVvQBy2xloY0GxA9aPrzEekb0Djx5i7liBsQPG/vqWYBW5ACBpXmieFbUBno76zUXNwQCtrhFCCS3BAH574ZEisb0Dw1NIBkwhvQLWnM1kYAXBAg1vr6ME5bEAeHh4eHv5wQCo9v3FpG3BAfdYNpsjjb0BuDxyJ5cpvQFNlDItaxm5AOmLfsdlCcUDArElevzVxQExA3TLt+3BAt2RLtmQjb0A0LkfjcgZwQEyBVp5cfmxAmQPPJPcvcEBiLvvHlHtuQOknGBxbv29ALL0z4CCHb0DwwupnOhptQKlg10L6uHBAYaK/k9VpbkBaX1djUYxqQPswiXh9AXFAKh7vIN0PcEBk3n+XEctuQHEfZ0jDn21AZbKvTqqqa0CuR+F6FF5WQA==",
          "dtype": "f8"
         },
         "yaxis": "y"
        },
        {
         "hovertemplate": "ChurnStatus=1<br>TransactionDate=%{x}<br>AmountSpent=%{y}<extra></extra>",
         "legendgroup": "1",
         "line": {
          "color": "#7ed2bc",
          "dash": "solid"
         },
         "marker": {
          "symbol": "circle"
         },
         "mode": "lines+markers",
         "name": "1",
         "orientation": "v",
         "showlegend": true,
         "type": "scatter",
         "x": [
          "2022-01-01T00:00:00.000000000",
          "2022-01-08T00:00:00.000000000",
          "2022-01-15T00:00:00.000000000",
          "2022-01-22T00:00:00.000000000",
          "2022-01-29T00:00:00.000000000",
          "2022-02-05T00:00:00.000000000",
          "2022-02-12T00:00:00.000000000",
          "2022-02-19T00:00:00.000000000",
          "2022-02-26T00:00:00.000000000",
          "2022-03-05T00:00:00.000000000",
          "2022-03-12T00:00:00.000000000",
          "2022-03-19T00:00:00.000000000",
          "2022-03-26T00:00:00.000000000",
          "2022-04-02T00:00:00.000000000",
          "2022-04-09T00:00:00.000000000",
          "2022-04-16T00:00:00.000000000",
          "2022-04-23T00:00:00.000000000",
          "2022-04-30T00:00:00.000000000",
          "2022-05-07T00:00:00.000000000",
          "2022-05-14T00:00:00.000000000",
          "2022-05-21T00:00:00.000000000",
          "2022-05-28T00:00:00.000000000",
          "2022-06-04T00:00:00.000000000",
          "2022-06-11T00:00:00.000000000",
          "2022-06-18T00:00:00.000000000",
          "2022-06-25T00:00:00.000000000",
          "2022-07-02T00:00:00.000000000",
          "2022-07-09T00:00:00.000000000",
          "2022-07-16T00:00:00.000000000",
          "2022-07-23T00:00:00.000000000",
          "2022-07-30T00:00:00.000000000",
          "2022-08-06T00:00:00.000000000",
          "2022-08-13T00:00:00.000000000",
          "2022-08-20T00:00:00.000000000",
          "2022-08-27T00:00:00.000000000",
          "2022-09-03T00:00:00.000000000",
          "2022-09-10T00:00:00.000000000",
          "2022-09-17T00:00:00.000000000",
          "2022-09-24T00:00:00.000000000",
          "2022-10-01T00:00:00.000000000",
          "2022-10-08T00:00:00.000000000",
          "2022-10-15T00:00:00.000000000",
          "2022-10-22T00:00:00.000000000",
          "2022-10-29T00:00:00.000000000",
          "2022-11-05T00:00:00.000000000",
          "2022-11-12T00:00:00.000000000",
          "2022-11-19T00:00:00.000000000",
          "2022-11-26T00:00:00.000000000",
          "2022-12-03T00:00:00.000000000",
          "2022-12-10T00:00:00.000000000",
          "2022-12-17T00:00:00.000000000",
          "2022-12-24T00:00:00.000000000",
          "2022-12-31T00:00:00.000000000"
         ],
         "xaxis": "x",
         "y": {
          "bdata": "w9o3rH37a0BcKPXBjiNvQNwfZKjsJnJA5o0RTPQzcUCJiIiIiFZ0QFXGsKiF4GdAjZduEoOCcUCGRS3E/ClxQLD7l5LQj3BAYdyvSyoXb0CiRbbz/SZvQJEbuZEbbWtATDeJQWB9cUAgNpWGnJdsQMrobVmrW2pA/MeUYS6rbkAvJaEPmXxsQFW7IYjuiHJAERoMocEYdEA7QZxMUl1qQKQpFWcfXnFAeekmMQiMa0Covh0PJbxxQMWzopGAx29A3t3d3d10cUB+F7FK5MVtQIe57B9TvmdAQmDl0CK3akBt5/up8fRwQIM6qIM6rmxAFxCbSkMecEDe3d3d3W9wQDs+fW1xPG1AexSuR+FwbkB1fPra4tRuQPnFkl8se2ZAdafaDUFMc0DyUEJYt8hwQDy9UpYhmnBAC0o6Pn19cEA3x25z7BxwQDKxDmFao2xA5o9v4y5LcUCjw08EaJ1vQFK4HoXrGXBACSb6O1m1bkB+seQXSyZvQIXrUbgedXVAXyz5xRJMcUAMMX98G4dxQMVWzXm6um1A9Las1TExaUCamZmZmfFhQA==",
          "dtype": "f8"
         },
         "yaxis": "y"
        }
       ],
       "layout": {
        "legend": {
         "bgcolor": "rgba(0,0,0,0)",
         "font": {
          "color": "white"
         },
         "title": {
          "text": "ChurnStatus"
         },
         "tracegroupgap": 0
        },
        "paper_bgcolor": "rgba(0,0,0,0)",
        "plot_bgcolor": "rgba(0,0,0,0)",
        "template": {
         "data": {
          "bar": [
           {
            "error_x": {
             "color": "#2a3f5f"
            },
            "error_y": {
             "color": "#2a3f5f"
            },
            "marker": {
             "line": {
              "color": "white",
              "width": 0.5
             },
             "pattern": {
              "fillmode": "overlay",
              "size": 10,
              "solidity": 0.2
             }
            },
            "type": "bar"
           }
          ],
          "barpolar": [
           {
            "marker": {
             "line": {
              "color": "white",
              "width": 0.5
             },
             "pattern": {
              "fillmode": "overlay",
              "size": 10,
              "solidity": 0.2
             }
            },
            "type": "barpolar"
           }
          ],
          "carpet": [
           {
            "aaxis": {
             "endlinecolor": "#2a3f5f",
             "gridcolor": "#C8D4E3",
             "linecolor": "#C8D4E3",
             "minorgridcolor": "#C8D4E3",
             "startlinecolor": "#2a3f5f"
            },
            "baxis": {
             "endlinecolor": "#2a3f5f",
             "gridcolor": "#C8D4E3",
             "linecolor": "#C8D4E3",
             "minorgridcolor": "#C8D4E3",
             "startlinecolor": "#2a3f5f"
            },
            "type": "carpet"
           }
          ],
          "choropleth": [
           {
            "colorbar": {
             "outlinewidth": 0,
             "ticks": ""
            },
            "type": "choropleth"
           }
          ],
          "contour": [
           {
            "colorbar": {
             "outlinewidth": 0,
             "ticks": ""
            },
            "colorscale": [
             [
              0,
              "#0d0887"
             ],
             [
              0.1111111111111111,
              "#46039f"
             ],
             [
              0.2222222222222222,
              "#7201a8"
             ],
             [
              0.3333333333333333,
              "#9c179e"
             ],
             [
              0.4444444444444444,
              "#bd3786"
             ],
             [
              0.5555555555555556,
              "#d8576b"
             ],
             [
              0.6666666666666666,
              "#ed7953"
             ],
             [
              0.7777777777777778,
              "#fb9f3a"
             ],
             [
              0.8888888888888888,
              "#fdca26"
             ],
             [
              1,
              "#f0f921"
             ]
            ],
            "type": "contour"
           }
          ],
          "contourcarpet": [
           {
            "colorbar": {
             "outlinewidth": 0,
             "ticks": ""
            },
            "type": "contourcarpet"
           }
          ],
          "heatmap": [
           {
            "colorbar": {
             "outlinewidth": 0,
             "ticks": ""
            },
            "colorscale": [
             [
              0,
              "#0d0887"
             ],
             [
              0.1111111111111111,
              "#46039f"
             ],
             [
              0.2222222222222222,
              "#7201a8"
             ],
             [
              0.3333333333333333,
              "#9c179e"
             ],
             [
              0.4444444444444444,
              "#bd3786"
             ],
             [
              0.5555555555555556,
              "#d8576b"
             ],
             [
              0.6666666666666666,
              "#ed7953"
             ],
             [
              0.7777777777777778,
              "#fb9f3a"
             ],
             [
              0.8888888888888888,
              "#fdca26"
             ],
             [
              1,
              "#f0f921"
             ]
            ],
            "type": "heatmap"
           }
          ],
          "histogram": [
           {
            "marker": {
             "pattern": {
              "fillmode": "overlay",
              "size": 10,
              "solidity": 0.2
             }
            },
            "type": "histogram"
           }
          ],
          "histogram2d": [
           {
            "colorbar": {
             "outlinewidth": 0,
             "ticks": ""
            },
            "colorscale": [
             [
              0,
              "#0d0887"
             ],
             [
              0.1111111111111111,
              "#46039f"
             ],
             [
              0.2222222222222222,
              "#7201a8"
             ],
             [
              0.3333333333333333,
              "#9c179e"
             ],
             [
              0.4444444444444444,
              "#bd3786"
             ],
             [
              0.5555555555555556,
              "#d8576b"
             ],
             [
              0.6666666666666666,
              "#ed7953"
             ],
             [
              0.7777777777777778,
              "#fb9f3a"
             ],
             [
              0.8888888888888888,
              "#fdca26"
             ],
             [
              1,
              "#f0f921"
             ]
            ],
            "type": "histogram2d"
           }
          ],
          "histogram2dcontour": [
           {
            "colorbar": {
             "outlinewidth": 0,
             "ticks": ""
            },
            "colorscale": [
             [
              0,
              "#0d0887"
             ],
             [
              0.1111111111111111,
              "#46039f"
             ],
             [
              0.2222222222222222,
              "#7201a8"
             ],
             [
              0.3333333333333333,
              "#9c179e"
             ],
             [
              0.4444444444444444,
              "#bd3786"
             ],
             [
              0.5555555555555556,
              "#d8576b"
             ],
             [
              0.6666666666666666,
              "#ed7953"
             ],
             [
              0.7777777777777778,
              "#fb9f3a"
             ],
             [
              0.8888888888888888,
              "#fdca26"
             ],
             [
              1,
              "#f0f921"
             ]
            ],
            "type": "histogram2dcontour"
           }
          ],
          "mesh3d": [
           {
            "colorbar": {
             "outlinewidth": 0,
             "ticks": ""
            },
            "type": "mesh3d"
           }
          ],
          "parcoords": [
           {
            "line": {
             "colorbar": {
              "outlinewidth": 0,
              "ticks": ""
             }
            },
            "type": "parcoords"
           }
          ],
          "pie": [
           {
            "automargin": true,
            "type": "pie"
           }
          ],
          "scatter": [
           {
            "fillpattern": {
             "fillmode": "overlay",
             "size": 10,
             "solidity": 0.2
            },
            "type": "scatter"
           }
          ],
          "scatter3d": [
           {
            "line": {
             "colorbar": {
              "outlinewidth": 0,
              "ticks": ""
             }
            },
            "marker": {
             "colorbar": {
              "outlinewidth": 0,
              "ticks": ""
             }
            },
            "type": "scatter3d"
           }
          ],
          "scattercarpet": [
           {
            "marker": {
             "colorbar": {
              "outlinewidth": 0,
              "ticks": ""
             }
            },
            "type": "scattercarpet"
           }
          ],
          "scattergeo": [
           {
            "marker": {
             "colorbar": {
              "outlinewidth": 0,
              "ticks": ""
             }
            },
            "type": "scattergeo"
           }
          ],
          "scattergl": [
           {
            "marker": {
             "colorbar": {
              "outlinewidth": 0,
              "ticks": ""
             }
            },
            "type": "scattergl"
           }
          ],
          "scattermap": [
           {
            "marker": {
             "colorbar": {
              "outlinewidth": 0,
              "ticks": ""
             }
            },
            "type": "scattermap"
           }
          ],
          "scattermapbox": [
           {
            "marker": {
             "colorbar": {
              "outlinewidth": 0,
              "ticks": ""
             }
            },
            "type": "scattermapbox"
           }
          ],
          "scatterpolar": [
           {
            "marker": {
             "colorbar": {
              "outlinewidth": 0,
              "ticks": ""
             }
            },
            "type": "scatterpolar"
           }
          ],
          "scatterpolargl": [
           {
            "marker": {
             "colorbar": {
              "outlinewidth": 0,
              "ticks": ""
             }
            },
            "type": "scatterpolargl"
           }
          ],
          "scatterternary": [
           {
            "marker": {
             "colorbar": {
              "outlinewidth": 0,
              "ticks": ""
             }
            },
            "type": "scatterternary"
           }
          ],
          "surface": [
           {
            "colorbar": {
             "outlinewidth": 0,
             "ticks": ""
            },
            "colorscale": [
             [
              0,
              "#0d0887"
             ],
             [
              0.1111111111111111,
              "#46039f"
             ],
             [
              0.2222222222222222,
              "#7201a8"
             ],
             [
              0.3333333333333333,
              "#9c179e"
             ],
             [
              0.4444444444444444,
              "#bd3786"
             ],
             [
              0.5555555555555556,
              "#d8576b"
             ],
             [
              0.6666666666666666,
              "#ed7953"
             ],
             [
              0.7777777777777778,
              "#fb9f3a"
             ],
             [
              0.8888888888888888,
              "#fdca26"
             ],
             [
              1,
              "#f0f921"
             ]
            ],
            "type": "surface"
           }
          ],
          "table": [
           {
            "cells": {
             "fill": {
              "color": "#EBF0F8"
             },
             "line": {
              "color": "white"
             }
            },
            "header": {
             "fill": {
              "color": "#C8D4E3"
             },
             "line": {
              "color": "white"
             }
            },
            "type": "table"
           }
          ]
         },
         "layout": {
          "annotationdefaults": {
           "arrowcolor": "#2a3f5f",
           "arrowhead": 0,
           "arrowwidth": 1
          },
          "autotypenumbers": "strict",
          "coloraxis": {
           "colorbar": {
            "outlinewidth": 0,
            "ticks": ""
           }
          },
          "colorscale": {
           "diverging": [
            [
             0,
             "#8e0152"
            ],
            [
             0.1,
             "#c51b7d"
            ],
            [
             0.2,
             "#de77ae"
            ],
            [
             0.3,
             "#f1b6da"
            ],
            [
             0.4,
             "#fde0ef"
            ],
            [
             0.5,
             "#f7f7f7"
            ],
            [
             0.6,
             "#e6f5d0"
            ],
            [
             0.7,
             "#b8e186"
            ],
            [
             0.8,
             "#7fbc41"
            ],
            [
             0.9,
             "#4d9221"
            ],
            [
             1,
             "#276419"
            ]
           ],
           "sequential": [
            [
             0,
             "#0d0887"
            ],
            [
             0.1111111111111111,
             "#46039f"
            ],
            [
             0.2222222222222222,
             "#7201a8"
            ],
            [
             0.3333333333333333,
             "#9c179e"
            ],
            [
             0.4444444444444444,
             "#bd3786"
            ],
            [
             0.5555555555555556,
             "#d8576b"
            ],
            [
             0.6666666666666666,
             "#ed7953"
            ],
            [
             0.7777777777777778,
             "#fb9f3a"
            ],
            [
             0.8888888888888888,
             "#fdca26"
            ],
            [
             1,
             "#f0f921"
            ]
           ],
           "sequentialminus": [
            [
             0,
             "#0d0887"
            ],
            [
             0.1111111111111111,
             "#46039f"
            ],
            [
             0.2222222222222222,
             "#7201a8"
            ],
            [
             0.3333333333333333,
             "#9c179e"
            ],
            [
             0.4444444444444444,
             "#bd3786"
            ],
            [
             0.5555555555555556,
             "#d8576b"
            ],
            [
             0.6666666666666666,
             "#ed7953"
            ],
            [
             0.7777777777777778,
             "#fb9f3a"
            ],
            [
             0.8888888888888888,
             "#fdca26"
            ],
            [
             1,
             "#f0f921"
            ]
           ]
          },
          "colorway": [
           "#636efa",
           "#EF553B",
           "#00cc96",
           "#ab63fa",
           "#FFA15A",
           "#19d3f3",
           "#FF6692",
           "#B6E880",
           "#FF97FF",
           "#FECB52"
          ],
          "font": {
           "color": "#2a3f5f"
          },
          "geo": {
           "bgcolor": "white",
           "lakecolor": "white",
           "landcolor": "white",
           "showlakes": true,
           "showland": true,
           "subunitcolor": "#C8D4E3"
          },
          "hoverlabel": {
           "align": "left"
          },
          "hovermode": "closest",
          "mapbox": {
           "style": "light"
          },
          "paper_bgcolor": "white",
          "plot_bgcolor": "white",
          "polar": {
           "angularaxis": {
            "gridcolor": "#EBF0F8",
            "linecolor": "#EBF0F8",
            "ticks": ""
           },
           "bgcolor": "white",
           "radialaxis": {
            "gridcolor": "#EBF0F8",
            "linecolor": "#EBF0F8",
            "ticks": ""
           }
          },
          "scene": {
           "xaxis": {
            "backgroundcolor": "white",
            "gridcolor": "#DFE8F3",
            "gridwidth": 2,
            "linecolor": "#EBF0F8",
            "showbackground": true,
            "ticks": "",
            "zerolinecolor": "#EBF0F8"
           },
           "yaxis": {
            "backgroundcolor": "white",
            "gridcolor": "#DFE8F3",
            "gridwidth": 2,
            "linecolor": "#EBF0F8",
            "showbackground": true,
            "ticks": "",
            "zerolinecolor": "#EBF0F8"
           },
           "zaxis": {
            "backgroundcolor": "white",
            "gridcolor": "#DFE8F3",
            "gridwidth": 2,
            "linecolor": "#EBF0F8",
            "showbackground": true,
            "ticks": "",
            "zerolinecolor": "#EBF0F8"
           }
          },
          "shapedefaults": {
           "line": {
            "color": "#2a3f5f"
           }
          },
          "ternary": {
           "aaxis": {
            "gridcolor": "#DFE8F3",
            "linecolor": "#A2B1C6",
            "ticks": ""
           },
           "baxis": {
            "gridcolor": "#DFE8F3",
            "linecolor": "#A2B1C6",
            "ticks": ""
           },
           "bgcolor": "white",
           "caxis": {
            "gridcolor": "#DFE8F3",
            "linecolor": "#A2B1C6",
            "ticks": ""
           }
          },
          "title": {
           "x": 0.05
          },
          "xaxis": {
           "automargin": true,
           "gridcolor": "#EBF0F8",
           "linecolor": "#EBF0F8",
           "ticks": "",
           "title": {
            "standoff": 15
           },
           "zerolinecolor": "#EBF0F8",
           "zerolinewidth": 2
          },
          "yaxis": {
           "automargin": true,
           "gridcolor": "#EBF0F8",
           "linecolor": "#EBF0F8",
           "ticks": "",
           "title": {
            "standoff": 15
           },
           "zerolinecolor": "#EBF0F8",
           "zerolinewidth": 2
          }
         }
        },
        "title": {
         "font": {
          "color": "white",
          "family": "Courier New, monospace",
          "size": 20
         },
         "text": "All category average spending"
        },
        "xaxis": {
         "anchor": "y",
         "domain": [
          0,
          1
         ],
         "gridcolor": "rgba(255,255,255,0.1)",
         "linecolor": "white",
         "linewidth": 2,
         "showline": true,
         "tickfont": {
          "color": "white"
         },
         "title": {
          "font": {
           "color": "white",
           "family": "Arial Black, Arial, sans-serif",
           "size": 16
          },
          "text": "TransactionDate"
         }
        },
        "yaxis": {
         "anchor": "x",
         "domain": [
          0,
          1
         ],
         "gridcolor": "rgba(255,255,255,0.1)",
         "linecolor": "white",
         "linewidth": 2,
         "showline": true,
         "tickfont": {
          "color": "white"
         },
         "title": {
          "font": {
           "color": "white",
           "family": "Arial Black, Arial, sans-serif",
           "size": 16
          },
          "text": "AmountSpent"
         }
        }
       }
      }
     },
     "metadata": {},
     "output_type": "display_data"
    }
   ],
   "source": [
    "fig = px.line(churn_trans_average_all,\n",
    "        x='TransactionDate',\n",
    "        y='AmountSpent',\n",
    "        color='ChurnStatus',\n",
    "        markers=True,\n",
    "        template='plotly_white',\n",
    "        title='All category average spending',\n",
    "        color_discrete_sequence=[\"#456987\", \"#7ed2bc\"]\n",
    "        )\n",
    "\n",
    "# Update layout for transparent background and white fonts\n",
    "fig.update_layout(\n",
    "    paper_bgcolor='rgba(0,0,0,0)',  # Transparent outer background[2][3][8]\n",
    "    plot_bgcolor='rgba(0,0,0,0)',   # Transparent plotting area background[2][3][8]\n",
    "    title_font=dict(color='white'),  # White plot title\n",
    "    xaxis_title_font=dict(family=\"Arial Black, Arial, sans-serif\", size=16, color=\"white\"),\n",
    "    yaxis_title_font=dict(family=\"Arial Black, Arial, sans-serif\", size=16, color=\"white\"),\n",
    "\n",
    "    legend=dict(\n",
    "        font=dict(color='white'),  # White legend text\n",
    "        bgcolor='rgba(0,0,0,0)'   # Transparent legend background\n",
    "    ),\n",
    "    title=dict(\n",
    "        text=\"All category average spending\",\n",
    "        font=dict(\n",
    "            color='white',\n",
    "            size=20,\n",
    "            family='Courier New, monospace'  # Use a bold font family\n",
    "        )\n",
    "    )\n",
    ")\n",
    "\n",
    "# Update x and y axes for white lines, ticks, labels, and 20% opacity grid\n",
    "fig.update_xaxes(\n",
    "    showline=True,         # Show axis line\n",
    "    linecolor='white',     # White axis line\n",
    "    tickfont=dict(color='white'),  # White tick labels\n",
    "    gridcolor='rgba(255,255,255,0.1)',  # White grid lines with 20% opacity\n",
    "    linewidth=2\n",
    ")\n",
    "fig.update_yaxes(\n",
    "    showline=True,\n",
    "    linecolor='white',\n",
    "    tickfont=dict(color='white'),\n",
    "    gridcolor='rgba(255,255,255,0.1)',  # White grid lines with 20% opacity\n",
    "    linewidth=2\n",
    ")\n",
    "\n",
    "\n",
    "fig.show()\n",
    "\n"
   ]
  },
  {
   "cell_type": "code",
   "execution_count": 131,
   "metadata": {},
   "outputs": [
    {
     "data": {
      "application/vnd.plotly.v1+json": {
       "config": {
        "plotlyServerURL": "https://plot.ly"
       },
       "data": [
        {
         "hovertemplate": "ChurnStatus=0<br>TransactionDate=%{x}<br>AmountSpent=%{y}<extra></extra>",
         "legendgroup": "0",
         "line": {
          "color": "#456987",
          "dash": "solid"
         },
         "marker": {
          "symbol": "circle"
         },
         "mode": "lines+markers",
         "name": "0",
         "orientation": "v",
         "showlegend": true,
         "type": "scatter",
         "x": [
          "2022-01-01T00:00:00.000000000",
          "2022-01-08T00:00:00.000000000",
          "2022-01-15T00:00:00.000000000",
          "2022-01-22T00:00:00.000000000",
          "2022-01-29T00:00:00.000000000",
          "2022-02-05T00:00:00.000000000",
          "2022-02-12T00:00:00.000000000",
          "2022-02-19T00:00:00.000000000",
          "2022-02-26T00:00:00.000000000",
          "2022-03-05T00:00:00.000000000",
          "2022-03-12T00:00:00.000000000",
          "2022-03-19T00:00:00.000000000",
          "2022-03-26T00:00:00.000000000",
          "2022-04-02T00:00:00.000000000",
          "2022-04-09T00:00:00.000000000",
          "2022-04-16T00:00:00.000000000",
          "2022-04-23T00:00:00.000000000",
          "2022-04-30T00:00:00.000000000",
          "2022-05-07T00:00:00.000000000",
          "2022-05-14T00:00:00.000000000",
          "2022-05-21T00:00:00.000000000",
          "2022-05-28T00:00:00.000000000",
          "2022-06-04T00:00:00.000000000",
          "2022-06-11T00:00:00.000000000",
          "2022-06-18T00:00:00.000000000",
          "2022-06-25T00:00:00.000000000",
          "2022-07-02T00:00:00.000000000",
          "2022-07-09T00:00:00.000000000",
          "2022-07-16T00:00:00.000000000",
          "2022-07-23T00:00:00.000000000",
          "2022-07-30T00:00:00.000000000",
          "2022-08-06T00:00:00.000000000",
          "2022-08-13T00:00:00.000000000",
          "2022-08-20T00:00:00.000000000",
          "2022-08-27T00:00:00.000000000",
          "2022-09-03T00:00:00.000000000",
          "2022-09-10T00:00:00.000000000",
          "2022-09-17T00:00:00.000000000",
          "2022-09-24T00:00:00.000000000",
          "2022-10-01T00:00:00.000000000",
          "2022-10-08T00:00:00.000000000",
          "2022-10-15T00:00:00.000000000",
          "2022-10-22T00:00:00.000000000",
          "2022-10-29T00:00:00.000000000",
          "2022-11-05T00:00:00.000000000",
          "2022-11-12T00:00:00.000000000",
          "2022-11-19T00:00:00.000000000",
          "2022-11-26T00:00:00.000000000",
          "2022-12-03T00:00:00.000000000",
          "2022-12-10T00:00:00.000000000",
          "2022-12-17T00:00:00.000000000",
          "2022-12-24T00:00:00.000000000",
          "2022-12-31T00:00:00.000000000"
         ],
         "xaxis": "x",
         "y": {
          "bdata": "PQrXo3D5fkD2KFyPwhl/QM3MzMzMtH5ApHA9CtcPf0AzMzMzM4d+QJqZmZmZBX9AhetRuB7FfkAK16NwPdp+QHE9Ctej1H5AmpmZmZn9fkDD9Shcj8Z+QLgehetR4H1AMzMzMzP3fkDXo3A9CsN+QIXrUbge0X5AuB6F61HQfkApXI/C9fB+QIXrUbge5X5ACtejcD02f0ApXI/C9Sh/QGZmZmZmLn9AAAAAAAC0fkApXI/C9QB/QI/C9Shc135ACtejcD0Of0DXo3A9Cgd/QClcj8L1AH9ASOF6FK5rfUC4HoXrURB/QJqZmZmZ6X1ASOF6FK7nfkApXI/C9TB/QEjhehSum35ApHA9Ctcjf0Bcj8L1KBR+QDMzMzMzO39AFK5H4Xogf0BxPQrXoyR/QHsUrkfhqn5AAAAAAAD4fkCkcD0K1xt+QLgehetRjH5AUrgehestf0B7FK5H4YJ+QHE9CtejDH9A4XoUrkfJfkC4HoXrUbh+QClcj8L1OH9A9ihcj8LFfkBmZmZmZhZ/QOF6FK5HpX5AAAAAAAD8fkCuR+F6FF5WQA==",
          "dtype": "f8"
         },
         "yaxis": "y"
        },
        {
         "hovertemplate": "ChurnStatus=1<br>TransactionDate=%{x}<br>AmountSpent=%{y}<extra></extra>",
         "legendgroup": "1",
         "line": {
          "color": "#7ed2bc",
          "dash": "solid"
         },
         "marker": {
          "symbol": "circle"
         },
         "mode": "lines+markers",
         "name": "1",
         "orientation": "v",
         "showlegend": true,
         "type": "scatter",
         "x": [
          "2022-01-01T00:00:00.000000000",
          "2022-01-08T00:00:00.000000000",
          "2022-01-15T00:00:00.000000000",
          "2022-01-22T00:00:00.000000000",
          "2022-01-29T00:00:00.000000000",
          "2022-02-05T00:00:00.000000000",
          "2022-02-12T00:00:00.000000000",
          "2022-02-19T00:00:00.000000000",
          "2022-02-26T00:00:00.000000000",
          "2022-03-05T00:00:00.000000000",
          "2022-03-12T00:00:00.000000000",
          "2022-03-19T00:00:00.000000000",
          "2022-03-26T00:00:00.000000000",
          "2022-04-02T00:00:00.000000000",
          "2022-04-09T00:00:00.000000000",
          "2022-04-16T00:00:00.000000000",
          "2022-04-23T00:00:00.000000000",
          "2022-04-30T00:00:00.000000000",
          "2022-05-07T00:00:00.000000000",
          "2022-05-14T00:00:00.000000000",
          "2022-05-21T00:00:00.000000000",
          "2022-05-28T00:00:00.000000000",
          "2022-06-04T00:00:00.000000000",
          "2022-06-11T00:00:00.000000000",
          "2022-06-18T00:00:00.000000000",
          "2022-06-25T00:00:00.000000000",
          "2022-07-02T00:00:00.000000000",
          "2022-07-09T00:00:00.000000000",
          "2022-07-16T00:00:00.000000000",
          "2022-07-23T00:00:00.000000000",
          "2022-07-30T00:00:00.000000000",
          "2022-08-06T00:00:00.000000000",
          "2022-08-13T00:00:00.000000000",
          "2022-08-20T00:00:00.000000000",
          "2022-08-27T00:00:00.000000000",
          "2022-09-03T00:00:00.000000000",
          "2022-09-10T00:00:00.000000000",
          "2022-09-17T00:00:00.000000000",
          "2022-09-24T00:00:00.000000000",
          "2022-10-01T00:00:00.000000000",
          "2022-10-08T00:00:00.000000000",
          "2022-10-15T00:00:00.000000000",
          "2022-10-22T00:00:00.000000000",
          "2022-10-29T00:00:00.000000000",
          "2022-11-05T00:00:00.000000000",
          "2022-11-12T00:00:00.000000000",
          "2022-11-19T00:00:00.000000000",
          "2022-11-26T00:00:00.000000000",
          "2022-12-03T00:00:00.000000000",
          "2022-12-10T00:00:00.000000000",
          "2022-12-17T00:00:00.000000000",
          "2022-12-24T00:00:00.000000000",
          "2022-12-31T00:00:00.000000000"
         ],
         "xaxis": "x",
         "y": {
          "bdata": "AAAAAAAcfUDsUbgehYN7QM3MzMzM8H1AhetRuB45fkCuR+F6FA5/QJqZmZmZzXlAXI/C9ShwfkAK16NwPap+QD0K16Nw6X5APQrXo3C1fkBSuB6F60V+QNejcD0Kp35ArkfhehQyf0DNzMzMzMR6QIXrUbge0X5A7FG4HoUbfkBcj8L1KDh/QJqZmZmZqX5AMzMzMzO/fUC4HoXrUfx+QI/C9Shcd35AhetRuB6RfkDXo3A9CrN+QGZmZmZm8n5APQrXo3C5fUBcj8L1KNx+QAAAAAAAOH5AMzMzMzO7ekCamZmZmUV9QIXrUbgeBX1AFK5H4Xr0fECuR+F6FFZ+QJqZmZmZ9X1AFK5H4XrgeUD2KFyPwj1/QFyPwvUojH1A7FG4HoWXfUAfhetRuM59QBSuR+F6nH1AexSuR+EWfkDhehSuRzF+QClcj8L1LH9AMzMzMzOrfUBcj8L1KDB9QMP1KFyPPn5AKVyPwvX4fEBcj8L1KMR7QFK4HoXrVX1AH4XrUbiifkAfhetRuDJ9QM3MzMzMcHpA7FG4HoUnfEApXI/C9dhtQA==",
          "dtype": "f8"
         },
         "yaxis": "y"
        }
       ],
       "layout": {
        "legend": {
         "bgcolor": "rgba(0,0,0,0)",
         "font": {
          "color": "white"
         },
         "title": {
          "text": "ChurnStatus"
         },
         "tracegroupgap": 0
        },
        "margin": {
         "t": 60
        },
        "paper_bgcolor": "rgba(0,0,0,0)",
        "plot_bgcolor": "rgba(0,0,0,0)",
        "template": {
         "data": {
          "bar": [
           {
            "error_x": {
             "color": "#2a3f5f"
            },
            "error_y": {
             "color": "#2a3f5f"
            },
            "marker": {
             "line": {
              "color": "white",
              "width": 0.5
             },
             "pattern": {
              "fillmode": "overlay",
              "size": 10,
              "solidity": 0.2
             }
            },
            "type": "bar"
           }
          ],
          "barpolar": [
           {
            "marker": {
             "line": {
              "color": "white",
              "width": 0.5
             },
             "pattern": {
              "fillmode": "overlay",
              "size": 10,
              "solidity": 0.2
             }
            },
            "type": "barpolar"
           }
          ],
          "carpet": [
           {
            "aaxis": {
             "endlinecolor": "#2a3f5f",
             "gridcolor": "#C8D4E3",
             "linecolor": "#C8D4E3",
             "minorgridcolor": "#C8D4E3",
             "startlinecolor": "#2a3f5f"
            },
            "baxis": {
             "endlinecolor": "#2a3f5f",
             "gridcolor": "#C8D4E3",
             "linecolor": "#C8D4E3",
             "minorgridcolor": "#C8D4E3",
             "startlinecolor": "#2a3f5f"
            },
            "type": "carpet"
           }
          ],
          "choropleth": [
           {
            "colorbar": {
             "outlinewidth": 0,
             "ticks": ""
            },
            "type": "choropleth"
           }
          ],
          "contour": [
           {
            "colorbar": {
             "outlinewidth": 0,
             "ticks": ""
            },
            "colorscale": [
             [
              0,
              "#0d0887"
             ],
             [
              0.1111111111111111,
              "#46039f"
             ],
             [
              0.2222222222222222,
              "#7201a8"
             ],
             [
              0.3333333333333333,
              "#9c179e"
             ],
             [
              0.4444444444444444,
              "#bd3786"
             ],
             [
              0.5555555555555556,
              "#d8576b"
             ],
             [
              0.6666666666666666,
              "#ed7953"
             ],
             [
              0.7777777777777778,
              "#fb9f3a"
             ],
             [
              0.8888888888888888,
              "#fdca26"
             ],
             [
              1,
              "#f0f921"
             ]
            ],
            "type": "contour"
           }
          ],
          "contourcarpet": [
           {
            "colorbar": {
             "outlinewidth": 0,
             "ticks": ""
            },
            "type": "contourcarpet"
           }
          ],
          "heatmap": [
           {
            "colorbar": {
             "outlinewidth": 0,
             "ticks": ""
            },
            "colorscale": [
             [
              0,
              "#0d0887"
             ],
             [
              0.1111111111111111,
              "#46039f"
             ],
             [
              0.2222222222222222,
              "#7201a8"
             ],
             [
              0.3333333333333333,
              "#9c179e"
             ],
             [
              0.4444444444444444,
              "#bd3786"
             ],
             [
              0.5555555555555556,
              "#d8576b"
             ],
             [
              0.6666666666666666,
              "#ed7953"
             ],
             [
              0.7777777777777778,
              "#fb9f3a"
             ],
             [
              0.8888888888888888,
              "#fdca26"
             ],
             [
              1,
              "#f0f921"
             ]
            ],
            "type": "heatmap"
           }
          ],
          "histogram": [
           {
            "marker": {
             "pattern": {
              "fillmode": "overlay",
              "size": 10,
              "solidity": 0.2
             }
            },
            "type": "histogram"
           }
          ],
          "histogram2d": [
           {
            "colorbar": {
             "outlinewidth": 0,
             "ticks": ""
            },
            "colorscale": [
             [
              0,
              "#0d0887"
             ],
             [
              0.1111111111111111,
              "#46039f"
             ],
             [
              0.2222222222222222,
              "#7201a8"
             ],
             [
              0.3333333333333333,
              "#9c179e"
             ],
             [
              0.4444444444444444,
              "#bd3786"
             ],
             [
              0.5555555555555556,
              "#d8576b"
             ],
             [
              0.6666666666666666,
              "#ed7953"
             ],
             [
              0.7777777777777778,
              "#fb9f3a"
             ],
             [
              0.8888888888888888,
              "#fdca26"
             ],
             [
              1,
              "#f0f921"
             ]
            ],
            "type": "histogram2d"
           }
          ],
          "histogram2dcontour": [
           {
            "colorbar": {
             "outlinewidth": 0,
             "ticks": ""
            },
            "colorscale": [
             [
              0,
              "#0d0887"
             ],
             [
              0.1111111111111111,
              "#46039f"
             ],
             [
              0.2222222222222222,
              "#7201a8"
             ],
             [
              0.3333333333333333,
              "#9c179e"
             ],
             [
              0.4444444444444444,
              "#bd3786"
             ],
             [
              0.5555555555555556,
              "#d8576b"
             ],
             [
              0.6666666666666666,
              "#ed7953"
             ],
             [
              0.7777777777777778,
              "#fb9f3a"
             ],
             [
              0.8888888888888888,
              "#fdca26"
             ],
             [
              1,
              "#f0f921"
             ]
            ],
            "type": "histogram2dcontour"
           }
          ],
          "mesh3d": [
           {
            "colorbar": {
             "outlinewidth": 0,
             "ticks": ""
            },
            "type": "mesh3d"
           }
          ],
          "parcoords": [
           {
            "line": {
             "colorbar": {
              "outlinewidth": 0,
              "ticks": ""
             }
            },
            "type": "parcoords"
           }
          ],
          "pie": [
           {
            "automargin": true,
            "type": "pie"
           }
          ],
          "scatter": [
           {
            "fillpattern": {
             "fillmode": "overlay",
             "size": 10,
             "solidity": 0.2
            },
            "type": "scatter"
           }
          ],
          "scatter3d": [
           {
            "line": {
             "colorbar": {
              "outlinewidth": 0,
              "ticks": ""
             }
            },
            "marker": {
             "colorbar": {
              "outlinewidth": 0,
              "ticks": ""
             }
            },
            "type": "scatter3d"
           }
          ],
          "scattercarpet": [
           {
            "marker": {
             "colorbar": {
              "outlinewidth": 0,
              "ticks": ""
             }
            },
            "type": "scattercarpet"
           }
          ],
          "scattergeo": [
           {
            "marker": {
             "colorbar": {
              "outlinewidth": 0,
              "ticks": ""
             }
            },
            "type": "scattergeo"
           }
          ],
          "scattergl": [
           {
            "marker": {
             "colorbar": {
              "outlinewidth": 0,
              "ticks": ""
             }
            },
            "type": "scattergl"
           }
          ],
          "scattermap": [
           {
            "marker": {
             "colorbar": {
              "outlinewidth": 0,
              "ticks": ""
             }
            },
            "type": "scattermap"
           }
          ],
          "scattermapbox": [
           {
            "marker": {
             "colorbar": {
              "outlinewidth": 0,
              "ticks": ""
             }
            },
            "type": "scattermapbox"
           }
          ],
          "scatterpolar": [
           {
            "marker": {
             "colorbar": {
              "outlinewidth": 0,
              "ticks": ""
             }
            },
            "type": "scatterpolar"
           }
          ],
          "scatterpolargl": [
           {
            "marker": {
             "colorbar": {
              "outlinewidth": 0,
              "ticks": ""
             }
            },
            "type": "scatterpolargl"
           }
          ],
          "scatterternary": [
           {
            "marker": {
             "colorbar": {
              "outlinewidth": 0,
              "ticks": ""
             }
            },
            "type": "scatterternary"
           }
          ],
          "surface": [
           {
            "colorbar": {
             "outlinewidth": 0,
             "ticks": ""
            },
            "colorscale": [
             [
              0,
              "#0d0887"
             ],
             [
              0.1111111111111111,
              "#46039f"
             ],
             [
              0.2222222222222222,
              "#7201a8"
             ],
             [
              0.3333333333333333,
              "#9c179e"
             ],
             [
              0.4444444444444444,
              "#bd3786"
             ],
             [
              0.5555555555555556,
              "#d8576b"
             ],
             [
              0.6666666666666666,
              "#ed7953"
             ],
             [
              0.7777777777777778,
              "#fb9f3a"
             ],
             [
              0.8888888888888888,
              "#fdca26"
             ],
             [
              1,
              "#f0f921"
             ]
            ],
            "type": "surface"
           }
          ],
          "table": [
           {
            "cells": {
             "fill": {
              "color": "#EBF0F8"
             },
             "line": {
              "color": "white"
             }
            },
            "header": {
             "fill": {
              "color": "#C8D4E3"
             },
             "line": {
              "color": "white"
             }
            },
            "type": "table"
           }
          ]
         },
         "layout": {
          "annotationdefaults": {
           "arrowcolor": "#2a3f5f",
           "arrowhead": 0,
           "arrowwidth": 1
          },
          "autotypenumbers": "strict",
          "coloraxis": {
           "colorbar": {
            "outlinewidth": 0,
            "ticks": ""
           }
          },
          "colorscale": {
           "diverging": [
            [
             0,
             "#8e0152"
            ],
            [
             0.1,
             "#c51b7d"
            ],
            [
             0.2,
             "#de77ae"
            ],
            [
             0.3,
             "#f1b6da"
            ],
            [
             0.4,
             "#fde0ef"
            ],
            [
             0.5,
             "#f7f7f7"
            ],
            [
             0.6,
             "#e6f5d0"
            ],
            [
             0.7,
             "#b8e186"
            ],
            [
             0.8,
             "#7fbc41"
            ],
            [
             0.9,
             "#4d9221"
            ],
            [
             1,
             "#276419"
            ]
           ],
           "sequential": [
            [
             0,
             "#0d0887"
            ],
            [
             0.1111111111111111,
             "#46039f"
            ],
            [
             0.2222222222222222,
             "#7201a8"
            ],
            [
             0.3333333333333333,
             "#9c179e"
            ],
            [
             0.4444444444444444,
             "#bd3786"
            ],
            [
             0.5555555555555556,
             "#d8576b"
            ],
            [
             0.6666666666666666,
             "#ed7953"
            ],
            [
             0.7777777777777778,
             "#fb9f3a"
            ],
            [
             0.8888888888888888,
             "#fdca26"
            ],
            [
             1,
             "#f0f921"
            ]
           ],
           "sequentialminus": [
            [
             0,
             "#0d0887"
            ],
            [
             0.1111111111111111,
             "#46039f"
            ],
            [
             0.2222222222222222,
             "#7201a8"
            ],
            [
             0.3333333333333333,
             "#9c179e"
            ],
            [
             0.4444444444444444,
             "#bd3786"
            ],
            [
             0.5555555555555556,
             "#d8576b"
            ],
            [
             0.6666666666666666,
             "#ed7953"
            ],
            [
             0.7777777777777778,
             "#fb9f3a"
            ],
            [
             0.8888888888888888,
             "#fdca26"
            ],
            [
             1,
             "#f0f921"
            ]
           ]
          },
          "colorway": [
           "#636efa",
           "#EF553B",
           "#00cc96",
           "#ab63fa",
           "#FFA15A",
           "#19d3f3",
           "#FF6692",
           "#B6E880",
           "#FF97FF",
           "#FECB52"
          ],
          "font": {
           "color": "#2a3f5f"
          },
          "geo": {
           "bgcolor": "white",
           "lakecolor": "white",
           "landcolor": "white",
           "showlakes": true,
           "showland": true,
           "subunitcolor": "#C8D4E3"
          },
          "hoverlabel": {
           "align": "left"
          },
          "hovermode": "closest",
          "mapbox": {
           "style": "light"
          },
          "paper_bgcolor": "white",
          "plot_bgcolor": "white",
          "polar": {
           "angularaxis": {
            "gridcolor": "#EBF0F8",
            "linecolor": "#EBF0F8",
            "ticks": ""
           },
           "bgcolor": "white",
           "radialaxis": {
            "gridcolor": "#EBF0F8",
            "linecolor": "#EBF0F8",
            "ticks": ""
           }
          },
          "scene": {
           "xaxis": {
            "backgroundcolor": "white",
            "gridcolor": "#DFE8F3",
            "gridwidth": 2,
            "linecolor": "#EBF0F8",
            "showbackground": true,
            "ticks": "",
            "zerolinecolor": "#EBF0F8"
           },
           "yaxis": {
            "backgroundcolor": "white",
            "gridcolor": "#DFE8F3",
            "gridwidth": 2,
            "linecolor": "#EBF0F8",
            "showbackground": true,
            "ticks": "",
            "zerolinecolor": "#EBF0F8"
           },
           "zaxis": {
            "backgroundcolor": "white",
            "gridcolor": "#DFE8F3",
            "gridwidth": 2,
            "linecolor": "#EBF0F8",
            "showbackground": true,
            "ticks": "",
            "zerolinecolor": "#EBF0F8"
           }
          },
          "shapedefaults": {
           "line": {
            "color": "#2a3f5f"
           }
          },
          "ternary": {
           "aaxis": {
            "gridcolor": "#DFE8F3",
            "linecolor": "#A2B1C6",
            "ticks": ""
           },
           "baxis": {
            "gridcolor": "#DFE8F3",
            "linecolor": "#A2B1C6",
            "ticks": ""
           },
           "bgcolor": "white",
           "caxis": {
            "gridcolor": "#DFE8F3",
            "linecolor": "#A2B1C6",
            "ticks": ""
           }
          },
          "title": {
           "x": 0.05
          },
          "xaxis": {
           "automargin": true,
           "gridcolor": "#EBF0F8",
           "linecolor": "#EBF0F8",
           "ticks": "",
           "title": {
            "standoff": 15
           },
           "zerolinecolor": "#EBF0F8",
           "zerolinewidth": 2
          },
          "yaxis": {
           "automargin": true,
           "gridcolor": "#EBF0F8",
           "linecolor": "#EBF0F8",
           "ticks": "",
           "title": {
            "standoff": 15
           },
           "zerolinecolor": "#EBF0F8",
           "zerolinewidth": 2
          }
         }
        },
        "title": {
         "font": {
          "color": "white",
          "family": "Courier New, monospace",
          "size": 20
         },
         "text": "Maximum spending for purchases"
        },
        "xaxis": {
         "anchor": "y",
         "domain": [
          0,
          1
         ],
         "gridcolor": "rgba(255,255,255,0.1)",
         "linecolor": "white",
         "linewidth": 2,
         "showline": true,
         "tickfont": {
          "color": "white"
         },
         "title": {
          "font": {
           "color": "white",
           "family": "Arial Black, Arial, sans-serif",
           "size": 16
          },
          "text": "TransactionDate"
         }
        },
        "yaxis": {
         "anchor": "x",
         "domain": [
          0,
          1
         ],
         "gridcolor": "rgba(255,255,255,0.1)",
         "linecolor": "white",
         "linewidth": 2,
         "showline": true,
         "tickfont": {
          "color": "white"
         },
         "title": {
          "font": {
           "color": "white",
           "family": "Arial Black, Arial, sans-serif",
           "size": 16
          },
          "text": "AmountSpent"
         }
        }
       }
      }
     },
     "metadata": {},
     "output_type": "display_data"
    }
   ],
   "source": [
    "fig = px.line(churn_trans_average_max,\n",
    "        x='TransactionDate',\n",
    "        y='AmountSpent',\n",
    "        color='ChurnStatus',\n",
    "        markers=True,\n",
    "        template='plotly_white',\n",
    "        color_discrete_sequence=[\"#456987\", \"#7ed2bc\"]\n",
    ")\n",
    "\n",
    "# Update layout for transparent background and white fonts\n",
    "fig.update_layout(\n",
    "    paper_bgcolor='rgba(0,0,0,0)',  # Transparent outer background[2][3][8]\n",
    "    plot_bgcolor='rgba(0,0,0,0)',   # Transparent plotting area background[2][3][8]\n",
    "    title_font=dict(color='white'),  # White plot title\n",
    "    xaxis_title_font=dict(family=\"Arial Black, Arial, sans-serif\", size=16, color=\"white\"),\n",
    "    yaxis_title_font=dict(family=\"Arial Black, Arial, sans-serif\", size=16, color=\"white\"),\n",
    "\n",
    "    legend=dict(\n",
    "        font=dict(color='white'),  # White legend text\n",
    "        bgcolor='rgba(0,0,0,0)'   # Transparent legend background\n",
    "    ),\n",
    "    title=dict(\n",
    "        text=\"Maximum spending for purchases\",\n",
    "        font=dict(\n",
    "            color='white',\n",
    "            size=20,\n",
    "            family='Courier New, monospace'  # Use a bold font family\n",
    "        )\n",
    "    )\n",
    ")\n",
    "\n",
    "# Update x and y axes for white lines, ticks, labels, and 20% opacity grid\n",
    "fig.update_xaxes(\n",
    "    showline=True,         # Show axis line\n",
    "    linecolor='white',     # White axis line\n",
    "    tickfont=dict(color='white'),  # White tick labels\n",
    "    gridcolor='rgba(255,255,255,0.1)',  # White grid lines with 20% opacity\n",
    "    linewidth=2\n",
    ")\n",
    "fig.update_yaxes(\n",
    "    showline=True,\n",
    "    linecolor='white',\n",
    "    tickfont=dict(color='white'),\n",
    "    gridcolor='rgba(255,255,255,0.1)',  # White grid lines with 20% opacity\n",
    "    linewidth=2\n",
    ")\n",
    "\n",
    "fig.show()\n"
   ]
  },
  {
   "cell_type": "code",
   "execution_count": 132,
   "metadata": {},
   "outputs": [
    {
     "data": {
      "application/vnd.plotly.v1+json": {
       "config": {
        "plotlyServerURL": "https://plot.ly"
       },
       "data": [
        {
         "hovertemplate": "ChurnStatus=0<br>TransactionDate=%{x}<br>AmountSpent=%{y}<extra></extra>",
         "legendgroup": "0",
         "line": {
          "color": "#456987",
          "dash": "solid"
         },
         "marker": {
          "symbol": "circle"
         },
         "mode": "lines+markers",
         "name": "0",
         "orientation": "v",
         "showlegend": true,
         "type": "scatter",
         "x": [
          "2022-01-01T00:00:00.000000000",
          "2022-01-08T00:00:00.000000000",
          "2022-01-15T00:00:00.000000000",
          "2022-01-22T00:00:00.000000000",
          "2022-01-29T00:00:00.000000000",
          "2022-02-05T00:00:00.000000000",
          "2022-02-12T00:00:00.000000000",
          "2022-02-19T00:00:00.000000000",
          "2022-02-26T00:00:00.000000000",
          "2022-03-05T00:00:00.000000000",
          "2022-03-12T00:00:00.000000000",
          "2022-03-19T00:00:00.000000000",
          "2022-03-26T00:00:00.000000000",
          "2022-04-02T00:00:00.000000000",
          "2022-04-09T00:00:00.000000000",
          "2022-04-16T00:00:00.000000000",
          "2022-04-23T00:00:00.000000000",
          "2022-04-30T00:00:00.000000000",
          "2022-05-07T00:00:00.000000000",
          "2022-05-14T00:00:00.000000000",
          "2022-05-21T00:00:00.000000000",
          "2022-05-28T00:00:00.000000000",
          "2022-06-04T00:00:00.000000000",
          "2022-06-11T00:00:00.000000000",
          "2022-06-18T00:00:00.000000000",
          "2022-06-25T00:00:00.000000000",
          "2022-07-02T00:00:00.000000000",
          "2022-07-09T00:00:00.000000000",
          "2022-07-16T00:00:00.000000000",
          "2022-07-23T00:00:00.000000000",
          "2022-07-30T00:00:00.000000000",
          "2022-08-06T00:00:00.000000000",
          "2022-08-13T00:00:00.000000000",
          "2022-08-20T00:00:00.000000000",
          "2022-08-27T00:00:00.000000000",
          "2022-09-03T00:00:00.000000000",
          "2022-09-10T00:00:00.000000000",
          "2022-09-17T00:00:00.000000000",
          "2022-09-24T00:00:00.000000000",
          "2022-10-01T00:00:00.000000000",
          "2022-10-08T00:00:00.000000000",
          "2022-10-15T00:00:00.000000000",
          "2022-10-22T00:00:00.000000000",
          "2022-10-29T00:00:00.000000000",
          "2022-11-05T00:00:00.000000000",
          "2022-11-12T00:00:00.000000000",
          "2022-11-19T00:00:00.000000000",
          "2022-11-26T00:00:00.000000000",
          "2022-12-03T00:00:00.000000000",
          "2022-12-10T00:00:00.000000000",
          "2022-12-17T00:00:00.000000000",
          "2022-12-24T00:00:00.000000000"
         ],
         "xaxis": "x",
         "y": {
          "bdata": "x8bGxsb+a0Alv1jyizhxQOxRuB4FWW5AzoWkKRVfbUBvEoPAymFpQFnyiyW/zXBAKVyPwvVibkCPwvUoXPhqQGDl0CLbkXJA2FQacu5TckAT/Z2slm1wQNa+Ye0bxnJAw/UoXM+rdUBI4XoULjBwQIFOG+i0IWxAZmZmZma5cECjt2WtjkVzQDfHbnPsTmVArkfhetSjckBIrxV84ghtQA102kCnf2lAd3d3d3fTZ0Ct0Rqt0S5wQEg7ViCMnG9A+YkAre3dbUC6urq6ujZxQJqZmZmZQW5Adv9SEvoscECAYo5ML/trQM3MzMzM+HJA59XEs6KTcEDjpZvEINBuQN4YwUR/K2xA5o0RTPQhcEDSVZA4vB5yQG/LWh0TmHJA1qNwPQorbEDYUF5DedlyQDCEBkNogGZAZ2ZmZmaycUCT1fLGCKJxQK5H4XoUVmxASsenry3ubUDqh5p+qFFsQFD6pE/6QG5Aw/UoXI+KakDfT42Xbv5mQFYOLbKdC3RAq6qqqqo8bkBf6IVe6ClwQOF6FK5Hj3BAMzMzM7PkZkA=",
          "dtype": "f8"
         },
         "yaxis": "y"
        },
        {
         "hovertemplate": "ChurnStatus=1<br>TransactionDate=%{x}<br>AmountSpent=%{y}<extra></extra>",
         "legendgroup": "1",
         "line": {
          "color": "#7ed2bc",
          "dash": "solid"
         },
         "marker": {
          "symbol": "circle"
         },
         "mode": "lines+markers",
         "name": "1",
         "orientation": "v",
         "showlegend": true,
         "type": "scatter",
         "x": [
          "2022-01-01T00:00:00.000000000",
          "2022-01-08T00:00:00.000000000",
          "2022-01-15T00:00:00.000000000",
          "2022-01-22T00:00:00.000000000",
          "2022-01-29T00:00:00.000000000",
          "2022-02-05T00:00:00.000000000",
          "2022-02-12T00:00:00.000000000",
          "2022-02-19T00:00:00.000000000",
          "2022-02-26T00:00:00.000000000",
          "2022-03-05T00:00:00.000000000",
          "2022-03-12T00:00:00.000000000",
          "2022-03-19T00:00:00.000000000",
          "2022-03-26T00:00:00.000000000",
          "2022-04-02T00:00:00.000000000",
          "2022-04-09T00:00:00.000000000",
          "2022-04-16T00:00:00.000000000",
          "2022-04-23T00:00:00.000000000",
          "2022-04-30T00:00:00.000000000",
          "2022-05-07T00:00:00.000000000",
          "2022-05-14T00:00:00.000000000",
          "2022-05-21T00:00:00.000000000",
          "2022-05-28T00:00:00.000000000",
          "2022-06-04T00:00:00.000000000",
          "2022-06-11T00:00:00.000000000",
          "2022-06-18T00:00:00.000000000",
          "2022-06-25T00:00:00.000000000",
          "2022-07-02T00:00:00.000000000",
          "2022-07-09T00:00:00.000000000",
          "2022-07-16T00:00:00.000000000",
          "2022-07-23T00:00:00.000000000",
          "2022-07-30T00:00:00.000000000",
          "2022-08-06T00:00:00.000000000",
          "2022-08-13T00:00:00.000000000",
          "2022-08-20T00:00:00.000000000",
          "2022-08-27T00:00:00.000000000",
          "2022-09-03T00:00:00.000000000",
          "2022-09-10T00:00:00.000000000",
          "2022-09-17T00:00:00.000000000",
          "2022-09-24T00:00:00.000000000",
          "2022-10-01T00:00:00.000000000",
          "2022-10-08T00:00:00.000000000",
          "2022-10-15T00:00:00.000000000",
          "2022-10-22T00:00:00.000000000",
          "2022-10-29T00:00:00.000000000",
          "2022-11-05T00:00:00.000000000",
          "2022-11-12T00:00:00.000000000",
          "2022-11-19T00:00:00.000000000",
          "2022-11-26T00:00:00.000000000",
          "2022-12-03T00:00:00.000000000",
          "2022-12-10T00:00:00.000000000",
          "2022-12-17T00:00:00.000000000",
          "2022-12-24T00:00:00.000000000",
          "2022-12-31T00:00:00.000000000"
         ],
         "xaxis": "x",
         "y": {
          "bdata": "cT0K16O0cUB7FK5H4aVxQFYOLbKd+3FAAAAAAABrckB7FK5H4ZZvQD0K16NwM2JAEoPAyqHlcUBI4XoUrtdaQAAAAAAACGtAzMzMzMx8a0A/u4DYVIpwQH+x5BdLpmFAIyIiIiIWcEDC9Shcj7JlQJMYBFYOHW9AhetRuB5Na0CuR+F6FJJxQLgehetRnH5Aq6qqqqrKeUDJL5b8YkluQGdmZmZm0GtAH4XrUbjockAlv1jyi6F3QKNwPQrXk2lAG+i0gU73c0DsUbgehdNzQJqZmZmZBW9A+cWSXywFdEApXI/C9aR5QOUXS36xfG5AZmZmZmb2ckD5xZJfLGl8QMZLN4lBDHBAKVyPwvUOdUC8u7u7u4dyQMP1KFyPcl5AWDm0yHY+c0Db+X5qvOxvQDq0yHa+u3lAzczMzMzZcEDhehSuR25wQGZmZmZmm3FAAAAAAAB4dUA6baDTBvxzQBSuR+F6XGZAk18s+cWSdUDMzMzMzDRwQHA9Ctej1HRA9Shcj8KFbkCQwvUoXA9sQBSuR+F6PnBAhetRuB5fZ0BSuB6F68FaQA==",
          "dtype": "f8"
         },
         "yaxis": "y"
        }
       ],
       "layout": {
        "legend": {
         "bgcolor": "rgba(0,0,0,0)",
         "font": {
          "color": "white"
         },
         "title": {
          "text": "ChurnStatus"
         },
         "tracegroupgap": 0
        },
        "margin": {
         "t": 60
        },
        "paper_bgcolor": "rgba(0,0,0,0)",
        "plot_bgcolor": "rgba(0,0,0,0)",
        "template": {
         "data": {
          "bar": [
           {
            "error_x": {
             "color": "#2a3f5f"
            },
            "error_y": {
             "color": "#2a3f5f"
            },
            "marker": {
             "line": {
              "color": "white",
              "width": 0.5
             },
             "pattern": {
              "fillmode": "overlay",
              "size": 10,
              "solidity": 0.2
             }
            },
            "type": "bar"
           }
          ],
          "barpolar": [
           {
            "marker": {
             "line": {
              "color": "white",
              "width": 0.5
             },
             "pattern": {
              "fillmode": "overlay",
              "size": 10,
              "solidity": 0.2
             }
            },
            "type": "barpolar"
           }
          ],
          "carpet": [
           {
            "aaxis": {
             "endlinecolor": "#2a3f5f",
             "gridcolor": "#C8D4E3",
             "linecolor": "#C8D4E3",
             "minorgridcolor": "#C8D4E3",
             "startlinecolor": "#2a3f5f"
            },
            "baxis": {
             "endlinecolor": "#2a3f5f",
             "gridcolor": "#C8D4E3",
             "linecolor": "#C8D4E3",
             "minorgridcolor": "#C8D4E3",
             "startlinecolor": "#2a3f5f"
            },
            "type": "carpet"
           }
          ],
          "choropleth": [
           {
            "colorbar": {
             "outlinewidth": 0,
             "ticks": ""
            },
            "type": "choropleth"
           }
          ],
          "contour": [
           {
            "colorbar": {
             "outlinewidth": 0,
             "ticks": ""
            },
            "colorscale": [
             [
              0,
              "#0d0887"
             ],
             [
              0.1111111111111111,
              "#46039f"
             ],
             [
              0.2222222222222222,
              "#7201a8"
             ],
             [
              0.3333333333333333,
              "#9c179e"
             ],
             [
              0.4444444444444444,
              "#bd3786"
             ],
             [
              0.5555555555555556,
              "#d8576b"
             ],
             [
              0.6666666666666666,
              "#ed7953"
             ],
             [
              0.7777777777777778,
              "#fb9f3a"
             ],
             [
              0.8888888888888888,
              "#fdca26"
             ],
             [
              1,
              "#f0f921"
             ]
            ],
            "type": "contour"
           }
          ],
          "contourcarpet": [
           {
            "colorbar": {
             "outlinewidth": 0,
             "ticks": ""
            },
            "type": "contourcarpet"
           }
          ],
          "heatmap": [
           {
            "colorbar": {
             "outlinewidth": 0,
             "ticks": ""
            },
            "colorscale": [
             [
              0,
              "#0d0887"
             ],
             [
              0.1111111111111111,
              "#46039f"
             ],
             [
              0.2222222222222222,
              "#7201a8"
             ],
             [
              0.3333333333333333,
              "#9c179e"
             ],
             [
              0.4444444444444444,
              "#bd3786"
             ],
             [
              0.5555555555555556,
              "#d8576b"
             ],
             [
              0.6666666666666666,
              "#ed7953"
             ],
             [
              0.7777777777777778,
              "#fb9f3a"
             ],
             [
              0.8888888888888888,
              "#fdca26"
             ],
             [
              1,
              "#f0f921"
             ]
            ],
            "type": "heatmap"
           }
          ],
          "histogram": [
           {
            "marker": {
             "pattern": {
              "fillmode": "overlay",
              "size": 10,
              "solidity": 0.2
             }
            },
            "type": "histogram"
           }
          ],
          "histogram2d": [
           {
            "colorbar": {
             "outlinewidth": 0,
             "ticks": ""
            },
            "colorscale": [
             [
              0,
              "#0d0887"
             ],
             [
              0.1111111111111111,
              "#46039f"
             ],
             [
              0.2222222222222222,
              "#7201a8"
             ],
             [
              0.3333333333333333,
              "#9c179e"
             ],
             [
              0.4444444444444444,
              "#bd3786"
             ],
             [
              0.5555555555555556,
              "#d8576b"
             ],
             [
              0.6666666666666666,
              "#ed7953"
             ],
             [
              0.7777777777777778,
              "#fb9f3a"
             ],
             [
              0.8888888888888888,
              "#fdca26"
             ],
             [
              1,
              "#f0f921"
             ]
            ],
            "type": "histogram2d"
           }
          ],
          "histogram2dcontour": [
           {
            "colorbar": {
             "outlinewidth": 0,
             "ticks": ""
            },
            "colorscale": [
             [
              0,
              "#0d0887"
             ],
             [
              0.1111111111111111,
              "#46039f"
             ],
             [
              0.2222222222222222,
              "#7201a8"
             ],
             [
              0.3333333333333333,
              "#9c179e"
             ],
             [
              0.4444444444444444,
              "#bd3786"
             ],
             [
              0.5555555555555556,
              "#d8576b"
             ],
             [
              0.6666666666666666,
              "#ed7953"
             ],
             [
              0.7777777777777778,
              "#fb9f3a"
             ],
             [
              0.8888888888888888,
              "#fdca26"
             ],
             [
              1,
              "#f0f921"
             ]
            ],
            "type": "histogram2dcontour"
           }
          ],
          "mesh3d": [
           {
            "colorbar": {
             "outlinewidth": 0,
             "ticks": ""
            },
            "type": "mesh3d"
           }
          ],
          "parcoords": [
           {
            "line": {
             "colorbar": {
              "outlinewidth": 0,
              "ticks": ""
             }
            },
            "type": "parcoords"
           }
          ],
          "pie": [
           {
            "automargin": true,
            "type": "pie"
           }
          ],
          "scatter": [
           {
            "fillpattern": {
             "fillmode": "overlay",
             "size": 10,
             "solidity": 0.2
            },
            "type": "scatter"
           }
          ],
          "scatter3d": [
           {
            "line": {
             "colorbar": {
              "outlinewidth": 0,
              "ticks": ""
             }
            },
            "marker": {
             "colorbar": {
              "outlinewidth": 0,
              "ticks": ""
             }
            },
            "type": "scatter3d"
           }
          ],
          "scattercarpet": [
           {
            "marker": {
             "colorbar": {
              "outlinewidth": 0,
              "ticks": ""
             }
            },
            "type": "scattercarpet"
           }
          ],
          "scattergeo": [
           {
            "marker": {
             "colorbar": {
              "outlinewidth": 0,
              "ticks": ""
             }
            },
            "type": "scattergeo"
           }
          ],
          "scattergl": [
           {
            "marker": {
             "colorbar": {
              "outlinewidth": 0,
              "ticks": ""
             }
            },
            "type": "scattergl"
           }
          ],
          "scattermap": [
           {
            "marker": {
             "colorbar": {
              "outlinewidth": 0,
              "ticks": ""
             }
            },
            "type": "scattermap"
           }
          ],
          "scattermapbox": [
           {
            "marker": {
             "colorbar": {
              "outlinewidth": 0,
              "ticks": ""
             }
            },
            "type": "scattermapbox"
           }
          ],
          "scatterpolar": [
           {
            "marker": {
             "colorbar": {
              "outlinewidth": 0,
              "ticks": ""
             }
            },
            "type": "scatterpolar"
           }
          ],
          "scatterpolargl": [
           {
            "marker": {
             "colorbar": {
              "outlinewidth": 0,
              "ticks": ""
             }
            },
            "type": "scatterpolargl"
           }
          ],
          "scatterternary": [
           {
            "marker": {
             "colorbar": {
              "outlinewidth": 0,
              "ticks": ""
             }
            },
            "type": "scatterternary"
           }
          ],
          "surface": [
           {
            "colorbar": {
             "outlinewidth": 0,
             "ticks": ""
            },
            "colorscale": [
             [
              0,
              "#0d0887"
             ],
             [
              0.1111111111111111,
              "#46039f"
             ],
             [
              0.2222222222222222,
              "#7201a8"
             ],
             [
              0.3333333333333333,
              "#9c179e"
             ],
             [
              0.4444444444444444,
              "#bd3786"
             ],
             [
              0.5555555555555556,
              "#d8576b"
             ],
             [
              0.6666666666666666,
              "#ed7953"
             ],
             [
              0.7777777777777778,
              "#fb9f3a"
             ],
             [
              0.8888888888888888,
              "#fdca26"
             ],
             [
              1,
              "#f0f921"
             ]
            ],
            "type": "surface"
           }
          ],
          "table": [
           {
            "cells": {
             "fill": {
              "color": "#EBF0F8"
             },
             "line": {
              "color": "white"
             }
            },
            "header": {
             "fill": {
              "color": "#C8D4E3"
             },
             "line": {
              "color": "white"
             }
            },
            "type": "table"
           }
          ]
         },
         "layout": {
          "annotationdefaults": {
           "arrowcolor": "#2a3f5f",
           "arrowhead": 0,
           "arrowwidth": 1
          },
          "autotypenumbers": "strict",
          "coloraxis": {
           "colorbar": {
            "outlinewidth": 0,
            "ticks": ""
           }
          },
          "colorscale": {
           "diverging": [
            [
             0,
             "#8e0152"
            ],
            [
             0.1,
             "#c51b7d"
            ],
            [
             0.2,
             "#de77ae"
            ],
            [
             0.3,
             "#f1b6da"
            ],
            [
             0.4,
             "#fde0ef"
            ],
            [
             0.5,
             "#f7f7f7"
            ],
            [
             0.6,
             "#e6f5d0"
            ],
            [
             0.7,
             "#b8e186"
            ],
            [
             0.8,
             "#7fbc41"
            ],
            [
             0.9,
             "#4d9221"
            ],
            [
             1,
             "#276419"
            ]
           ],
           "sequential": [
            [
             0,
             "#0d0887"
            ],
            [
             0.1111111111111111,
             "#46039f"
            ],
            [
             0.2222222222222222,
             "#7201a8"
            ],
            [
             0.3333333333333333,
             "#9c179e"
            ],
            [
             0.4444444444444444,
             "#bd3786"
            ],
            [
             0.5555555555555556,
             "#d8576b"
            ],
            [
             0.6666666666666666,
             "#ed7953"
            ],
            [
             0.7777777777777778,
             "#fb9f3a"
            ],
            [
             0.8888888888888888,
             "#fdca26"
            ],
            [
             1,
             "#f0f921"
            ]
           ],
           "sequentialminus": [
            [
             0,
             "#0d0887"
            ],
            [
             0.1111111111111111,
             "#46039f"
            ],
            [
             0.2222222222222222,
             "#7201a8"
            ],
            [
             0.3333333333333333,
             "#9c179e"
            ],
            [
             0.4444444444444444,
             "#bd3786"
            ],
            [
             0.5555555555555556,
             "#d8576b"
            ],
            [
             0.6666666666666666,
             "#ed7953"
            ],
            [
             0.7777777777777778,
             "#fb9f3a"
            ],
            [
             0.8888888888888888,
             "#fdca26"
            ],
            [
             1,
             "#f0f921"
            ]
           ]
          },
          "colorway": [
           "#636efa",
           "#EF553B",
           "#00cc96",
           "#ab63fa",
           "#FFA15A",
           "#19d3f3",
           "#FF6692",
           "#B6E880",
           "#FF97FF",
           "#FECB52"
          ],
          "font": {
           "color": "#2a3f5f"
          },
          "geo": {
           "bgcolor": "white",
           "lakecolor": "white",
           "landcolor": "white",
           "showlakes": true,
           "showland": true,
           "subunitcolor": "#C8D4E3"
          },
          "hoverlabel": {
           "align": "left"
          },
          "hovermode": "closest",
          "mapbox": {
           "style": "light"
          },
          "paper_bgcolor": "white",
          "plot_bgcolor": "white",
          "polar": {
           "angularaxis": {
            "gridcolor": "#EBF0F8",
            "linecolor": "#EBF0F8",
            "ticks": ""
           },
           "bgcolor": "white",
           "radialaxis": {
            "gridcolor": "#EBF0F8",
            "linecolor": "#EBF0F8",
            "ticks": ""
           }
          },
          "scene": {
           "xaxis": {
            "backgroundcolor": "white",
            "gridcolor": "#DFE8F3",
            "gridwidth": 2,
            "linecolor": "#EBF0F8",
            "showbackground": true,
            "ticks": "",
            "zerolinecolor": "#EBF0F8"
           },
           "yaxis": {
            "backgroundcolor": "white",
            "gridcolor": "#DFE8F3",
            "gridwidth": 2,
            "linecolor": "#EBF0F8",
            "showbackground": true,
            "ticks": "",
            "zerolinecolor": "#EBF0F8"
           },
           "zaxis": {
            "backgroundcolor": "white",
            "gridcolor": "#DFE8F3",
            "gridwidth": 2,
            "linecolor": "#EBF0F8",
            "showbackground": true,
            "ticks": "",
            "zerolinecolor": "#EBF0F8"
           }
          },
          "shapedefaults": {
           "line": {
            "color": "#2a3f5f"
           }
          },
          "ternary": {
           "aaxis": {
            "gridcolor": "#DFE8F3",
            "linecolor": "#A2B1C6",
            "ticks": ""
           },
           "baxis": {
            "gridcolor": "#DFE8F3",
            "linecolor": "#A2B1C6",
            "ticks": ""
           },
           "bgcolor": "white",
           "caxis": {
            "gridcolor": "#DFE8F3",
            "linecolor": "#A2B1C6",
            "ticks": ""
           }
          },
          "title": {
           "x": 0.05
          },
          "xaxis": {
           "automargin": true,
           "gridcolor": "#EBF0F8",
           "linecolor": "#EBF0F8",
           "ticks": "",
           "title": {
            "standoff": 15
           },
           "zerolinecolor": "#EBF0F8",
           "zerolinewidth": 2
          },
          "yaxis": {
           "automargin": true,
           "gridcolor": "#EBF0F8",
           "linecolor": "#EBF0F8",
           "ticks": "",
           "title": {
            "standoff": 15
           },
           "zerolinecolor": "#EBF0F8",
           "zerolinewidth": 2
          }
         }
        },
        "title": {
         "font": {
          "color": "white",
          "family": "Courier New, monospace",
          "size": 20
         },
         "text": "Groceries average spending"
        },
        "xaxis": {
         "anchor": "y",
         "domain": [
          0,
          1
         ],
         "gridcolor": "rgba(255,255,255,0.1)",
         "linecolor": "white",
         "linewidth": 2,
         "showline": true,
         "tickfont": {
          "color": "white"
         },
         "title": {
          "font": {
           "color": "white",
           "family": "Arial Black, Arial, sans-serif",
           "size": 16
          },
          "text": "TransactionDate"
         }
        },
        "yaxis": {
         "anchor": "x",
         "domain": [
          0,
          1
         ],
         "gridcolor": "rgba(255,255,255,0.1)",
         "linecolor": "white",
         "linewidth": 2,
         "showline": true,
         "tickfont": {
          "color": "white"
         },
         "title": {
          "font": {
           "color": "white",
           "family": "Arial Black, Arial, sans-serif",
           "size": 16
          },
          "text": "AmountSpent"
         }
        }
       }
      }
     },
     "metadata": {},
     "output_type": "display_data"
    }
   ],
   "source": [
    "fig = px.line(churn_trans_average_groc,\n",
    "        x='TransactionDate',\n",
    "        y='AmountSpent',\n",
    "        color='ChurnStatus',\n",
    "        template='plotly_white',\n",
    "        color_discrete_sequence=[\"#456987\", \"#7ed2bc\"],\n",
    "        markers=True)\n",
    "\n",
    "# Update layout for transparent background and white fonts\n",
    "fig.update_layout(\n",
    "    paper_bgcolor='rgba(0,0,0,0)',  # Transparent outer background[2][3][8]\n",
    "    plot_bgcolor='rgba(0,0,0,0)',   # Transparent plotting area background[2][3][8]\n",
    "    title_font=dict(color='white'),  # White plot title\n",
    "    xaxis_title_font=dict(family=\"Arial Black, Arial, sans-serif\", size=16, color=\"white\"),\n",
    "    yaxis_title_font=dict(family=\"Arial Black, Arial, sans-serif\", size=16, color=\"white\"),\n",
    "\n",
    "    legend=dict(\n",
    "        font=dict(color='white'),  # White legend text\n",
    "        bgcolor='rgba(0,0,0,0)'   # Transparent legend background\n",
    "    ),\n",
    "    title=dict(\n",
    "        text=\"Groceries average spending\",\n",
    "        font=dict(\n",
    "            color='white',\n",
    "            size=20,\n",
    "            family='Courier New, monospace'  # Use a bold font family\n",
    "        )\n",
    "    )\n",
    ")\n",
    "\n",
    "# Update x and y axes for white lines, ticks, labels, and 20% opacity grid\n",
    "fig.update_xaxes(\n",
    "    showline=True,         # Show axis line\n",
    "    linecolor='white',     # White axis line\n",
    "    tickfont=dict(color='white'),  # White tick labels\n",
    "    gridcolor='rgba(255,255,255,0.1)',  # White grid lines with 20% opacity\n",
    "    linewidth=2\n",
    ")\n",
    "fig.update_yaxes(\n",
    "    showline=True,\n",
    "    linecolor='white',\n",
    "    tickfont=dict(color='white'),\n",
    "    gridcolor='rgba(255,255,255,0.1)',  # White grid lines with 20% opacity\n",
    "    linewidth=2\n",
    ")\n",
    "\n",
    "\n",
    "fig.show()"
   ]
  },
  {
   "cell_type": "markdown",
   "metadata": {},
   "source": [
    "### **4. Service relation to churn**\n",
    "\n",
    "We also have information about the customer interaction with the banks' **customer service department**\n",
    "\n",
    "- On first impression, bad customer service and unresolved issues of customer users can be a reason why a customer churned\n",
    "- As with other data, variation between both groups is quite minimal, however:\n",
    "\n",
    "    - **complaints** and **Inquiries**, churned customers had a smaller resolved percentage, as opposed to non churned customers\n"
   ]
  },
  {
   "cell_type": "code",
   "execution_count": 133,
   "metadata": {},
   "outputs": [
    {
     "data": {
      "text/html": [
       "<style type=\"text/css\">\n",
       "#T_4d35e_row0_col0, #T_4d35e_row1_col3 {\n",
       "  background-color: #5ec962;\n",
       "  color: #000000;\n",
       "}\n",
       "#T_4d35e_row0_col1, #T_4d35e_row1_col0, #T_4d35e_row1_col2, #T_4d35e_row4_col3 {\n",
       "  background-color: #fde725;\n",
       "  color: #000000;\n",
       "}\n",
       "#T_4d35e_row0_col2 {\n",
       "  background-color: #c2df23;\n",
       "  color: #000000;\n",
       "}\n",
       "#T_4d35e_row0_col3 {\n",
       "  background-color: #414487;\n",
       "  color: #f1f1f1;\n",
       "}\n",
       "#T_4d35e_row1_col1 {\n",
       "  background-color: #c5e021;\n",
       "  color: #000000;\n",
       "}\n",
       "#T_4d35e_row2_col0 {\n",
       "  background-color: #9dd93b;\n",
       "  color: #000000;\n",
       "}\n",
       "#T_4d35e_row2_col1 {\n",
       "  background-color: #63cb5f;\n",
       "  color: #000000;\n",
       "}\n",
       "#T_4d35e_row2_col2 {\n",
       "  background-color: #98d83e;\n",
       "  color: #000000;\n",
       "}\n",
       "#T_4d35e_row2_col3 {\n",
       "  background-color: #73d056;\n",
       "  color: #000000;\n",
       "}\n",
       "#T_4d35e_row3_col0 {\n",
       "  background-color: #450457;\n",
       "  color: #f1f1f1;\n",
       "}\n",
       "#T_4d35e_row3_col1 {\n",
       "  background-color: #482979;\n",
       "  color: #f1f1f1;\n",
       "}\n",
       "#T_4d35e_row3_col2 {\n",
       "  background-color: #481769;\n",
       "  color: #f1f1f1;\n",
       "}\n",
       "#T_4d35e_row3_col3, #T_4d35e_row5_col0, #T_4d35e_row5_col1, #T_4d35e_row5_col2 {\n",
       "  background-color: #440154;\n",
       "  color: #f1f1f1;\n",
       "}\n",
       "#T_4d35e_row4_col0 {\n",
       "  background-color: #482576;\n",
       "  color: #f1f1f1;\n",
       "}\n",
       "#T_4d35e_row4_col1 {\n",
       "  background-color: #471164;\n",
       "  color: #f1f1f1;\n",
       "}\n",
       "#T_4d35e_row4_col2 {\n",
       "  background-color: #481d6f;\n",
       "  color: #f1f1f1;\n",
       "}\n",
       "#T_4d35e_row5_col3 {\n",
       "  background-color: #37b878;\n",
       "  color: #f1f1f1;\n",
       "}\n",
       "</style>\n",
       "<table id=\"T_4d35e\">\n",
       "  <thead>\n",
       "    <tr>\n",
       "      <th class=\"blank\" >&nbsp;</th>\n",
       "      <th class=\"index_name level0\" >ResolutionStatus</th>\n",
       "      <th id=\"T_4d35e_level0_col0\" class=\"col_heading level0 col0\" >Resolved</th>\n",
       "      <th id=\"T_4d35e_level0_col1\" class=\"col_heading level0 col1\" >Unresolved</th>\n",
       "      <th id=\"T_4d35e_level0_col2\" class=\"col_heading level0 col2\" >Total</th>\n",
       "      <th id=\"T_4d35e_level0_col3\" class=\"col_heading level0 col3\" >Resolved/Total</th>\n",
       "    </tr>\n",
       "    <tr>\n",
       "      <th class=\"index_name level0\" >ChurnStatus</th>\n",
       "      <th class=\"index_name level1\" >InteractionType</th>\n",
       "      <th class=\"blank col0\" >&nbsp;</th>\n",
       "      <th class=\"blank col1\" >&nbsp;</th>\n",
       "      <th class=\"blank col2\" >&nbsp;</th>\n",
       "      <th class=\"blank col3\" >&nbsp;</th>\n",
       "    </tr>\n",
       "  </thead>\n",
       "  <tbody>\n",
       "    <tr>\n",
       "      <th id=\"T_4d35e_level0_row0\" class=\"row_heading level0 row0\" rowspan=\"3\">0</th>\n",
       "      <th id=\"T_4d35e_level1_row0\" class=\"row_heading level1 row0\" >Complaint</th>\n",
       "      <td id=\"T_4d35e_row0_col0\" class=\"data row0 col0\" >124.00</td>\n",
       "      <td id=\"T_4d35e_row0_col1\" class=\"data row0 col1\" >139.00</td>\n",
       "      <td id=\"T_4d35e_row0_col2\" class=\"data row0 col2\" >263.00</td>\n",
       "      <td id=\"T_4d35e_row0_col3\" class=\"data row0 col3\" >47.15</td>\n",
       "    </tr>\n",
       "    <tr>\n",
       "      <th id=\"T_4d35e_level1_row1\" class=\"row_heading level1 row1\" >Feedback</th>\n",
       "      <td id=\"T_4d35e_row1_col0\" class=\"data row1 col0\" >155.00</td>\n",
       "      <td id=\"T_4d35e_row1_col1\" class=\"data row1 col1\" >129.00</td>\n",
       "      <td id=\"T_4d35e_row1_col2\" class=\"data row1 col2\" >284.00</td>\n",
       "      <td id=\"T_4d35e_row1_col3\" class=\"data row1 col3\" >54.58</td>\n",
       "    </tr>\n",
       "    <tr>\n",
       "      <th id=\"T_4d35e_level1_row2\" class=\"row_heading level1 row2\" >Inquiry</th>\n",
       "      <td id=\"T_4d35e_row2_col0\" class=\"data row2 col0\" >137.00</td>\n",
       "      <td id=\"T_4d35e_row2_col1\" class=\"data row2 col1\" >112.00</td>\n",
       "      <td id=\"T_4d35e_row2_col2\" class=\"data row2 col2\" >249.00</td>\n",
       "      <td id=\"T_4d35e_row2_col3\" class=\"data row2 col3\" >55.02</td>\n",
       "    </tr>\n",
       "    <tr>\n",
       "      <th id=\"T_4d35e_level0_row3\" class=\"row_heading level0 row3\" rowspan=\"3\">1</th>\n",
       "      <th id=\"T_4d35e_level1_row3\" class=\"row_heading level1 row3\" >Complaint</th>\n",
       "      <td id=\"T_4d35e_row3_col0\" class=\"data row3 col0\" >32.00</td>\n",
       "      <td id=\"T_4d35e_row3_col1\" class=\"data row3 col1\" >40.00</td>\n",
       "      <td id=\"T_4d35e_row3_col2\" class=\"data row3 col2\" >72.00</td>\n",
       "      <td id=\"T_4d35e_row3_col3\" class=\"data row3 col3\" >44.44</td>\n",
       "    </tr>\n",
       "    <tr>\n",
       "      <th id=\"T_4d35e_level1_row4\" class=\"row_heading level1 row4\" >Feedback</th>\n",
       "      <td id=\"T_4d35e_row4_col0\" class=\"data row4 col0\" >44.00</td>\n",
       "      <td id=\"T_4d35e_row4_col1\" class=\"data row4 col1\" >32.00</td>\n",
       "      <td id=\"T_4d35e_row4_col2\" class=\"data row4 col2\" >76.00</td>\n",
       "      <td id=\"T_4d35e_row4_col3\" class=\"data row4 col3\" >57.89</td>\n",
       "    </tr>\n",
       "    <tr>\n",
       "      <th id=\"T_4d35e_level1_row5\" class=\"row_heading level1 row5\" >Inquiry</th>\n",
       "      <td id=\"T_4d35e_row5_col0\" class=\"data row5 col0\" >31.00</td>\n",
       "      <td id=\"T_4d35e_row5_col1\" class=\"data row5 col1\" >27.00</td>\n",
       "      <td id=\"T_4d35e_row5_col2\" class=\"data row5 col2\" >58.00</td>\n",
       "      <td id=\"T_4d35e_row5_col3\" class=\"data row5 col3\" >53.45</td>\n",
       "    </tr>\n",
       "  </tbody>\n",
       "</table>\n"
      ],
      "text/plain": [
       "<pandas.io.formats.style.Styler at 0x70d7e86ebaa0>"
      ]
     },
     "execution_count": 133,
     "metadata": {},
     "output_type": "execute_result"
    }
   ],
   "source": [
    "service_churn = service.merge(status,left_on='CustomerID',right_on='CustomerID',how='left')\n",
    "\n",
    "# resolved / unresolved statistics for both groups\n",
    "serv_churn = service_churn.groupby(['InteractionType','ResolutionStatus','ChurnStatus'])['CustomerID'].count().reset_index()\n",
    "serv_churn_stats = pd.pivot(serv_churn,index=['ChurnStatus','InteractionType'],columns='ResolutionStatus',values='CustomerID')\n",
    "serv_churn_stats['Total'] = serv_churn_stats['Resolved'] + serv_churn_stats['Unresolved']\n",
    "serv_churn_stats['Resolved/Total'] = ((serv_churn_stats['Resolved']/serv_churn_stats['Total'])*100).round(2)\n",
    "serv_churn_stats.style.background_gradient(cmap='viridis').format(\"{:.2f}\")"
   ]
  },
  {
   "cell_type": "markdown",
   "metadata": {},
   "source": [
    "### **5. Activity relation to churn**\n",
    "\n",
    "The last group of data is related to the user's **online activity**\n",
    "\n",
    "- For churned users, percentage tended to increase for users who utilised **Mobile App** (21%) more than **Online Banking** (18.22%) and **Website** (16.55%) for users who churned\n",
    "- For Non churned users, the usage tended to be quite even for all three groups (79 - 83%)\n",
    "- If we look at the **timeline**\n",
    "\n",
    "    - Up to October 2023, churned and non churned users tended to have similar activity\n",
    "    - Activity of churned users after October 2023 tended to reduce quite a bit compared to non churned users"
   ]
  },
  {
   "cell_type": "code",
   "execution_count": 134,
   "metadata": {},
   "outputs": [
    {
     "data": {
      "text/html": [
       "<div>\n",
       "<style scoped>\n",
       "    .dataframe tbody tr th:only-of-type {\n",
       "        vertical-align: middle;\n",
       "    }\n",
       "\n",
       "    .dataframe tbody tr th {\n",
       "        vertical-align: top;\n",
       "    }\n",
       "\n",
       "    .dataframe thead th {\n",
       "        text-align: right;\n",
       "    }\n",
       "</style>\n",
       "<table border=\"1\" class=\"dataframe\">\n",
       "  <thead>\n",
       "    <tr style=\"text-align: right;\">\n",
       "      <th></th>\n",
       "      <th>ServiceUsage</th>\n",
       "      <th>ChurnStatus</th>\n",
       "      <th>LoginFrequency_x</th>\n",
       "      <th>LoginFrequency_y</th>\n",
       "      <th>serviceusage_ratio</th>\n",
       "    </tr>\n",
       "  </thead>\n",
       "  <tbody>\n",
       "    <tr>\n",
       "      <th>0</th>\n",
       "      <td>Mobile App</td>\n",
       "      <td>0</td>\n",
       "      <td>6768</td>\n",
       "      <td>8565</td>\n",
       "      <td>79.02</td>\n",
       "    </tr>\n",
       "    <tr>\n",
       "      <th>1</th>\n",
       "      <td>Mobile App</td>\n",
       "      <td>1</td>\n",
       "      <td>1797</td>\n",
       "      <td>8565</td>\n",
       "      <td>20.98</td>\n",
       "    </tr>\n",
       "    <tr>\n",
       "      <th>2</th>\n",
       "      <td>Online Banking</td>\n",
       "      <td>0</td>\n",
       "      <td>7667</td>\n",
       "      <td>9375</td>\n",
       "      <td>81.78</td>\n",
       "    </tr>\n",
       "    <tr>\n",
       "      <th>3</th>\n",
       "      <td>Online Banking</td>\n",
       "      <td>1</td>\n",
       "      <td>1708</td>\n",
       "      <td>9375</td>\n",
       "      <td>18.22</td>\n",
       "    </tr>\n",
       "    <tr>\n",
       "      <th>4</th>\n",
       "      <td>Website</td>\n",
       "      <td>0</td>\n",
       "      <td>6653</td>\n",
       "      <td>7972</td>\n",
       "      <td>83.45</td>\n",
       "    </tr>\n",
       "    <tr>\n",
       "      <th>5</th>\n",
       "      <td>Website</td>\n",
       "      <td>1</td>\n",
       "      <td>1319</td>\n",
       "      <td>7972</td>\n",
       "      <td>16.55</td>\n",
       "    </tr>\n",
       "  </tbody>\n",
       "</table>\n",
       "</div>"
      ],
      "text/plain": [
       "     ServiceUsage ChurnStatus  LoginFrequency_x  LoginFrequency_y  \\\n",
       "0      Mobile App           0              6768              8565   \n",
       "1      Mobile App           1              1797              8565   \n",
       "2  Online Banking           0              7667              9375   \n",
       "3  Online Banking           1              1708              9375   \n",
       "4         Website           0              6653              7972   \n",
       "5         Website           1              1319              7972   \n",
       "\n",
       "   serviceusage_ratio  \n",
       "0               79.02  \n",
       "1               20.98  \n",
       "2               81.78  \n",
       "3               18.22  \n",
       "4               83.45  \n",
       "5               16.55  "
      ]
     },
     "execution_count": 134,
     "metadata": {},
     "output_type": "execute_result"
    }
   ],
   "source": [
    "# general activity statistics & relation to churn\n",
    "activity_churn = activity.merge(status,left_on='CustomerID',right_on='CustomerID',how='left')\n",
    "\n",
    "total_activity = activity_churn.groupby(['ServiceUsage'])['LoginFrequency'].sum()\n",
    "activity_churn_stat = activity_churn[['ServiceUsage','ChurnStatus','LoginFrequency']].groupby(['ServiceUsage','ChurnStatus']).sum()\n",
    "activity_churn_stat_merge = activity_churn_stat.reset_index().merge(total_activity,left_on='ServiceUsage',right_on='ServiceUsage')\n",
    "activity_churn_stat_merge['serviceusage_ratio'] = ((activity_churn_stat_merge['LoginFrequency_x']/activity_churn_stat_merge['LoginFrequency_y'])*100).round(2)\n",
    "activity_churn_stat_merge"
   ]
  },
  {
   "cell_type": "code",
   "execution_count": 135,
   "metadata": {},
   "outputs": [
    {
     "data": {
      "application/vnd.plotly.v1+json": {
       "config": {
        "plotlyServerURL": "https://plot.ly"
       },
       "data": [
        {
         "hovertemplate": "ChurnStatus=0<br>LastLoginDate=%{x}<br>norm_LoginFrequency=%{y}<extra></extra>",
         "legendgroup": "0",
         "line": {
          "color": "#456987",
          "dash": "solid"
         },
         "marker": {
          "symbol": "circle"
         },
         "mode": "lines+markers",
         "name": "0",
         "orientation": "v",
         "showlegend": true,
         "type": "scatter",
         "x": [
          "2023-01-01T00:00:00.000000000",
          "2023-01-16T00:00:00.000000000",
          "2023-01-31T00:00:00.000000000",
          "2023-02-15T00:00:00.000000000",
          "2023-03-02T00:00:00.000000000",
          "2023-03-17T00:00:00.000000000",
          "2023-04-01T00:00:00.000000000",
          "2023-04-16T00:00:00.000000000",
          "2023-05-01T00:00:00.000000000",
          "2023-05-16T00:00:00.000000000",
          "2023-05-31T00:00:00.000000000",
          "2023-06-15T00:00:00.000000000",
          "2023-06-30T00:00:00.000000000",
          "2023-07-15T00:00:00.000000000",
          "2023-07-30T00:00:00.000000000",
          "2023-08-14T00:00:00.000000000",
          "2023-08-29T00:00:00.000000000",
          "2023-09-13T00:00:00.000000000",
          "2023-09-28T00:00:00.000000000",
          "2023-10-13T00:00:00.000000000",
          "2023-10-28T00:00:00.000000000",
          "2023-11-12T00:00:00.000000000",
          "2023-11-27T00:00:00.000000000",
          "2023-12-12T00:00:00.000000000",
          "2023-12-27T00:00:00.000000000"
         ],
         "xaxis": "x",
         "y": {
          "bdata": "/u2Bjd6VXUBOJQUk/ORcQLHa+tsDG1VAr8h8aeLwX0BTSQEJP7lTQB/Y6F2R+VNABy07nlPJU0BI+MmFqNtbQDNo2fGcylRAN4OWHc8pVEDTxGGstr5hQN0MWnY8J2JAe2Cjd0WmV0Cy4zmVFBBZQIvMlyYOI1VAVVJAwk/uXUBq4jBWWz9iQJtBy47n1FxAbwYtO56TVUBirLb+9oBjQGW+NHEYa1tAlyYOY7V1XUAh6mbQsuNbQCX85ELUjV1AfWniMFZbRUA=",
          "dtype": "f8"
         },
         "yaxis": "y"
        },
        {
         "hovertemplate": "ChurnStatus=1<br>LastLoginDate=%{x}<br>norm_LoginFrequency=%{y}<extra></extra>",
         "legendgroup": "1",
         "line": {
          "color": "#7ed2bc",
          "dash": "solid"
         },
         "marker": {
          "symbol": "circle"
         },
         "mode": "lines+markers",
         "name": "1",
         "orientation": "v",
         "showlegend": true,
         "type": "scatter",
         "x": [
          "2023-01-03T00:00:00.000000000",
          "2023-01-18T00:00:00.000000000",
          "2023-02-02T00:00:00.000000000",
          "2023-02-17T00:00:00.000000000",
          "2023-03-04T00:00:00.000000000",
          "2023-03-19T00:00:00.000000000",
          "2023-04-03T00:00:00.000000000",
          "2023-04-18T00:00:00.000000000",
          "2023-05-03T00:00:00.000000000",
          "2023-05-18T00:00:00.000000000",
          "2023-06-02T00:00:00.000000000",
          "2023-06-17T00:00:00.000000000",
          "2023-07-02T00:00:00.000000000",
          "2023-07-17T00:00:00.000000000",
          "2023-08-01T00:00:00.000000000",
          "2023-08-16T00:00:00.000000000",
          "2023-08-31T00:00:00.000000000",
          "2023-09-15T00:00:00.000000000",
          "2023-09-30T00:00:00.000000000",
          "2023-10-15T00:00:00.000000000",
          "2023-10-30T00:00:00.000000000",
          "2023-11-14T00:00:00.000000000",
          "2023-11-29T00:00:00.000000000",
          "2023-12-14T00:00:00.000000000",
          "2023-12-29T00:00:00.000000000"
         ],
         "xaxis": "x",
         "y": {
          "bdata": "jIyMjIzMXEDi4eHh4eFOQPHw8PDw8FtAZGRkZGTkUUAPDw8PDw9WQB4eHh4enl9AS0tLS0vLRkDJyMjIyAhhQOLh4eHh4U5AsK+vr68vTEDx8PDw8JBiQJKRkZGR0VtAoaCgoKAgX0BfX19fXx9ZQCgoKCgoaFdA7evr6+vLaUDOzc3NzQ1QQJaWlpaW1lpAqqqqqqqqYECSkZGRkdFbQF9fX19fXz9A5+bm5uZmUUCWlpaWlpZUQJybm5ubm1NA9vX19fX1OkA=",
          "dtype": "f8"
         },
         "yaxis": "y"
        }
       ],
       "layout": {
        "legend": {
         "bgcolor": "rgba(0,0,0,0)",
         "font": {
          "color": "white"
         },
         "title": {
          "text": "ChurnStatus"
         },
         "tracegroupgap": 0
        },
        "margin": {
         "t": 60
        },
        "paper_bgcolor": "rgba(0,0,0,0)",
        "plot_bgcolor": "rgba(0,0,0,0)",
        "template": {
         "data": {
          "bar": [
           {
            "error_x": {
             "color": "#2a3f5f"
            },
            "error_y": {
             "color": "#2a3f5f"
            },
            "marker": {
             "line": {
              "color": "white",
              "width": 0.5
             },
             "pattern": {
              "fillmode": "overlay",
              "size": 10,
              "solidity": 0.2
             }
            },
            "type": "bar"
           }
          ],
          "barpolar": [
           {
            "marker": {
             "line": {
              "color": "white",
              "width": 0.5
             },
             "pattern": {
              "fillmode": "overlay",
              "size": 10,
              "solidity": 0.2
             }
            },
            "type": "barpolar"
           }
          ],
          "carpet": [
           {
            "aaxis": {
             "endlinecolor": "#2a3f5f",
             "gridcolor": "#C8D4E3",
             "linecolor": "#C8D4E3",
             "minorgridcolor": "#C8D4E3",
             "startlinecolor": "#2a3f5f"
            },
            "baxis": {
             "endlinecolor": "#2a3f5f",
             "gridcolor": "#C8D4E3",
             "linecolor": "#C8D4E3",
             "minorgridcolor": "#C8D4E3",
             "startlinecolor": "#2a3f5f"
            },
            "type": "carpet"
           }
          ],
          "choropleth": [
           {
            "colorbar": {
             "outlinewidth": 0,
             "ticks": ""
            },
            "type": "choropleth"
           }
          ],
          "contour": [
           {
            "colorbar": {
             "outlinewidth": 0,
             "ticks": ""
            },
            "colorscale": [
             [
              0,
              "#0d0887"
             ],
             [
              0.1111111111111111,
              "#46039f"
             ],
             [
              0.2222222222222222,
              "#7201a8"
             ],
             [
              0.3333333333333333,
              "#9c179e"
             ],
             [
              0.4444444444444444,
              "#bd3786"
             ],
             [
              0.5555555555555556,
              "#d8576b"
             ],
             [
              0.6666666666666666,
              "#ed7953"
             ],
             [
              0.7777777777777778,
              "#fb9f3a"
             ],
             [
              0.8888888888888888,
              "#fdca26"
             ],
             [
              1,
              "#f0f921"
             ]
            ],
            "type": "contour"
           }
          ],
          "contourcarpet": [
           {
            "colorbar": {
             "outlinewidth": 0,
             "ticks": ""
            },
            "type": "contourcarpet"
           }
          ],
          "heatmap": [
           {
            "colorbar": {
             "outlinewidth": 0,
             "ticks": ""
            },
            "colorscale": [
             [
              0,
              "#0d0887"
             ],
             [
              0.1111111111111111,
              "#46039f"
             ],
             [
              0.2222222222222222,
              "#7201a8"
             ],
             [
              0.3333333333333333,
              "#9c179e"
             ],
             [
              0.4444444444444444,
              "#bd3786"
             ],
             [
              0.5555555555555556,
              "#d8576b"
             ],
             [
              0.6666666666666666,
              "#ed7953"
             ],
             [
              0.7777777777777778,
              "#fb9f3a"
             ],
             [
              0.8888888888888888,
              "#fdca26"
             ],
             [
              1,
              "#f0f921"
             ]
            ],
            "type": "heatmap"
           }
          ],
          "histogram": [
           {
            "marker": {
             "pattern": {
              "fillmode": "overlay",
              "size": 10,
              "solidity": 0.2
             }
            },
            "type": "histogram"
           }
          ],
          "histogram2d": [
           {
            "colorbar": {
             "outlinewidth": 0,
             "ticks": ""
            },
            "colorscale": [
             [
              0,
              "#0d0887"
             ],
             [
              0.1111111111111111,
              "#46039f"
             ],
             [
              0.2222222222222222,
              "#7201a8"
             ],
             [
              0.3333333333333333,
              "#9c179e"
             ],
             [
              0.4444444444444444,
              "#bd3786"
             ],
             [
              0.5555555555555556,
              "#d8576b"
             ],
             [
              0.6666666666666666,
              "#ed7953"
             ],
             [
              0.7777777777777778,
              "#fb9f3a"
             ],
             [
              0.8888888888888888,
              "#fdca26"
             ],
             [
              1,
              "#f0f921"
             ]
            ],
            "type": "histogram2d"
           }
          ],
          "histogram2dcontour": [
           {
            "colorbar": {
             "outlinewidth": 0,
             "ticks": ""
            },
            "colorscale": [
             [
              0,
              "#0d0887"
             ],
             [
              0.1111111111111111,
              "#46039f"
             ],
             [
              0.2222222222222222,
              "#7201a8"
             ],
             [
              0.3333333333333333,
              "#9c179e"
             ],
             [
              0.4444444444444444,
              "#bd3786"
             ],
             [
              0.5555555555555556,
              "#d8576b"
             ],
             [
              0.6666666666666666,
              "#ed7953"
             ],
             [
              0.7777777777777778,
              "#fb9f3a"
             ],
             [
              0.8888888888888888,
              "#fdca26"
             ],
             [
              1,
              "#f0f921"
             ]
            ],
            "type": "histogram2dcontour"
           }
          ],
          "mesh3d": [
           {
            "colorbar": {
             "outlinewidth": 0,
             "ticks": ""
            },
            "type": "mesh3d"
           }
          ],
          "parcoords": [
           {
            "line": {
             "colorbar": {
              "outlinewidth": 0,
              "ticks": ""
             }
            },
            "type": "parcoords"
           }
          ],
          "pie": [
           {
            "automargin": true,
            "type": "pie"
           }
          ],
          "scatter": [
           {
            "fillpattern": {
             "fillmode": "overlay",
             "size": 10,
             "solidity": 0.2
            },
            "type": "scatter"
           }
          ],
          "scatter3d": [
           {
            "line": {
             "colorbar": {
              "outlinewidth": 0,
              "ticks": ""
             }
            },
            "marker": {
             "colorbar": {
              "outlinewidth": 0,
              "ticks": ""
             }
            },
            "type": "scatter3d"
           }
          ],
          "scattercarpet": [
           {
            "marker": {
             "colorbar": {
              "outlinewidth": 0,
              "ticks": ""
             }
            },
            "type": "scattercarpet"
           }
          ],
          "scattergeo": [
           {
            "marker": {
             "colorbar": {
              "outlinewidth": 0,
              "ticks": ""
             }
            },
            "type": "scattergeo"
           }
          ],
          "scattergl": [
           {
            "marker": {
             "colorbar": {
              "outlinewidth": 0,
              "ticks": ""
             }
            },
            "type": "scattergl"
           }
          ],
          "scattermap": [
           {
            "marker": {
             "colorbar": {
              "outlinewidth": 0,
              "ticks": ""
             }
            },
            "type": "scattermap"
           }
          ],
          "scattermapbox": [
           {
            "marker": {
             "colorbar": {
              "outlinewidth": 0,
              "ticks": ""
             }
            },
            "type": "scattermapbox"
           }
          ],
          "scatterpolar": [
           {
            "marker": {
             "colorbar": {
              "outlinewidth": 0,
              "ticks": ""
             }
            },
            "type": "scatterpolar"
           }
          ],
          "scatterpolargl": [
           {
            "marker": {
             "colorbar": {
              "outlinewidth": 0,
              "ticks": ""
             }
            },
            "type": "scatterpolargl"
           }
          ],
          "scatterternary": [
           {
            "marker": {
             "colorbar": {
              "outlinewidth": 0,
              "ticks": ""
             }
            },
            "type": "scatterternary"
           }
          ],
          "surface": [
           {
            "colorbar": {
             "outlinewidth": 0,
             "ticks": ""
            },
            "colorscale": [
             [
              0,
              "#0d0887"
             ],
             [
              0.1111111111111111,
              "#46039f"
             ],
             [
              0.2222222222222222,
              "#7201a8"
             ],
             [
              0.3333333333333333,
              "#9c179e"
             ],
             [
              0.4444444444444444,
              "#bd3786"
             ],
             [
              0.5555555555555556,
              "#d8576b"
             ],
             [
              0.6666666666666666,
              "#ed7953"
             ],
             [
              0.7777777777777778,
              "#fb9f3a"
             ],
             [
              0.8888888888888888,
              "#fdca26"
             ],
             [
              1,
              "#f0f921"
             ]
            ],
            "type": "surface"
           }
          ],
          "table": [
           {
            "cells": {
             "fill": {
              "color": "#EBF0F8"
             },
             "line": {
              "color": "white"
             }
            },
            "header": {
             "fill": {
              "color": "#C8D4E3"
             },
             "line": {
              "color": "white"
             }
            },
            "type": "table"
           }
          ]
         },
         "layout": {
          "annotationdefaults": {
           "arrowcolor": "#2a3f5f",
           "arrowhead": 0,
           "arrowwidth": 1
          },
          "autotypenumbers": "strict",
          "coloraxis": {
           "colorbar": {
            "outlinewidth": 0,
            "ticks": ""
           }
          },
          "colorscale": {
           "diverging": [
            [
             0,
             "#8e0152"
            ],
            [
             0.1,
             "#c51b7d"
            ],
            [
             0.2,
             "#de77ae"
            ],
            [
             0.3,
             "#f1b6da"
            ],
            [
             0.4,
             "#fde0ef"
            ],
            [
             0.5,
             "#f7f7f7"
            ],
            [
             0.6,
             "#e6f5d0"
            ],
            [
             0.7,
             "#b8e186"
            ],
            [
             0.8,
             "#7fbc41"
            ],
            [
             0.9,
             "#4d9221"
            ],
            [
             1,
             "#276419"
            ]
           ],
           "sequential": [
            [
             0,
             "#0d0887"
            ],
            [
             0.1111111111111111,
             "#46039f"
            ],
            [
             0.2222222222222222,
             "#7201a8"
            ],
            [
             0.3333333333333333,
             "#9c179e"
            ],
            [
             0.4444444444444444,
             "#bd3786"
            ],
            [
             0.5555555555555556,
             "#d8576b"
            ],
            [
             0.6666666666666666,
             "#ed7953"
            ],
            [
             0.7777777777777778,
             "#fb9f3a"
            ],
            [
             0.8888888888888888,
             "#fdca26"
            ],
            [
             1,
             "#f0f921"
            ]
           ],
           "sequentialminus": [
            [
             0,
             "#0d0887"
            ],
            [
             0.1111111111111111,
             "#46039f"
            ],
            [
             0.2222222222222222,
             "#7201a8"
            ],
            [
             0.3333333333333333,
             "#9c179e"
            ],
            [
             0.4444444444444444,
             "#bd3786"
            ],
            [
             0.5555555555555556,
             "#d8576b"
            ],
            [
             0.6666666666666666,
             "#ed7953"
            ],
            [
             0.7777777777777778,
             "#fb9f3a"
            ],
            [
             0.8888888888888888,
             "#fdca26"
            ],
            [
             1,
             "#f0f921"
            ]
           ]
          },
          "colorway": [
           "#636efa",
           "#EF553B",
           "#00cc96",
           "#ab63fa",
           "#FFA15A",
           "#19d3f3",
           "#FF6692",
           "#B6E880",
           "#FF97FF",
           "#FECB52"
          ],
          "font": {
           "color": "#2a3f5f"
          },
          "geo": {
           "bgcolor": "white",
           "lakecolor": "white",
           "landcolor": "white",
           "showlakes": true,
           "showland": true,
           "subunitcolor": "#C8D4E3"
          },
          "hoverlabel": {
           "align": "left"
          },
          "hovermode": "closest",
          "mapbox": {
           "style": "light"
          },
          "paper_bgcolor": "white",
          "plot_bgcolor": "white",
          "polar": {
           "angularaxis": {
            "gridcolor": "#EBF0F8",
            "linecolor": "#EBF0F8",
            "ticks": ""
           },
           "bgcolor": "white",
           "radialaxis": {
            "gridcolor": "#EBF0F8",
            "linecolor": "#EBF0F8",
            "ticks": ""
           }
          },
          "scene": {
           "xaxis": {
            "backgroundcolor": "white",
            "gridcolor": "#DFE8F3",
            "gridwidth": 2,
            "linecolor": "#EBF0F8",
            "showbackground": true,
            "ticks": "",
            "zerolinecolor": "#EBF0F8"
           },
           "yaxis": {
            "backgroundcolor": "white",
            "gridcolor": "#DFE8F3",
            "gridwidth": 2,
            "linecolor": "#EBF0F8",
            "showbackground": true,
            "ticks": "",
            "zerolinecolor": "#EBF0F8"
           },
           "zaxis": {
            "backgroundcolor": "white",
            "gridcolor": "#DFE8F3",
            "gridwidth": 2,
            "linecolor": "#EBF0F8",
            "showbackground": true,
            "ticks": "",
            "zerolinecolor": "#EBF0F8"
           }
          },
          "shapedefaults": {
           "line": {
            "color": "#2a3f5f"
           }
          },
          "ternary": {
           "aaxis": {
            "gridcolor": "#DFE8F3",
            "linecolor": "#A2B1C6",
            "ticks": ""
           },
           "baxis": {
            "gridcolor": "#DFE8F3",
            "linecolor": "#A2B1C6",
            "ticks": ""
           },
           "bgcolor": "white",
           "caxis": {
            "gridcolor": "#DFE8F3",
            "linecolor": "#A2B1C6",
            "ticks": ""
           }
          },
          "title": {
           "x": 0.05
          },
          "xaxis": {
           "automargin": true,
           "gridcolor": "#EBF0F8",
           "linecolor": "#EBF0F8",
           "ticks": "",
           "title": {
            "standoff": 15
           },
           "zerolinecolor": "#EBF0F8",
           "zerolinewidth": 2
          },
          "yaxis": {
           "automargin": true,
           "gridcolor": "#EBF0F8",
           "linecolor": "#EBF0F8",
           "ticks": "",
           "title": {
            "standoff": 15
           },
           "zerolinecolor": "#EBF0F8",
           "zerolinewidth": 2
          }
         }
        },
        "title": {
         "font": {
          "color": "white",
          "family": "Courier New, monospace",
          "size": 20
         },
         "text": "Online activity per user"
        },
        "xaxis": {
         "anchor": "y",
         "domain": [
          0,
          1
         ],
         "gridcolor": "rgba(255,255,255,0.1)",
         "linecolor": "white",
         "linewidth": 2,
         "showline": true,
         "tickfont": {
          "color": "white"
         },
         "title": {
          "font": {
           "color": "white",
           "family": "Arial Black, Arial, sans-serif",
           "size": 16
          },
          "text": "LastLoginDate"
         }
        },
        "yaxis": {
         "anchor": "x",
         "domain": [
          0,
          1
         ],
         "gridcolor": "rgba(255,255,255,0.1)",
         "linecolor": "white",
         "linewidth": 2,
         "showline": true,
         "tickfont": {
          "color": "white"
         },
         "title": {
          "font": {
           "color": "white",
           "family": "Arial Black, Arial, sans-serif",
           "size": 16
          },
          "text": "norm_LoginFrequency"
         }
        }
       }
      }
     },
     "metadata": {},
     "output_type": "display_data"
    }
   ],
   "source": [
    "activity_churn_stat = activity_churn.set_index('LastLoginDate').groupby(['ChurnStatus']).resample('15d')['LoginFrequency'].sum().reset_index()\n",
    "activity_churn_stat = activity_churn_stat.merge(numbers,left_on='ChurnStatus',right_on='ChurnStatus')\n",
    "activity_churn_stat['norm_LoginFrequency'] = (activity_churn_stat['LoginFrequency']/activity_churn_stat['count'])*100\n",
    "activity_churn_stat['LastLoginDate'] = pd.Categorical(activity_churn_stat['LastLoginDate'])\n",
    "\n",
    "fig = px.line(activity_churn_stat,\n",
    "             x='LastLoginDate',\n",
    "             y='norm_LoginFrequency',\n",
    "             color='ChurnStatus',\n",
    "             template='plotly_white',\n",
    "             color_discrete_sequence=[\"#456987\", \"#7ed2bc\"],\n",
    "             markers=True)\n",
    "\n",
    "# Update layout for transparent background and white fonts\n",
    "fig.update_layout(\n",
    "    paper_bgcolor='rgba(0,0,0,0)',  # Transparent outer background[2][3][8]\n",
    "    plot_bgcolor='rgba(0,0,0,0)',   # Transparent plotting area background[2][3][8]\n",
    "    title_font=dict(color='white'),  # White plot title\n",
    "    xaxis_title_font=dict(family=\"Arial Black, Arial, sans-serif\", size=16, color=\"white\"),\n",
    "    yaxis_title_font=dict(family=\"Arial Black, Arial, sans-serif\", size=16, color=\"white\"),\n",
    "\n",
    "    legend=dict(\n",
    "        font=dict(color='white'),  # White legend text\n",
    "        bgcolor='rgba(0,0,0,0)'   # Transparent legend background\n",
    "    ),\n",
    "    title=dict(\n",
    "        text=\"Online activity per user\",\n",
    "        font=dict(\n",
    "            color='white',\n",
    "            size=20,\n",
    "            family='Courier New, monospace'  # Use a bold font family\n",
    "        )\n",
    "    )\n",
    ")\n",
    "\n",
    "# Update x and y axes for white lines, ticks, labels, and 20% opacity grid\n",
    "fig.update_xaxes(\n",
    "    showline=True,         # Show axis line\n",
    "    linecolor='white',     # White axis line\n",
    "    tickfont=dict(color='white'),  # White tick labels\n",
    "    gridcolor='rgba(255,255,255,0.1)',  # White grid lines with 20% opacity\n",
    "    linewidth=2\n",
    ")\n",
    "fig.update_yaxes(\n",
    "    showline=True,\n",
    "    linecolor='white',\n",
    "    tickfont=dict(color='white'),\n",
    "    gridcolor='rgba(255,255,255,0.1)',  # White grid lines with 20% opacity\n",
    "    linewidth=2\n",
    ")\n",
    "\n",
    "\n",
    "fig.show()"
   ]
  },
  {
   "cell_type": "markdown",
   "metadata": {},
   "source": [
    "\n",
    "<div style=\"background-color: #25323b; padding: 20px; border-radius: 10px; border-left: 5px solid #3498db; margin-bottom: 20px;\">\n",
    "\n",
    "<h3 style=\"color: #e1f0fa; margin-top: 0;\">📊 EDA | Summary</h3>\n",
    "\n",
    "<p><b>Lets review what we learned from this segment</b></p>\n",
    "\n",
    "<ul>\n",
    "<li><b>20.4%</b> of customers churned, which is significant and should be investigated</li>\n",
    "<li><b>Demographic</b> feature relation to churn is very minimal, but still useful for </li>\n",
    "<li>The <b>number of purchases</b> of customers is not a factor for churn</li>\n",
    "<li><b>Purchase history</b> data for <b>groceries</b> and other subsets was found to be a feature to differentiate churned customers</li> \n",
    "<li><b>Service interaction</b> data didn't reveal a major variation between groups, however unresolved inquiries and complaints were higher for churned customers</li>\n",
    "<li><b>Online activity</b> data indicated that churned customers were slightly less active in the last couple of months</li>\n",
    "</ul>\n",
    "\n",
    "<p>Not all data sources available to us showed meaningful data related to customer churn, however it should be noted that we can't rule out any source of data without constructing our model pipeline and evaluating some model metrics</p> \n",
    "\n",
    "\n",
    "</div>\n"
   ]
  }
 ],
 "metadata": {
  "kernelspec": {
   "display_name": ".venv",
   "language": "python",
   "name": "python3"
  },
  "language_info": {
   "codemirror_mode": {
    "name": "ipython",
    "version": 3
   },
   "file_extension": ".py",
   "mimetype": "text/x-python",
   "name": "python",
   "nbconvert_exporter": "python",
   "pygments_lexer": "ipython3",
   "version": "3.12.3"
  }
 },
 "nbformat": 4,
 "nbformat_minor": 2
}
