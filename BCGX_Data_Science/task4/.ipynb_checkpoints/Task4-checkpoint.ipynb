{
 "cells": [
  {
   "cell_type": "markdown",
   "id": "40385b9c-8ea2-4d0d-b06f-111e0f35ce09",
   "metadata": {
    "editable": true,
    "slideshow": {
     "slide_type": ""
    },
    "tags": []
   },
   "source": [
    "# **Feature Engineering and Modelling**\n",
    "\n",
    "\n",
    "## **1. Background**\n",
    "\n",
    "### **1.1 | Final dataset refinement**\n",
    "\n",
    "**Estelle** conducted a further review and has provided you with a final dataset to use this for this task, named “data_for_predictions.csv”. \n",
    "\n",
    "The outputs of your work will be shared with the AD and Estelle has given you a few points to include within the notebook:\n",
    "\n",
    "- Why did you choose the evaluation metrics that you used? Please elaborate on your choices.\n",
    "- Do you think that the model performance is satisfactory? Give justification for your answer.\n",
    "- Make sure that your work is presented clearly with comments and explanations"
   ]
  },
  {
   "cell_type": "code",
   "execution_count": null,
   "id": "196cb82b-9b1d-466b-b9ef-9f2405e9f6b5",
   "metadata": {
    "editable": true,
    "slideshow": {
     "slide_type": ""
    },
    "tags": []
   },
   "outputs": [],
   "source": []
  },
  {
   "cell_type": "markdown",
   "id": "2a7e0efb-61a5-4516-8e0f-0c7ea26b4798",
   "metadata": {},
   "source": [
    "## **7. Finally, let's create a quick summary for the client**\n",
    "\n",
    "Before we finish up, the client wants a quick update on the project progress. Your AD wants you to draft an abstract (executive summary) of your findings so far.\n",
    "\n",
    "### **Here is your task:**\n",
    "\n",
    "Develop an abstract slide synthesizing all the findings from the project so far, keeping in mind that this will be for the key stakeholders meeting which the Head of the SME division, as well as other various stakeholders, will be attending.\n",
    "\n",
    "Note: a steering committee meeting is a meeting where the BCG team presents key findings and recommendations (and/or project progress) to key client stakeholders.\n",
    "\n",
    "\n",
    "**A few things to think about for this abstract include:**\n",
    "\n",
    "- What is the most important number or metric to share with the client?\n",
    "- What impact would the model have on the client’s bottom line?\n",
    "\n",
    "Please note, there are multiple ways to approach the task and that the sample answer is just one way to do it.\n",
    "\n",
    "**If you are stuck:**\n",
    "\n",
    "- What do you think the client wants to hear? How much detail should you go into, especially with the technical details of your work? \n",
    "- Always test what you write with the “so what?” test, i.e. sharing a fact, even an interesting one, only matters if the client can actually do something useful with it.\n",
    "- E.g. 60% of your customers are from City A is pointless, but customers in City A should be prioritized for giving discount as they are among your most valuable ones, if true, is an actionable finding."
   ]
  },
  {
   "cell_type": "code",
   "execution_count": null,
   "id": "a8d62c92-b000-4896-be59-182692242bdf",
   "metadata": {},
   "outputs": [],
   "source": []
  }
 ],
 "metadata": {
  "kernelspec": {
   "display_name": "Python 3 (ipykernel)",
   "language": "python",
   "name": "python3"
  },
  "language_info": {
   "codemirror_mode": {
    "name": "ipython",
    "version": 3
   },
   "file_extension": ".py",
   "mimetype": "text/x-python",
   "name": "python",
   "nbconvert_exporter": "python",
   "pygments_lexer": "ipython3",
   "version": "3.12.4"
  }
 },
 "nbformat": 4,
 "nbformat_minor": 5
}
