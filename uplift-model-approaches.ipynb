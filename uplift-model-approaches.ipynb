{
 "cells": [
  {
   "cell_type": "code",
   "execution_count": 1,
   "id": "74022476",
   "metadata": {
    "execution": {
     "iopub.execute_input": "2024-04-13T13:34:11.698240Z",
     "iopub.status.busy": "2024-04-13T13:34:11.697815Z",
     "iopub.status.idle": "2024-04-13T13:34:26.082854Z",
     "shell.execute_reply": "2024-04-13T13:34:26.081542Z"
    },
    "papermill": {
     "duration": 14.397894,
     "end_time": "2024-04-13T13:34:26.085702",
     "exception": false,
     "start_time": "2024-04-13T13:34:11.687808",
     "status": "completed"
    },
    "tags": []
   },
   "outputs": [],
   "source": [
    "! pip install scikit-uplift -qqq"
   ]
  },
  {
   "cell_type": "markdown",
   "id": "54a93f1d",
   "metadata": {
    "papermill": {
     "duration": 0.007369,
     "end_time": "2024-04-13T13:34:26.101214",
     "exception": false,
     "start_time": "2024-04-13T13:34:26.093845",
     "status": "completed"
    },
    "tags": []
   },
   "source": [
    "<div style=\"width: 100%; font-family: Trebuchet MS; font-weight: bold;\">\n",
    "    <div style=\"padding-top: 40%; position: relative; background-color: #000000; border-radius:10px;\">\n",
    "        <div style=\"background-image: url('https://i.imgur.com/Msbm2IA.jpeg'); background-size: cover; background-position: center; position: absolute; top: 0; left: 0; right: 0; bottom: 0; opacity: 0.5; border-radius:10px\">\n",
    "        </div>\n",
    "        <div style=\"position: absolute; top: 0; left: 0; right: 0; bottom: 0;\">\n",
    "            <div style=\"position: relative; display: table; height: 75%; width: 100%;\">\n",
    "            </div>\n",
    "            <div style=\"position: absolute; bottom: 30px; left: 30px;\">\n",
    "            </div>\n",
    "        </div>\n",
    "    </div>\n",
    "</div>\n",
    "\n",
    "<br>\n",
    "\n",
    "<div style=\"color:white;display:fill;border-radius:8px;font-size:100%; letter-spacing:1.0px;\"><p style=\"padding: 5px;color:white;text-align:left;\"><b><span style='color:#686dec'>WHAT WE WILL DO IN THIS SECTION</span></b></p></div>\n",
    "\n",
    "In today's post we'll go through a predictive modeling technique known as **Uplift Modeling**. It is a technique that allows us to identify the subset of customers who are likely to be positively influenced by a marketing plot, and visa versa, those who we dont disturb will not respond to our action.\n",
    "\n",
    "\n",
    "## <b>1 <span style='color:#686dec'>|</span> BACKGROUND</b> \n",
    "\n",
    "### **<span style='color:#686dec'> Problem Formulation</span>**\n",
    "\n",
    "What is the main issue at hand:\n",
    "\n",
    "- We cannot do an action & not do an action at the same time to the same person\n",
    "\n",
    "So what it this modeling approach about:\n",
    "\n",
    "**Uplift modeling** is a technique that allows us to identify the subset of objects \n",
    "\n",
    "- who upon being influenced by an event/action will do some action\n",
    "- and if not influenced will not do the action\n",
    "\n",
    "<b>AN EXAMPLE</b>\n",
    "\n",
    "So lets think of an example:\n",
    "\n",
    "Imagine we are selling a product and need to decide to whom we will be advertising, we have some constraints and cannot show it to all target audiences, \n",
    "\n",
    "- **we would like to find clients who will buy the product** if they see our advertisement \n",
    "- and **will and not buy it if they don't see it**\n",
    "\n",
    "<b> WHAT DO WE NEED FOR UPLIFT MODELING</b>\n",
    "\n",
    "In **uplift modeling** we need three components:\n",
    "\n",
    " Have two arrays we will be working with; **Treatment Array**, **Target Array** and standard **customer related feature matrix**\n",
    "\n",
    " - The **treatment array** is a binary vector, where we have no influence (0) and influenced (1)\n",
    " - The **target vector** is also a binary vector, where we have no action (0) and action is made (1)\n",
    " - The standard feature matrix (like other machine learning problems)\n",
    "\n",
    "### **<span style='color:#686dec'> What to remember</span>**\n",
    "\n",
    "So some important things to note in the context of uplift modeling:\n",
    "\n",
    "- To model which users will do an action when influenced & users which will not do an action when not influences we need to have aside from a standard feature matrix two additional vectors; **treatment** (users were identified and interacted with) & the result of our interaction with them, stored in the **target vector**\n",
    "- Having a trained model will enable us to identify on unseen data (without a treatment or target vector) the uplift value for a group for which we have a set of features used in training\n",
    "- Our aim is to target **influencible clients** (those who upon being interacted with will commit a target action) and those when not interacted with will not conduct a target action."
   ]
  },
  {
   "cell_type": "markdown",
   "id": "77e3f4de",
   "metadata": {
    "papermill": {
     "duration": 0.007351,
     "end_time": "2024-04-13T13:34:26.116594",
     "exception": false,
     "start_time": "2024-04-13T13:34:26.109243",
     "status": "completed"
    },
    "tags": []
   },
   "source": [
    "## <b>2 <span style='color:#686dec'>|</span> DATASET</b> \n",
    "\n",
    "### **<span style='color:#686dec'> Loading Dataset</span>**\n",
    "\n",
    "The dataset that we will use is found in the library **sklift**"
   ]
  },
  {
   "cell_type": "code",
   "execution_count": 2,
   "id": "f4d4b001",
   "metadata": {
    "execution": {
     "iopub.execute_input": "2024-04-13T13:34:26.134255Z",
     "iopub.status.busy": "2024-04-13T13:34:26.133824Z",
     "iopub.status.idle": "2024-04-13T13:34:30.133910Z",
     "shell.execute_reply": "2024-04-13T13:34:30.132684Z"
    },
    "papermill": {
     "duration": 4.012587,
     "end_time": "2024-04-13T13:34:30.136910",
     "exception": false,
     "start_time": "2024-04-13T13:34:26.124323",
     "status": "completed"
    },
    "tags": []
   },
   "outputs": [
    {
     "data": {
      "application/vnd.jupyter.widget-view+json": {
       "model_id": "8059c7e8441e4286a3f8b4f25c669a30",
       "version_major": 2,
       "version_minor": 0
      },
      "text/plain": [
       "Hillstrom dataset:   0%|          | 0.00/443k [00:00<?, ?iB/s]"
      ]
     },
     "metadata": {},
     "output_type": "display_data"
    }
   ],
   "source": [
    "import pandas as pd\n",
    "from sklift.datasets import fetch_x5, fetch_lenta, clear_data_dir, fetch_megafon, fetch_hillstrom\n",
    "\n",
    "data = fetch_hillstrom() # Kevin Hillstrom Dataset\n",
    "\n",
    "# define feature matrix\n",
    "#   \"    treatment vector \n",
    "#   \"    target vector \n",
    "X, y, t = data['data'],  data['target'], data['treatment']"
   ]
  },
  {
   "cell_type": "markdown",
   "id": "c2efc125",
   "metadata": {
    "papermill": {
     "duration": 0.007335,
     "end_time": "2024-04-13T13:34:30.152146",
     "exception": false,
     "start_time": "2024-04-13T13:34:30.144811",
     "status": "completed"
    },
    "tags": []
   },
   "source": [
    "Lets introduce ourselves to the dataset we will be using in our notebook, by looking at the description provided with the dataset\n",
    "\n",
    "> This dataset contains 64,000 customers who last purchased within twelve months.\n",
    "> The customers were involved in an e-mail test.\n",
    ">\n",
    "> * 1/3 were randomly chosen to receive an e-mail campaign featuring Mens merchandise.\n",
    "> * 1/3 were randomly chosen to receive an e-mail campaign featuring Womens merchandise.\n",
    "> * 1/3 were randomly chosen to not receive an e-mail campaign.\n",
    ">\n",
    "> During a period of two weeks following the e-mail campaign, results were tracked.\n",
    "> Your job is to tell the world if the Mens or Womens e-mail campaign was successful.\n",
    "\n",
    "Having read the above, lets **summarise the important** bits:\n",
    "\n",
    "- We have 64000 customers who recently made a purchase, for these customers we have a matrix of features relevant to each of these customers\n",
    "- We randomly send emails to these customers (**treatment array**); we have an array containing a marketing campaign defined subset groupings\n",
    "- Finally we have a target containing post marketing campaign monitored results (confirmations of whether the email campaign worked or not)"
   ]
  },
  {
   "cell_type": "code",
   "execution_count": 3,
   "id": "fd4fc8a8",
   "metadata": {
    "execution": {
     "iopub.execute_input": "2024-04-13T13:34:30.169913Z",
     "iopub.status.busy": "2024-04-13T13:34:30.169090Z",
     "iopub.status.idle": "2024-04-13T13:34:30.188810Z",
     "shell.execute_reply": "2024-04-13T13:34:30.187563Z"
    },
    "papermill": {
     "duration": 0.031374,
     "end_time": "2024-04-13T13:34:30.191178",
     "exception": false,
     "start_time": "2024-04-13T13:34:30.159804",
     "status": "completed"
    },
    "tags": []
   },
   "outputs": [
    {
     "data": {
      "text/html": [
       "<div>\n",
       "<style scoped>\n",
       "    .dataframe tbody tr th:only-of-type {\n",
       "        vertical-align: middle;\n",
       "    }\n",
       "\n",
       "    .dataframe tbody tr th {\n",
       "        vertical-align: top;\n",
       "    }\n",
       "\n",
       "    .dataframe thead th {\n",
       "        text-align: right;\n",
       "    }\n",
       "</style>\n",
       "<table border=\"1\" class=\"dataframe\">\n",
       "  <thead>\n",
       "    <tr style=\"text-align: right;\">\n",
       "      <th></th>\n",
       "      <th>recency</th>\n",
       "      <th>history_segment</th>\n",
       "      <th>history</th>\n",
       "      <th>mens</th>\n",
       "      <th>womens</th>\n",
       "      <th>zip_code</th>\n",
       "      <th>newbie</th>\n",
       "      <th>channel</th>\n",
       "    </tr>\n",
       "  </thead>\n",
       "  <tbody>\n",
       "    <tr>\n",
       "      <th>0</th>\n",
       "      <td>10</td>\n",
       "      <td>2) $100 - $200</td>\n",
       "      <td>142.44</td>\n",
       "      <td>1</td>\n",
       "      <td>0</td>\n",
       "      <td>Surburban</td>\n",
       "      <td>0</td>\n",
       "      <td>Phone</td>\n",
       "    </tr>\n",
       "    <tr>\n",
       "      <th>1</th>\n",
       "      <td>6</td>\n",
       "      <td>3) $200 - $350</td>\n",
       "      <td>329.08</td>\n",
       "      <td>1</td>\n",
       "      <td>1</td>\n",
       "      <td>Rural</td>\n",
       "      <td>1</td>\n",
       "      <td>Web</td>\n",
       "    </tr>\n",
       "    <tr>\n",
       "      <th>2</th>\n",
       "      <td>7</td>\n",
       "      <td>2) $100 - $200</td>\n",
       "      <td>180.65</td>\n",
       "      <td>0</td>\n",
       "      <td>1</td>\n",
       "      <td>Surburban</td>\n",
       "      <td>1</td>\n",
       "      <td>Web</td>\n",
       "    </tr>\n",
       "    <tr>\n",
       "      <th>3</th>\n",
       "      <td>9</td>\n",
       "      <td>5) $500 - $750</td>\n",
       "      <td>675.83</td>\n",
       "      <td>1</td>\n",
       "      <td>0</td>\n",
       "      <td>Rural</td>\n",
       "      <td>1</td>\n",
       "      <td>Web</td>\n",
       "    </tr>\n",
       "    <tr>\n",
       "      <th>4</th>\n",
       "      <td>2</td>\n",
       "      <td>1) $0 - $100</td>\n",
       "      <td>45.34</td>\n",
       "      <td>1</td>\n",
       "      <td>0</td>\n",
       "      <td>Urban</td>\n",
       "      <td>0</td>\n",
       "      <td>Web</td>\n",
       "    </tr>\n",
       "  </tbody>\n",
       "</table>\n",
       "</div>"
      ],
      "text/plain": [
       "   recency history_segment  history  mens  womens   zip_code  newbie channel\n",
       "0       10  2) $100 - $200   142.44     1       0  Surburban       0   Phone\n",
       "1        6  3) $200 - $350   329.08     1       1      Rural       1     Web\n",
       "2        7  2) $100 - $200   180.65     0       1  Surburban       1     Web\n",
       "3        9  5) $500 - $750   675.83     1       0      Rural       1     Web\n",
       "4        2    1) $0 - $100    45.34     1       0      Urban       0     Web"
      ]
     },
     "execution_count": 3,
     "metadata": {},
     "output_type": "execute_result"
    }
   ],
   "source": [
    "X.head()"
   ]
  },
  {
   "cell_type": "code",
   "execution_count": 4,
   "id": "5475931c",
   "metadata": {
    "execution": {
     "iopub.execute_input": "2024-04-13T13:34:30.210792Z",
     "iopub.status.busy": "2024-04-13T13:34:30.210026Z",
     "iopub.status.idle": "2024-04-13T13:34:30.219230Z",
     "shell.execute_reply": "2024-04-13T13:34:30.218078Z"
    },
    "papermill": {
     "duration": 0.020909,
     "end_time": "2024-04-13T13:34:30.221472",
     "exception": false,
     "start_time": "2024-04-13T13:34:30.200563",
     "status": "completed"
    },
    "tags": []
   },
   "outputs": [
    {
     "data": {
      "text/plain": [
       "0        Womens E-Mail\n",
       "1            No E-Mail\n",
       "2        Womens E-Mail\n",
       "3          Mens E-Mail\n",
       "4        Womens E-Mail\n",
       "             ...      \n",
       "63995      Mens E-Mail\n",
       "63996      Mens E-Mail\n",
       "63997      Mens E-Mail\n",
       "63998    Womens E-Mail\n",
       "63999      Mens E-Mail\n",
       "Name: segment, Length: 64000, dtype: object"
      ]
     },
     "execution_count": 4,
     "metadata": {},
     "output_type": "execute_result"
    }
   ],
   "source": [
    "t"
   ]
  },
  {
   "cell_type": "markdown",
   "id": "c4ddfd2a",
   "metadata": {
    "papermill": {
     "duration": 0.007991,
     "end_time": "2024-04-13T13:34:30.237728",
     "exception": false,
     "start_time": "2024-04-13T13:34:30.229737",
     "status": "completed"
    },
    "tags": []
   },
   "source": [
    "## <b>3 <span style='color:#686dec'>|</span> PREPROCESSING</b> \n",
    "\n",
    "### **<span style='color:#686dec'> Problem Simplification</span>**\n",
    "\n",
    "Lets do a little bit of preprocessing and problem simplification. As we saw in the above data, we have three categories in our treatment vector. Lets simplify it to just a binary case and not differentiate the male and female target cases, ie. marketing email has been sent or not sent. "
   ]
  },
  {
   "cell_type": "code",
   "execution_count": 5,
   "id": "ac6bc8f5",
   "metadata": {
    "execution": {
     "iopub.execute_input": "2024-04-13T13:34:30.256124Z",
     "iopub.status.busy": "2024-04-13T13:34:30.255664Z",
     "iopub.status.idle": "2024-04-13T13:34:30.270083Z",
     "shell.execute_reply": "2024-04-13T13:34:30.269098Z"
    },
    "papermill": {
     "duration": 0.026185,
     "end_time": "2024-04-13T13:34:30.272073",
     "exception": false,
     "start_time": "2024-04-13T13:34:30.245888",
     "status": "completed"
    },
    "tags": []
   },
   "outputs": [
    {
     "data": {
      "text/plain": [
       "0    1\n",
       "1    0\n",
       "2    1\n",
       "3    1\n",
       "4    1\n",
       "Name: segment, dtype: int64"
      ]
     },
     "execution_count": 5,
     "metadata": {},
     "output_type": "execute_result"
    }
   ],
   "source": [
    "t = t.map({'Womens E-Mail':1, 'Mens E-Mail':1, 'No E-Mail':0})\n",
    "t.head()"
   ]
  },
  {
   "cell_type": "markdown",
   "id": "d6127014",
   "metadata": {
    "papermill": {
     "duration": 0.007817,
     "end_time": "2024-04-13T13:34:30.288106",
     "exception": false,
     "start_time": "2024-04-13T13:34:30.280289",
     "status": "completed"
    },
    "tags": []
   },
   "source": [
    "### **<span style='color:#686dec'> Train/Test Splitting</span>**\n",
    "\n",
    "In our modeling approach, we will need to train our model on one set of data and test it on another set of data, so we can evaluate its ability to generalise on unseen data"
   ]
  },
  {
   "cell_type": "code",
   "execution_count": 6,
   "id": "3f0dcb02",
   "metadata": {
    "execution": {
     "iopub.execute_input": "2024-04-13T13:34:30.307335Z",
     "iopub.status.busy": "2024-04-13T13:34:30.306882Z",
     "iopub.status.idle": "2024-04-13T13:34:30.720535Z",
     "shell.execute_reply": "2024-04-13T13:34:30.719141Z"
    },
    "papermill": {
     "duration": 0.426805,
     "end_time": "2024-04-13T13:34:30.723289",
     "exception": false,
     "start_time": "2024-04-13T13:34:30.296484",
     "status": "completed"
    },
    "tags": []
   },
   "outputs": [
    {
     "name": "stdout",
     "output_type": "stream",
     "text": [
      "(44800, 8)\n",
      "(19200, 8)\n"
     ]
    }
   ],
   "source": [
    "from sklearn.model_selection import train_test_split\n",
    "from sklearn.preprocessing import OneHotEncoder\n",
    "from sklearn.ensemble import RandomForestClassifier\n",
    "\n",
    "X_train, X_test, y_train, y_test, t_train, t_test = train_test_split(X, \n",
    "                                                                     y, t, \n",
    "                                                                     test_size=0.3, \n",
    "                                                                     random_state=42)\n",
    "\n",
    "print(X_train.shape)\n",
    "print(X_test.shape)"
   ]
  },
  {
   "cell_type": "markdown",
   "id": "066ce15f",
   "metadata": {
    "papermill": {
     "duration": 0.009314,
     "end_time": "2024-04-13T13:34:30.741041",
     "exception": false,
     "start_time": "2024-04-13T13:34:30.731727",
     "status": "completed"
    },
    "tags": []
   },
   "source": [
    "### **<span style='color:#686dec'> Categorical Feature Treatment</span>**\n",
    "\n",
    "To utilise the text based features in our feature matrix, we need to convert them into a numerical representation, one commonly used approach is One-Hot Encoding"
   ]
  },
  {
   "cell_type": "code",
   "execution_count": 7,
   "id": "3dac6793",
   "metadata": {
    "execution": {
     "iopub.execute_input": "2024-04-13T13:34:30.759877Z",
     "iopub.status.busy": "2024-04-13T13:34:30.759408Z",
     "iopub.status.idle": "2024-04-13T13:34:30.858317Z",
     "shell.execute_reply": "2024-04-13T13:34:30.857151Z"
    },
    "papermill": {
     "duration": 0.111223,
     "end_time": "2024-04-13T13:34:30.860735",
     "exception": false,
     "start_time": "2024-04-13T13:34:30.749512",
     "status": "completed"
    },
    "tags": []
   },
   "outputs": [
    {
     "name": "stderr",
     "output_type": "stream",
     "text": [
      "/opt/conda/lib/python3.10/site-packages/sklearn/preprocessing/_encoders.py:868: FutureWarning: `sparse` was renamed to `sparse_output` in version 1.2 and will be removed in 1.4. `sparse_output` is ignored unless you leave `sparse` to its default value.\n",
      "  warnings.warn(\n"
     ]
    }
   ],
   "source": [
    "# Categorical Features\n",
    "cat_columns = ['history_segment', 'zip_code', 'channel']\n",
    "enc = OneHotEncoder(sparse=False)\n",
    "\n",
    "X_train_cat = enc.fit_transform(X_train[cat_columns])\n",
    "X_train_cat = pd.DataFrame(X_train_cat, \n",
    "                           index=X_train.index,\n",
    "                           columns=enc.get_feature_names_out(cat_columns))\n",
    "\n",
    "X_test_cat = enc.transform(X_test[cat_columns])\n",
    "X_test_cat = pd.DataFrame(X_test_cat, \n",
    "                          index=X_test.index,\n",
    "                          columns=enc.get_feature_names_out(cat_columns))\n",
    "\n",
    "X_train = pd.concat([X_train_cat, X_train.drop(cat_columns, axis=1)], axis=1)\n",
    "X_test = pd.concat([X_test_cat, X_test.drop(cat_columns, axis=1)], axis=1)"
   ]
  },
  {
   "cell_type": "code",
   "execution_count": 8,
   "id": "10fb09d4",
   "metadata": {
    "execution": {
     "iopub.execute_input": "2024-04-13T13:34:30.881796Z",
     "iopub.status.busy": "2024-04-13T13:34:30.881308Z",
     "iopub.status.idle": "2024-04-13T13:34:30.888646Z",
     "shell.execute_reply": "2024-04-13T13:34:30.887657Z"
    },
    "papermill": {
     "duration": 0.019693,
     "end_time": "2024-04-13T13:34:30.890695",
     "exception": false,
     "start_time": "2024-04-13T13:34:30.871002",
     "status": "completed"
    },
    "tags": []
   },
   "outputs": [
    {
     "data": {
      "text/plain": [
       "Index(['history_segment_1) $0 - $100', 'history_segment_2) $100 - $200',\n",
       "       'history_segment_3) $200 - $350', 'history_segment_4) $350 - $500',\n",
       "       'history_segment_5) $500 - $750', 'history_segment_6) $750 - $1,000',\n",
       "       'history_segment_7) $1,000 +', 'zip_code_Rural', 'zip_code_Surburban',\n",
       "       'zip_code_Urban', 'channel_Multichannel', 'channel_Phone',\n",
       "       'channel_Web', 'recency', 'history', 'mens', 'womens', 'newbie'],\n",
       "      dtype='object')"
      ]
     },
     "execution_count": 8,
     "metadata": {},
     "output_type": "execute_result"
    }
   ],
   "source": [
    "X_test.columns"
   ]
  },
  {
   "cell_type": "code",
   "execution_count": 9,
   "id": "81402059",
   "metadata": {
    "execution": {
     "iopub.execute_input": "2024-04-13T13:34:30.909586Z",
     "iopub.status.busy": "2024-04-13T13:34:30.909140Z",
     "iopub.status.idle": "2024-04-13T13:34:30.932640Z",
     "shell.execute_reply": "2024-04-13T13:34:30.931526Z"
    },
    "papermill": {
     "duration": 0.035578,
     "end_time": "2024-04-13T13:34:30.934741",
     "exception": false,
     "start_time": "2024-04-13T13:34:30.899163",
     "status": "completed"
    },
    "tags": []
   },
   "outputs": [
    {
     "data": {
      "text/html": [
       "<div>\n",
       "<style scoped>\n",
       "    .dataframe tbody tr th:only-of-type {\n",
       "        vertical-align: middle;\n",
       "    }\n",
       "\n",
       "    .dataframe tbody tr th {\n",
       "        vertical-align: top;\n",
       "    }\n",
       "\n",
       "    .dataframe thead th {\n",
       "        text-align: right;\n",
       "    }\n",
       "</style>\n",
       "<table border=\"1\" class=\"dataframe\">\n",
       "  <thead>\n",
       "    <tr style=\"text-align: right;\">\n",
       "      <th></th>\n",
       "      <th>history_segment_1) $0 - $100</th>\n",
       "      <th>history_segment_2) $100 - $200</th>\n",
       "      <th>history_segment_3) $200 - $350</th>\n",
       "      <th>history_segment_4) $350 - $500</th>\n",
       "      <th>history_segment_5) $500 - $750</th>\n",
       "      <th>history_segment_6) $750 - $1,000</th>\n",
       "      <th>history_segment_7) $1,000 +</th>\n",
       "      <th>zip_code_Rural</th>\n",
       "      <th>zip_code_Surburban</th>\n",
       "      <th>zip_code_Urban</th>\n",
       "      <th>channel_Multichannel</th>\n",
       "      <th>channel_Phone</th>\n",
       "      <th>channel_Web</th>\n",
       "      <th>recency</th>\n",
       "      <th>history</th>\n",
       "      <th>mens</th>\n",
       "      <th>womens</th>\n",
       "      <th>newbie</th>\n",
       "    </tr>\n",
       "  </thead>\n",
       "  <tbody>\n",
       "    <tr>\n",
       "      <th>9656</th>\n",
       "      <td>0.0</td>\n",
       "      <td>0.0</td>\n",
       "      <td>0.0</td>\n",
       "      <td>1.0</td>\n",
       "      <td>0.0</td>\n",
       "      <td>0.0</td>\n",
       "      <td>0.0</td>\n",
       "      <td>0.0</td>\n",
       "      <td>0.0</td>\n",
       "      <td>1.0</td>\n",
       "      <td>0.0</td>\n",
       "      <td>0.0</td>\n",
       "      <td>1.0</td>\n",
       "      <td>7</td>\n",
       "      <td>434.35</td>\n",
       "      <td>1</td>\n",
       "      <td>0</td>\n",
       "      <td>1</td>\n",
       "    </tr>\n",
       "    <tr>\n",
       "      <th>63037</th>\n",
       "      <td>0.0</td>\n",
       "      <td>0.0</td>\n",
       "      <td>0.0</td>\n",
       "      <td>1.0</td>\n",
       "      <td>0.0</td>\n",
       "      <td>0.0</td>\n",
       "      <td>0.0</td>\n",
       "      <td>0.0</td>\n",
       "      <td>1.0</td>\n",
       "      <td>0.0</td>\n",
       "      <td>1.0</td>\n",
       "      <td>0.0</td>\n",
       "      <td>0.0</td>\n",
       "      <td>1</td>\n",
       "      <td>376.59</td>\n",
       "      <td>1</td>\n",
       "      <td>0</td>\n",
       "      <td>0</td>\n",
       "    </tr>\n",
       "    <tr>\n",
       "      <th>31405</th>\n",
       "      <td>0.0</td>\n",
       "      <td>1.0</td>\n",
       "      <td>0.0</td>\n",
       "      <td>0.0</td>\n",
       "      <td>0.0</td>\n",
       "      <td>0.0</td>\n",
       "      <td>0.0</td>\n",
       "      <td>0.0</td>\n",
       "      <td>0.0</td>\n",
       "      <td>1.0</td>\n",
       "      <td>0.0</td>\n",
       "      <td>1.0</td>\n",
       "      <td>0.0</td>\n",
       "      <td>3</td>\n",
       "      <td>140.34</td>\n",
       "      <td>0</td>\n",
       "      <td>1</td>\n",
       "      <td>1</td>\n",
       "    </tr>\n",
       "    <tr>\n",
       "      <th>58088</th>\n",
       "      <td>0.0</td>\n",
       "      <td>1.0</td>\n",
       "      <td>0.0</td>\n",
       "      <td>0.0</td>\n",
       "      <td>0.0</td>\n",
       "      <td>0.0</td>\n",
       "      <td>0.0</td>\n",
       "      <td>0.0</td>\n",
       "      <td>1.0</td>\n",
       "      <td>0.0</td>\n",
       "      <td>0.0</td>\n",
       "      <td>0.0</td>\n",
       "      <td>1.0</td>\n",
       "      <td>3</td>\n",
       "      <td>150.76</td>\n",
       "      <td>0</td>\n",
       "      <td>1</td>\n",
       "      <td>0</td>\n",
       "    </tr>\n",
       "    <tr>\n",
       "      <th>44344</th>\n",
       "      <td>1.0</td>\n",
       "      <td>0.0</td>\n",
       "      <td>0.0</td>\n",
       "      <td>0.0</td>\n",
       "      <td>0.0</td>\n",
       "      <td>0.0</td>\n",
       "      <td>0.0</td>\n",
       "      <td>0.0</td>\n",
       "      <td>1.0</td>\n",
       "      <td>0.0</td>\n",
       "      <td>0.0</td>\n",
       "      <td>1.0</td>\n",
       "      <td>0.0</td>\n",
       "      <td>2</td>\n",
       "      <td>67.97</td>\n",
       "      <td>1</td>\n",
       "      <td>0</td>\n",
       "      <td>1</td>\n",
       "    </tr>\n",
       "  </tbody>\n",
       "</table>\n",
       "</div>"
      ],
      "text/plain": [
       "       history_segment_1) $0 - $100  history_segment_2) $100 - $200  \\\n",
       "9656                            0.0                             0.0   \n",
       "63037                           0.0                             0.0   \n",
       "31405                           0.0                             1.0   \n",
       "58088                           0.0                             1.0   \n",
       "44344                           1.0                             0.0   \n",
       "\n",
       "       history_segment_3) $200 - $350  history_segment_4) $350 - $500  \\\n",
       "9656                              0.0                             1.0   \n",
       "63037                             0.0                             1.0   \n",
       "31405                             0.0                             0.0   \n",
       "58088                             0.0                             0.0   \n",
       "44344                             0.0                             0.0   \n",
       "\n",
       "       history_segment_5) $500 - $750  history_segment_6) $750 - $1,000  \\\n",
       "9656                              0.0                               0.0   \n",
       "63037                             0.0                               0.0   \n",
       "31405                             0.0                               0.0   \n",
       "58088                             0.0                               0.0   \n",
       "44344                             0.0                               0.0   \n",
       "\n",
       "       history_segment_7) $1,000 +  zip_code_Rural  zip_code_Surburban  \\\n",
       "9656                           0.0             0.0                 0.0   \n",
       "63037                          0.0             0.0                 1.0   \n",
       "31405                          0.0             0.0                 0.0   \n",
       "58088                          0.0             0.0                 1.0   \n",
       "44344                          0.0             0.0                 1.0   \n",
       "\n",
       "       zip_code_Urban  channel_Multichannel  channel_Phone  channel_Web  \\\n",
       "9656              1.0                   0.0            0.0          1.0   \n",
       "63037             0.0                   1.0            0.0          0.0   \n",
       "31405             1.0                   0.0            1.0          0.0   \n",
       "58088             0.0                   0.0            0.0          1.0   \n",
       "44344             0.0                   0.0            1.0          0.0   \n",
       "\n",
       "       recency  history  mens  womens  newbie  \n",
       "9656         7   434.35     1       0       1  \n",
       "63037        1   376.59     1       0       0  \n",
       "31405        3   140.34     0       1       1  \n",
       "58088        3   150.76     0       1       0  \n",
       "44344        2    67.97     1       0       1  "
      ]
     },
     "execution_count": 9,
     "metadata": {},
     "output_type": "execute_result"
    }
   ],
   "source": [
    "X_train.head()"
   ]
  },
  {
   "cell_type": "markdown",
   "id": "9f5993d9",
   "metadata": {
    "papermill": {
     "duration": 0.008614,
     "end_time": "2024-04-13T13:34:30.952117",
     "exception": false,
     "start_time": "2024-04-13T13:34:30.943503",
     "status": "completed"
    },
    "tags": []
   },
   "source": [
    "## <b>4 <span style='color:#686dec'>|</span> MODELING APPROACHES</b> \n",
    "\n",
    "Now that we have our data ready, lets talk libraries and approaches. There is a commonly used uplift modeling library called **scikit-uplift**, its based on scikit-learn machine learning models, but modified for uplift modeling. Lets remind ourselves of what the modeling actually wants to achieve:\n",
    "\n",
    "> Uplift modeling focuses on predicting the impact of a treatment or intervention on an individual's behavior\n",
    "\n",
    "scikit-uplift has a number of different approaches for uplift modeling, you can find the models in the [following link](https://www.uplift-modeling.com/en/latest/), we'll look at two of the three approaches used in the library"
   ]
  },
  {
   "cell_type": "markdown",
   "id": "521c6fc7",
   "metadata": {
    "papermill": {
     "duration": 0.008398,
     "end_time": "2024-04-13T13:34:30.969396",
     "exception": false,
     "start_time": "2024-04-13T13:34:30.960998",
     "status": "completed"
    },
    "tags": []
   },
   "source": [
    "### **<span style='color:#686dec'> One Model Approach</span>**\n",
    "\n",
    "Starting with **s-learner** approach, we train two separate models\n",
    "\n",
    "- We train a base model with all base features, together with the treatment vector (w), taking the target vector (y) as our independent variable\n",
    "- Apply the model (predict) assuming we have **interacted with all customers**, ie. (t=1 for all customers), and ask to return the probability of a successful outcome (y=1) for this group\n",
    "- Apply the model (predict) again but assuming that these has been **no interaction** with any customer (t=0 for all customers)\n",
    "\n",
    "![](https://i.imgur.com/Bq3JYHL.png)\n",
    "\n",
    "The difference between these two vectors will be taken as our uplift, to be more specific:\n",
    "\n",
    "> model generates **uplift scores** that represent the **estimated impact of a treatment** on each individual's behavior\n",
    "\n",
    "The **s-learner** model can be used by importing **SoloModel** from `from sklift.models import SoloModel`\n",
    "\n",
    "- We just need to specify the base model we will be using in the two models and wrap it with **SoloModel**.\n",
    "- Like other sklearn models, we use **fit,predict** methods, but with an additional input `t_train`"
   ]
  },
  {
   "cell_type": "code",
   "execution_count": 10,
   "id": "56bc01b2",
   "metadata": {
    "execution": {
     "iopub.execute_input": "2024-04-13T13:34:30.989329Z",
     "iopub.status.busy": "2024-04-13T13:34:30.988584Z",
     "iopub.status.idle": "2024-04-13T13:34:30.993979Z",
     "shell.execute_reply": "2024-04-13T13:34:30.992588Z"
    },
    "papermill": {
     "duration": 0.017849,
     "end_time": "2024-04-13T13:34:30.996078",
     "exception": false,
     "start_time": "2024-04-13T13:34:30.978229",
     "status": "completed"
    },
    "tags": []
   },
   "outputs": [],
   "source": [
    "model_predictions = dict()"
   ]
  },
  {
   "cell_type": "code",
   "execution_count": 11,
   "id": "e471478e",
   "metadata": {
    "execution": {
     "iopub.execute_input": "2024-04-13T13:34:31.016103Z",
     "iopub.status.busy": "2024-04-13T13:34:31.015649Z",
     "iopub.status.idle": "2024-04-13T13:34:37.914416Z",
     "shell.execute_reply": "2024-04-13T13:34:37.913344Z"
    },
    "papermill": {
     "duration": 6.911817,
     "end_time": "2024-04-13T13:34:37.917241",
     "exception": false,
     "start_time": "2024-04-13T13:34:31.005424",
     "status": "completed"
    },
    "tags": []
   },
   "outputs": [],
   "source": [
    "from sklearn.ensemble import RandomForestClassifier\n",
    "from sklift.models import SoloModel\n",
    "\n",
    "name = 'slearner'\n",
    "\n",
    "base_model = RandomForestClassifier(random_state=42)\n",
    "uplift_model = SoloModel(base_model)\n",
    "uplift_model = uplift_model.fit(X_train, y_train, t_train)\n",
    "\n",
    "# store the uplift values\n",
    "model_predictions[name] = uplift_model.predict(X_test)"
   ]
  },
  {
   "cell_type": "code",
   "execution_count": 12,
   "id": "9f3a0193",
   "metadata": {
    "execution": {
     "iopub.execute_input": "2024-04-13T13:34:37.937247Z",
     "iopub.status.busy": "2024-04-13T13:34:37.936829Z",
     "iopub.status.idle": "2024-04-13T13:34:38.875436Z",
     "shell.execute_reply": "2024-04-13T13:34:38.874045Z"
    },
    "papermill": {
     "duration": 0.952191,
     "end_time": "2024-04-13T13:34:38.878476",
     "exception": false,
     "start_time": "2024-04-13T13:34:37.926285",
     "status": "completed"
    },
    "tags": []
   },
   "outputs": [
    {
     "name": "stdout",
     "output_type": "stream",
     "text": [
      "[-0.03 -0.31 -0.01 ...  0.03  0.56  0.14]\n",
      "(19200,)\n"
     ]
    }
   ],
   "source": [
    "# We obtain our uplift values:\n",
    "pred1 = uplift_model.predict(X_test)\n",
    "print(pred1)\n",
    "print(pred1.shape)"
   ]
  },
  {
   "cell_type": "markdown",
   "id": "97ac3ca4",
   "metadata": {
    "papermill": {
     "duration": 0.008642,
     "end_time": "2024-04-13T13:34:38.896470",
     "exception": false,
     "start_time": "2024-04-13T13:34:38.887828",
     "status": "completed"
    },
    "tags": []
   },
   "source": [
    "**Interpretation of Results:**\n",
    " \n",
    "- If the results are positive for a particular entry, it indicates that the treatment (email marketing campaign) has a positive effect on this individual and visa versa.\n",
    "- In terms of **magnitude**, a larger positive (or negative) uplift score implies a more significant impact of the treatment on the individual's likelihood of a positive outcome.\n"
   ]
  },
  {
   "cell_type": "markdown",
   "id": "842c1205",
   "metadata": {
    "papermill": {
     "duration": 0.008703,
     "end_time": "2024-04-13T13:34:38.914092",
     "exception": false,
     "start_time": "2024-04-13T13:34:38.905389",
     "status": "completed"
    },
    "tags": []
   },
   "source": [
    "### **<span style='color:#686dec'> Two Independent Model Approach</span>**\n",
    "\n",
    "The two model approach, **t-learner** is similar to a one model approach, however instead of training a single model on **all the data**, we train two models, on two different subsets of data:\n",
    "\n",
    "- One for the **control group** (no interaction, t=0)\n",
    "- Another for the **test group** (there was interaction, t=1)\n",
    "\n",
    "![](https://i.imgur.com/iT6gZhI.png)\n",
    "\n",
    "In order to obtain the uplift, we apply the model on the test set like in the **s-learner**, with the exception that we dont add the additional treatment feature, instead we are using two independent models. The difference in predict_proba between these two models will be our uplift value."
   ]
  },
  {
   "cell_type": "code",
   "execution_count": 13,
   "id": "509fdfc3",
   "metadata": {
    "execution": {
     "iopub.execute_input": "2024-04-13T13:34:38.934444Z",
     "iopub.status.busy": "2024-04-13T13:34:38.934005Z",
     "iopub.status.idle": "2024-04-13T13:34:45.150597Z",
     "shell.execute_reply": "2024-04-13T13:34:45.149619Z"
    },
    "papermill": {
     "duration": 6.230303,
     "end_time": "2024-04-13T13:34:45.153387",
     "exception": false,
     "start_time": "2024-04-13T13:34:38.923084",
     "status": "completed"
    },
    "tags": []
   },
   "outputs": [],
   "source": [
    "from sklearn.ensemble import RandomForestClassifier\n",
    "from sklift.models import TwoModels\n",
    "\n",
    "name = 'tlearner'\n",
    "\n",
    "# control group\n",
    "basic_model_control = RandomForestClassifier(random_state=42)\n",
    "\n",
    "# test group\n",
    "basic_model_test = RandomForestClassifier(random_state=42)\n",
    "\n",
    "uplift_model = TwoModels(basic_model_test, basic_model_control, method='vanilla')\n",
    "uplift_model = uplift_model.fit(X_train, y_train, t_train)\n",
    "\n",
    "# store the uplift values\n",
    "model_predictions[name] = uplift_model.predict(X_test)"
   ]
  },
  {
   "cell_type": "code",
   "execution_count": 14,
   "id": "38e2bb98",
   "metadata": {
    "execution": {
     "iopub.execute_input": "2024-04-13T13:34:45.173539Z",
     "iopub.status.busy": "2024-04-13T13:34:45.173008Z",
     "iopub.status.idle": "2024-04-13T13:34:45.180813Z",
     "shell.execute_reply": "2024-04-13T13:34:45.179695Z"
    },
    "papermill": {
     "duration": 0.020421,
     "end_time": "2024-04-13T13:34:45.183064",
     "exception": false,
     "start_time": "2024-04-13T13:34:45.162643",
     "status": "completed"
    },
    "tags": []
   },
   "outputs": [
    {
     "data": {
      "text/plain": [
       "Index(['history_segment_1) $0 - $100', 'history_segment_2) $100 - $200',\n",
       "       'history_segment_3) $200 - $350', 'history_segment_4) $350 - $500',\n",
       "       'history_segment_5) $500 - $750', 'history_segment_6) $750 - $1,000',\n",
       "       'history_segment_7) $1,000 +', 'zip_code_Rural', 'zip_code_Surburban',\n",
       "       'zip_code_Urban', 'channel_Multichannel', 'channel_Phone',\n",
       "       'channel_Web', 'recency', 'history', 'mens', 'womens', 'newbie'],\n",
       "      dtype='object')"
      ]
     },
     "execution_count": 14,
     "metadata": {},
     "output_type": "execute_result"
    }
   ],
   "source": [
    "X_test.columns"
   ]
  },
  {
   "cell_type": "code",
   "execution_count": 15,
   "id": "166f32ed",
   "metadata": {
    "execution": {
     "iopub.execute_input": "2024-04-13T13:34:45.204742Z",
     "iopub.status.busy": "2024-04-13T13:34:45.203736Z",
     "iopub.status.idle": "2024-04-13T13:34:46.044545Z",
     "shell.execute_reply": "2024-04-13T13:34:46.043429Z"
    },
    "papermill": {
     "duration": 0.854257,
     "end_time": "2024-04-13T13:34:46.046884",
     "exception": false,
     "start_time": "2024-04-13T13:34:45.192627",
     "status": "completed"
    },
    "tags": []
   },
   "outputs": [
    {
     "name": "stdout",
     "output_type": "stream",
     "text": [
      "[ 0.         -0.41       -0.01       ...  0.08142857  0.59\n",
      "  0.22      ]\n",
      "(19200, 18)\n",
      "(19200,)\n"
     ]
    }
   ],
   "source": [
    "# We obtain our uplift values:\n",
    "pred2 = uplift_model.predict(X_test)\n",
    "print(pred2)\n",
    "print(X_test.shape)\n",
    "print(pred2.shape)"
   ]
  },
  {
   "cell_type": "markdown",
   "id": "c142ee41",
   "metadata": {
    "papermill": {
     "duration": 0.009027,
     "end_time": "2024-04-13T13:34:46.065795",
     "exception": false,
     "start_time": "2024-04-13T13:34:46.056768",
     "status": "completed"
    },
    "tags": []
   },
   "source": [
    "We can also plot the uplift values predicted by both modeling approaches:"
   ]
  },
  {
   "cell_type": "code",
   "execution_count": 16,
   "id": "6e8e418d",
   "metadata": {
    "_kg_hide-input": true,
    "execution": {
     "iopub.execute_input": "2024-04-13T13:34:46.086678Z",
     "iopub.status.busy": "2024-04-13T13:34:46.086239Z",
     "iopub.status.idle": "2024-04-13T13:34:47.176392Z",
     "shell.execute_reply": "2024-04-13T13:34:47.175199Z"
    },
    "papermill": {
     "duration": 1.103772,
     "end_time": "2024-04-13T13:34:47.179042",
     "exception": false,
     "start_time": "2024-04-13T13:34:46.075270",
     "status": "completed"
    },
    "tags": []
   },
   "outputs": [
    {
     "name": "stderr",
     "output_type": "stream",
     "text": [
      "/opt/conda/lib/python3.10/site-packages/seaborn/_oldcore.py:1119: FutureWarning: use_inf_as_na option is deprecated and will be removed in a future version. Convert inf values to NaN before operating instead.\n",
      "  with pd.option_context('mode.use_inf_as_na', True):\n",
      "/opt/conda/lib/python3.10/site-packages/seaborn/_oldcore.py:1119: FutureWarning: use_inf_as_na option is deprecated and will be removed in a future version. Convert inf values to NaN before operating instead.\n",
      "  with pd.option_context('mode.use_inf_as_na', True):\n"
     ]
    },
    {
     "data": {
      "text/plain": [
       "<matplotlib.legend.Legend at 0x78b67b3f7c10>"
      ]
     },
     "execution_count": 16,
     "metadata": {},
     "output_type": "execute_result"
    },
    {
     "data": {
      "image/png": "[encoded data removed]",
      "text/plain": [
       "<Figure size 1500x500 with 1 Axes>"
      ]
     },
     "metadata": {},
     "output_type": "display_data"
    }
   ],
   "source": [
    "import seaborn as sns\n",
    "import matplotlib.pyplot as plt\n",
    "\n",
    "fig, ax = plt.subplots(figsize=(15,5))\n",
    "sns.despine(left=True,right=True,top=True)\n",
    "\n",
    "sns.histplot(model_predictions['slearner'],bins=100,alpha=0.4,label='slearner',edgecolor='k',linewidth=1,ax=ax)\n",
    "sns.histplot(model_predictions['tlearner'],bins=100,alpha=0.4,label='tlearner',edgecolor='k',linewidth=1,ax=ax)\n",
    "ax.set_xlabel('uplift')\n",
    "ax.set_ylabel('Frequency')\n",
    "ax.set_title('Comparison of t-learner & s-learner uplift')\n",
    "ax.legend()"
   ]
  },
  {
   "cell_type": "markdown",
   "id": "5ab68c50",
   "metadata": {
    "papermill": {
     "duration": 0.010143,
     "end_time": "2024-04-13T13:34:47.199485",
     "exception": false,
     "start_time": "2024-04-13T13:34:47.189342",
     "status": "completed"
    },
    "tags": []
   },
   "source": [
    "We can notice a very minor binomial tendency in the figure, a large portion of users having a low uplift values around 0-0.25 & a secondary group around 0.3-0.75, in terms of model variation, we can clearly note that **t-learner** is less concentrated with values at 0 and instead has more values in the region 0-0.25, which would indicate that the model predicts on average that the user is more confident that the user is positively influenced than the **s-model**"
   ]
  },
  {
   "cell_type": "markdown",
   "id": "b5d72198",
   "metadata": {
    "papermill": {
     "duration": 0.009798,
     "end_time": "2024-04-13T13:34:47.219848",
     "exception": false,
     "start_time": "2024-04-13T13:34:47.210050",
     "status": "completed"
    },
    "tags": []
   },
   "source": [
    "## <b>5 <span style='color:#686dec'>|</span> AFTER MODELING PROCESS</b> \n",
    "\n",
    "### **<span style='color:#686dec'> Metric Evaluation</span>**\n",
    "\n",
    "So now that we have obtained our **uplift values**, we ought to evaluate how well our modeling is. When it comes to uplift modeling problems, we can turn to a metric called **uplift@k**. \n",
    "\n",
    "The metric ranges from -1 to 1, where **1 is the best** and **-1 represents a model that doesnt work**. A value of **0 is equivalent to a random model**. Values in the range 0.05 to 1 can be considered as working models.\n",
    "\n",
    "The evaluation methodology is as follows:\n",
    "\n",
    "- We take k objects with the highest uplift values\n",
    "- Divide the subset into a **contol** (t=0) and **test** (t=1) group\n",
    "- Evaluate the average target y for each individually\n",
    "- Find the difference:\n",
    "\n",
    "    $$ uplift@k = \\bar{y}_{k \\space test} - \\bar{y}_{k \\space control} $$\n",
    "\n",
    "    $$ \\bar{y}_k = \\frac{1}{n} \\sum_{i=1}^{k}{uplift_i,}  $$\n",
    "\n",
    "\n",
    "There are some [other metrics](https://www.uplift-modeling.com/en/latest/) you can look into as well:\n",
    "\n",
    "- Area Under Uplift Curve\n",
    "- Area Under Qini Curve\n",
    "- Weighted average uplift"
   ]
  },
  {
   "cell_type": "code",
   "execution_count": 17,
   "id": "36965b8b",
   "metadata": {
    "execution": {
     "iopub.execute_input": "2024-04-13T13:34:47.242941Z",
     "iopub.status.busy": "2024-04-13T13:34:47.241650Z",
     "iopub.status.idle": "2024-04-13T13:34:47.257543Z",
     "shell.execute_reply": "2024-04-13T13:34:47.256594Z"
    },
    "papermill": {
     "duration": 0.030089,
     "end_time": "2024-04-13T13:34:47.260189",
     "exception": false,
     "start_time": "2024-04-13T13:34:47.230100",
     "status": "completed"
    },
    "tags": []
   },
   "outputs": [],
   "source": [
    "from sklift.metrics import uplift_at_k\n",
    "\n",
    "results = dict()\n",
    "for model_name, preds in model_predictions.items():\n",
    "    \n",
    "    up_k_best = uplift_at_k(y_true=y_test, \n",
    "                            uplift=preds, \n",
    "                            treatment=t_test, \n",
    "                            strategy='overall', \n",
    "                            k=0.2)\n",
    "    \n",
    "    results[model_name] = round(up_k_best,4)"
   ]
  },
  {
   "cell_type": "code",
   "execution_count": 18,
   "id": "6047f9b9",
   "metadata": {
    "execution": {
     "iopub.execute_input": "2024-04-13T13:34:47.282204Z",
     "iopub.status.busy": "2024-04-13T13:34:47.281781Z",
     "iopub.status.idle": "2024-04-13T13:34:47.288329Z",
     "shell.execute_reply": "2024-04-13T13:34:47.287233Z"
    },
    "papermill": {
     "duration": 0.020261,
     "end_time": "2024-04-13T13:34:47.290615",
     "exception": false,
     "start_time": "2024-04-13T13:34:47.270354",
     "status": "completed"
    },
    "tags": []
   },
   "outputs": [
    {
     "data": {
      "text/plain": [
       "{'slearner': 0.0526, 'tlearner': 0.0584}"
      ]
     },
     "execution_count": 18,
     "metadata": {},
     "output_type": "execute_result"
    }
   ],
   "source": [
    "results"
   ]
  },
  {
   "cell_type": "markdown",
   "id": "801bd667",
   "metadata": {
    "papermill": {
     "duration": 0.009728,
     "end_time": "2024-04-13T13:34:47.310360",
     "exception": false,
     "start_time": "2024-04-13T13:34:47.300632",
     "status": "completed"
    },
    "tags": []
   },
   "source": [
    "What we can conclude is that the **t-learner** method has a slightly higher metric values compared to **s-learer**, which indicates that it is a slightly better modeling approach."
   ]
  },
  {
   "cell_type": "markdown",
   "id": "628e4736",
   "metadata": {
    "papermill": {
     "duration": 0.009547,
     "end_time": "2024-04-13T13:34:47.329831",
     "exception": false,
     "start_time": "2024-04-13T13:34:47.320284",
     "status": "completed"
    },
    "tags": []
   },
   "source": [
    "### **<span style='color:#686dec'> Applying Models</span>**\n",
    "\n",
    "So we have a model, now lets apply it on unseen data. We have prepared a new set of customers using the same logic as before, creating the same features. We utilise the model on our new dataset and obtain the uplift values for each customer in our new client batch. Lets define some uplift criteria for filtering out clients to whom we wish to send an identical marketing campaign as before. Based on the what the model learned in the previous data, clients with a high uplift will likely end up going through with the purchases, our marketing campaign should just remind them of the opporunity we are providing them, and the feedback is expected to be mostly positive."
   ]
  },
  {
   "cell_type": "code",
   "execution_count": 19,
   "id": "212899bd",
   "metadata": {
    "execution": {
     "iopub.execute_input": "2024-04-13T13:34:47.351809Z",
     "iopub.status.busy": "2024-04-13T13:34:47.351358Z",
     "iopub.status.idle": "2024-04-13T13:34:47.362616Z",
     "shell.execute_reply": "2024-04-13T13:34:47.361433Z"
    },
    "papermill": {
     "duration": 0.025389,
     "end_time": "2024-04-13T13:34:47.365272",
     "exception": false,
     "start_time": "2024-04-13T13:34:47.339883",
     "status": "completed"
    },
    "tags": []
   },
   "outputs": [],
   "source": [
    "client_batch = pd.concat([X_test.reset_index(drop=True),pd.Series(pred2,name='uplift')],axis=1)\n",
    "marketing_clients = client_batch[client_batch['uplift'] > 0.3]"
   ]
  },
  {
   "cell_type": "code",
   "execution_count": 20,
   "id": "532e2a22",
   "metadata": {
    "execution": {
     "iopub.execute_input": "2024-04-13T13:34:47.387434Z",
     "iopub.status.busy": "2024-04-13T13:34:47.386977Z",
     "iopub.status.idle": "2024-04-13T13:34:47.420893Z",
     "shell.execute_reply": "2024-04-13T13:34:47.419724Z"
    },
    "papermill": {
     "duration": 0.047683,
     "end_time": "2024-04-13T13:34:47.423282",
     "exception": false,
     "start_time": "2024-04-13T13:34:47.375599",
     "status": "completed"
    },
    "tags": []
   },
   "outputs": [
    {
     "data": {
      "text/html": [
       "<div>\n",
       "<style scoped>\n",
       "    .dataframe tbody tr th:only-of-type {\n",
       "        vertical-align: middle;\n",
       "    }\n",
       "\n",
       "    .dataframe tbody tr th {\n",
       "        vertical-align: top;\n",
       "    }\n",
       "\n",
       "    .dataframe thead th {\n",
       "        text-align: right;\n",
       "    }\n",
       "</style>\n",
       "<table border=\"1\" class=\"dataframe\">\n",
       "  <thead>\n",
       "    <tr style=\"text-align: right;\">\n",
       "      <th></th>\n",
       "      <th>history_segment_1) $0 - $100</th>\n",
       "      <th>history_segment_2) $100 - $200</th>\n",
       "      <th>history_segment_3) $200 - $350</th>\n",
       "      <th>history_segment_4) $350 - $500</th>\n",
       "      <th>history_segment_5) $500 - $750</th>\n",
       "      <th>history_segment_6) $750 - $1,000</th>\n",
       "      <th>history_segment_7) $1,000 +</th>\n",
       "      <th>zip_code_Rural</th>\n",
       "      <th>zip_code_Surburban</th>\n",
       "      <th>zip_code_Urban</th>\n",
       "      <th>channel_Multichannel</th>\n",
       "      <th>channel_Phone</th>\n",
       "      <th>channel_Web</th>\n",
       "      <th>recency</th>\n",
       "      <th>history</th>\n",
       "      <th>mens</th>\n",
       "      <th>womens</th>\n",
       "      <th>newbie</th>\n",
       "      <th>uplift</th>\n",
       "    </tr>\n",
       "  </thead>\n",
       "  <tbody>\n",
       "    <tr>\n",
       "      <th>4</th>\n",
       "      <td>0.0</td>\n",
       "      <td>0.0</td>\n",
       "      <td>1.0</td>\n",
       "      <td>0.0</td>\n",
       "      <td>0.0</td>\n",
       "      <td>0.0</td>\n",
       "      <td>0.0</td>\n",
       "      <td>0.0</td>\n",
       "      <td>1.0</td>\n",
       "      <td>0.0</td>\n",
       "      <td>0.0</td>\n",
       "      <td>0.0</td>\n",
       "      <td>1.0</td>\n",
       "      <td>2</td>\n",
       "      <td>261.23</td>\n",
       "      <td>1</td>\n",
       "      <td>1</td>\n",
       "      <td>1</td>\n",
       "      <td>0.38</td>\n",
       "    </tr>\n",
       "    <tr>\n",
       "      <th>6</th>\n",
       "      <td>1.0</td>\n",
       "      <td>0.0</td>\n",
       "      <td>0.0</td>\n",
       "      <td>0.0</td>\n",
       "      <td>0.0</td>\n",
       "      <td>0.0</td>\n",
       "      <td>0.0</td>\n",
       "      <td>0.0</td>\n",
       "      <td>0.0</td>\n",
       "      <td>1.0</td>\n",
       "      <td>0.0</td>\n",
       "      <td>1.0</td>\n",
       "      <td>0.0</td>\n",
       "      <td>5</td>\n",
       "      <td>55.56</td>\n",
       "      <td>0</td>\n",
       "      <td>1</td>\n",
       "      <td>0</td>\n",
       "      <td>0.44</td>\n",
       "    </tr>\n",
       "    <tr>\n",
       "      <th>17</th>\n",
       "      <td>0.0</td>\n",
       "      <td>0.0</td>\n",
       "      <td>0.0</td>\n",
       "      <td>0.0</td>\n",
       "      <td>0.0</td>\n",
       "      <td>1.0</td>\n",
       "      <td>0.0</td>\n",
       "      <td>0.0</td>\n",
       "      <td>1.0</td>\n",
       "      <td>0.0</td>\n",
       "      <td>1.0</td>\n",
       "      <td>0.0</td>\n",
       "      <td>0.0</td>\n",
       "      <td>1</td>\n",
       "      <td>966.24</td>\n",
       "      <td>1</td>\n",
       "      <td>0</td>\n",
       "      <td>1</td>\n",
       "      <td>0.49</td>\n",
       "    </tr>\n",
       "    <tr>\n",
       "      <th>36</th>\n",
       "      <td>0.0</td>\n",
       "      <td>0.0</td>\n",
       "      <td>0.0</td>\n",
       "      <td>0.0</td>\n",
       "      <td>1.0</td>\n",
       "      <td>0.0</td>\n",
       "      <td>0.0</td>\n",
       "      <td>0.0</td>\n",
       "      <td>1.0</td>\n",
       "      <td>0.0</td>\n",
       "      <td>1.0</td>\n",
       "      <td>0.0</td>\n",
       "      <td>0.0</td>\n",
       "      <td>1</td>\n",
       "      <td>610.09</td>\n",
       "      <td>1</td>\n",
       "      <td>1</td>\n",
       "      <td>1</td>\n",
       "      <td>0.55</td>\n",
       "    </tr>\n",
       "    <tr>\n",
       "      <th>37</th>\n",
       "      <td>0.0</td>\n",
       "      <td>1.0</td>\n",
       "      <td>0.0</td>\n",
       "      <td>0.0</td>\n",
       "      <td>0.0</td>\n",
       "      <td>0.0</td>\n",
       "      <td>0.0</td>\n",
       "      <td>0.0</td>\n",
       "      <td>1.0</td>\n",
       "      <td>0.0</td>\n",
       "      <td>0.0</td>\n",
       "      <td>0.0</td>\n",
       "      <td>1.0</td>\n",
       "      <td>10</td>\n",
       "      <td>138.32</td>\n",
       "      <td>1</td>\n",
       "      <td>0</td>\n",
       "      <td>1</td>\n",
       "      <td>0.77</td>\n",
       "    </tr>\n",
       "    <tr>\n",
       "      <th>...</th>\n",
       "      <td>...</td>\n",
       "      <td>...</td>\n",
       "      <td>...</td>\n",
       "      <td>...</td>\n",
       "      <td>...</td>\n",
       "      <td>...</td>\n",
       "      <td>...</td>\n",
       "      <td>...</td>\n",
       "      <td>...</td>\n",
       "      <td>...</td>\n",
       "      <td>...</td>\n",
       "      <td>...</td>\n",
       "      <td>...</td>\n",
       "      <td>...</td>\n",
       "      <td>...</td>\n",
       "      <td>...</td>\n",
       "      <td>...</td>\n",
       "      <td>...</td>\n",
       "      <td>...</td>\n",
       "    </tr>\n",
       "    <tr>\n",
       "      <th>19160</th>\n",
       "      <td>0.0</td>\n",
       "      <td>0.0</td>\n",
       "      <td>0.0</td>\n",
       "      <td>0.0</td>\n",
       "      <td>0.0</td>\n",
       "      <td>1.0</td>\n",
       "      <td>0.0</td>\n",
       "      <td>0.0</td>\n",
       "      <td>1.0</td>\n",
       "      <td>0.0</td>\n",
       "      <td>1.0</td>\n",
       "      <td>0.0</td>\n",
       "      <td>0.0</td>\n",
       "      <td>3</td>\n",
       "      <td>948.12</td>\n",
       "      <td>1</td>\n",
       "      <td>0</td>\n",
       "      <td>1</td>\n",
       "      <td>0.55</td>\n",
       "    </tr>\n",
       "    <tr>\n",
       "      <th>19166</th>\n",
       "      <td>0.0</td>\n",
       "      <td>0.0</td>\n",
       "      <td>0.0</td>\n",
       "      <td>0.0</td>\n",
       "      <td>1.0</td>\n",
       "      <td>0.0</td>\n",
       "      <td>0.0</td>\n",
       "      <td>1.0</td>\n",
       "      <td>0.0</td>\n",
       "      <td>0.0</td>\n",
       "      <td>0.0</td>\n",
       "      <td>1.0</td>\n",
       "      <td>0.0</td>\n",
       "      <td>10</td>\n",
       "      <td>742.80</td>\n",
       "      <td>1</td>\n",
       "      <td>1</td>\n",
       "      <td>1</td>\n",
       "      <td>0.31</td>\n",
       "    </tr>\n",
       "    <tr>\n",
       "      <th>19180</th>\n",
       "      <td>0.0</td>\n",
       "      <td>0.0</td>\n",
       "      <td>0.0</td>\n",
       "      <td>0.0</td>\n",
       "      <td>0.0</td>\n",
       "      <td>0.0</td>\n",
       "      <td>1.0</td>\n",
       "      <td>0.0</td>\n",
       "      <td>1.0</td>\n",
       "      <td>0.0</td>\n",
       "      <td>0.0</td>\n",
       "      <td>1.0</td>\n",
       "      <td>0.0</td>\n",
       "      <td>2</td>\n",
       "      <td>1240.88</td>\n",
       "      <td>0</td>\n",
       "      <td>1</td>\n",
       "      <td>1</td>\n",
       "      <td>0.53</td>\n",
       "    </tr>\n",
       "    <tr>\n",
       "      <th>19186</th>\n",
       "      <td>0.0</td>\n",
       "      <td>0.0</td>\n",
       "      <td>0.0</td>\n",
       "      <td>0.0</td>\n",
       "      <td>1.0</td>\n",
       "      <td>0.0</td>\n",
       "      <td>0.0</td>\n",
       "      <td>1.0</td>\n",
       "      <td>0.0</td>\n",
       "      <td>0.0</td>\n",
       "      <td>1.0</td>\n",
       "      <td>0.0</td>\n",
       "      <td>0.0</td>\n",
       "      <td>4</td>\n",
       "      <td>697.47</td>\n",
       "      <td>1</td>\n",
       "      <td>0</td>\n",
       "      <td>1</td>\n",
       "      <td>0.33</td>\n",
       "    </tr>\n",
       "    <tr>\n",
       "      <th>19198</th>\n",
       "      <td>1.0</td>\n",
       "      <td>0.0</td>\n",
       "      <td>0.0</td>\n",
       "      <td>0.0</td>\n",
       "      <td>0.0</td>\n",
       "      <td>0.0</td>\n",
       "      <td>0.0</td>\n",
       "      <td>0.0</td>\n",
       "      <td>0.0</td>\n",
       "      <td>1.0</td>\n",
       "      <td>0.0</td>\n",
       "      <td>1.0</td>\n",
       "      <td>0.0</td>\n",
       "      <td>6</td>\n",
       "      <td>82.00</td>\n",
       "      <td>1</td>\n",
       "      <td>0</td>\n",
       "      <td>1</td>\n",
       "      <td>0.59</td>\n",
       "    </tr>\n",
       "  </tbody>\n",
       "</table>\n",
       "<p>2493 rows × 19 columns</p>\n",
       "</div>"
      ],
      "text/plain": [
       "       history_segment_1) $0 - $100  history_segment_2) $100 - $200  \\\n",
       "4                               0.0                             0.0   \n",
       "6                               1.0                             0.0   \n",
       "17                              0.0                             0.0   \n",
       "36                              0.0                             0.0   \n",
       "37                              0.0                             1.0   \n",
       "...                             ...                             ...   \n",
       "19160                           0.0                             0.0   \n",
       "19166                           0.0                             0.0   \n",
       "19180                           0.0                             0.0   \n",
       "19186                           0.0                             0.0   \n",
       "19198                           1.0                             0.0   \n",
       "\n",
       "       history_segment_3) $200 - $350  history_segment_4) $350 - $500  \\\n",
       "4                                 1.0                             0.0   \n",
       "6                                 0.0                             0.0   \n",
       "17                                0.0                             0.0   \n",
       "36                                0.0                             0.0   \n",
       "37                                0.0                             0.0   \n",
       "...                               ...                             ...   \n",
       "19160                             0.0                             0.0   \n",
       "19166                             0.0                             0.0   \n",
       "19180                             0.0                             0.0   \n",
       "19186                             0.0                             0.0   \n",
       "19198                             0.0                             0.0   \n",
       "\n",
       "       history_segment_5) $500 - $750  history_segment_6) $750 - $1,000  \\\n",
       "4                                 0.0                               0.0   \n",
       "6                                 0.0                               0.0   \n",
       "17                                0.0                               1.0   \n",
       "36                                1.0                               0.0   \n",
       "37                                0.0                               0.0   \n",
       "...                               ...                               ...   \n",
       "19160                             0.0                               1.0   \n",
       "19166                             1.0                               0.0   \n",
       "19180                             0.0                               0.0   \n",
       "19186                             1.0                               0.0   \n",
       "19198                             0.0                               0.0   \n",
       "\n",
       "       history_segment_7) $1,000 +  zip_code_Rural  zip_code_Surburban  \\\n",
       "4                              0.0             0.0                 1.0   \n",
       "6                              0.0             0.0                 0.0   \n",
       "17                             0.0             0.0                 1.0   \n",
       "36                             0.0             0.0                 1.0   \n",
       "37                             0.0             0.0                 1.0   \n",
       "...                            ...             ...                 ...   \n",
       "19160                          0.0             0.0                 1.0   \n",
       "19166                          0.0             1.0                 0.0   \n",
       "19180                          1.0             0.0                 1.0   \n",
       "19186                          0.0             1.0                 0.0   \n",
       "19198                          0.0             0.0                 0.0   \n",
       "\n",
       "       zip_code_Urban  channel_Multichannel  channel_Phone  channel_Web  \\\n",
       "4                 0.0                   0.0            0.0          1.0   \n",
       "6                 1.0                   0.0            1.0          0.0   \n",
       "17                0.0                   1.0            0.0          0.0   \n",
       "36                0.0                   1.0            0.0          0.0   \n",
       "37                0.0                   0.0            0.0          1.0   \n",
       "...               ...                   ...            ...          ...   \n",
       "19160             0.0                   1.0            0.0          0.0   \n",
       "19166             0.0                   0.0            1.0          0.0   \n",
       "19180             0.0                   0.0            1.0          0.0   \n",
       "19186             0.0                   1.0            0.0          0.0   \n",
       "19198             1.0                   0.0            1.0          0.0   \n",
       "\n",
       "       recency  history  mens  womens  newbie  uplift  \n",
       "4            2   261.23     1       1       1    0.38  \n",
       "6            5    55.56     0       1       0    0.44  \n",
       "17           1   966.24     1       0       1    0.49  \n",
       "36           1   610.09     1       1       1    0.55  \n",
       "37          10   138.32     1       0       1    0.77  \n",
       "...        ...      ...   ...     ...     ...     ...  \n",
       "19160        3   948.12     1       0       1    0.55  \n",
       "19166       10   742.80     1       1       1    0.31  \n",
       "19180        2  1240.88     0       1       1    0.53  \n",
       "19186        4   697.47     1       0       1    0.33  \n",
       "19198        6    82.00     1       0       1    0.59  \n",
       "\n",
       "[2493 rows x 19 columns]"
      ]
     },
     "execution_count": 20,
     "metadata": {},
     "output_type": "execute_result"
    }
   ],
   "source": [
    "# clients \n",
    "marketing_clients"
   ]
  },
  {
   "cell_type": "markdown",
   "id": "aadf1e06",
   "metadata": {
    "papermill": {
     "duration": 0.010566,
     "end_time": "2024-04-13T13:34:47.445066",
     "exception": false,
     "start_time": "2024-04-13T13:34:47.434500",
     "status": "completed"
    },
    "tags": []
   },
   "source": [
    "## <b>6 <span style='color:#686dec'>|</span> CONCLUDING REMARKS</b> \n",
    "\n",
    "In this post we looked into a brief introduction into **uplift modeling**, which is a practical business task for which we can utilise machine learning & use modeling for the prediction/identification of the subset of objects/dataset **who upon being influenced by an event/action will do some action** and **if not influenced will not do the action**\n",
    "\n",
    "We looked at two approaches **s-learner** & **t-learner** modeling approaches and tried a sample problem **Kevin Hillstrom Dataset**\n",
    "\n",
    "The modeling approaches allow us to predict the lift value, and gives us to understanding how well the particular client is influenced based on historical data, the models can then be used on new unseen data.\n",
    "\n",
    "We can repeat the process similar to above using some other datasets such as: [fetch_x5](https://www.uplift-modeling.com/en/latest/api/datasets/fetch_x5.html), [fetch_lenta](https://www.uplift-modeling.com/en/latest/api/datasets/fetch_lenta.html#lenta-uplift-modeling-dataset), [fetch_megafon](https://www.uplift-modeling.com/en/latest/api/datasets/fetch_megafon.html).\n"
   ]
  }
 ],
 "metadata": {
  "kaggle": {
   "accelerator": "none",
   "dataSources": [],
   "dockerImageVersionId": 30684,
   "isGpuEnabled": false,
   "isInternetEnabled": true,
   "language": "python",
   "sourceType": "notebook"
  },
  "kernelspec": {
   "display_name": "Python 3",
   "language": "python",
   "name": "python3"
  },
  "language_info": {
   "codemirror_mode": {
    "name": "ipython",
    "version": 3
   },
   "file_extension": ".py",
   "mimetype": "text/x-python",
   "name": "python",
   "nbconvert_exporter": "python",
   "pygments_lexer": "ipython3",
   "version": "3.10.13"
  },
  "papermill": {
   "default_parameters": {},
   "duration": 39.554016,
   "end_time": "2024-04-13T13:34:48.379560",
   "environment_variables": {},
   "exception": null,
   "input_path": "__notebook__.ipynb",
   "output_path": "__notebook__.ipynb",
   "parameters": {},
   "start_time": "2024-04-13T13:34:08.825544",
   "version": "2.5.0"
  },
  "widgets": {
   "application/vnd.jupyter.widget-state+json": {
    "state": {
     "0b6deac5d04640feabcf3790cabde5f3": {
      "model_module": "@jupyter-widgets/controls",
      "model_module_version": "1.5.0",
      "model_name": "DescriptionStyleModel",
      "state": {
       "_model_module": "@jupyter-widgets/controls",
       "_model_module_version": "1.5.0",
       "_model_name": "DescriptionStyleModel",
       "_view_count": null,
       "_view_module": "@jupyter-widgets/base",
       "_view_module_version": "1.2.0",
       "_view_name": "StyleView",
       "description_width": ""
      }
     },
     "2244c4277dfd42fcb96a30f019f2db7f": {
      "model_module": "@jupyter-widgets/controls",
      "model_module_version": "1.5.0",
      "model_name": "HTMLModel",
      "state": {
       "_dom_classes": [],
       "_model_module": "@jupyter-widgets/controls",
       "_model_module_version": "1.5.0",
       "_model_name": "HTMLModel",
       "_view_count": null,
       "_view_module": "@jupyter-widgets/controls",
       "_view_module_version": "1.5.0",
       "_view_name": "HTMLView",
       "description": "",
       "description_tooltip": null,
       "layout": "IPY_MODEL_76c4239196884a64acdbb4ce9999c638",
       "placeholder": "​",
       "style": "IPY_MODEL_cdb024a3aad841b6904dbe1e34e2a3bd",
       "value": "Hillstrom dataset: 100%"
      }
     },
     "6ad116d8e6074defb5206f43c63de358": {
      "model_module": "@jupyter-widgets/controls",
      "model_module_version": "1.5.0",
      "model_name": "FloatProgressModel",
      "state": {
       "_dom_classes": [],
       "_model_module": "@jupyter-widgets/controls",
       "_model_module_version": "1.5.0",
       "_model_name": "FloatProgressModel",
       "_view_count": null,
       "_view_module": "@jupyter-widgets/controls",
       "_view_module_version": "1.5.0",
       "_view_name": "ProgressView",
       "bar_style": "success",
       "description": "",
       "description_tooltip": null,
       "layout": "IPY_MODEL_a61f4285de294f4998684a3c8f4cc484",
       "max": 443070.0,
       "min": 0.0,
       "orientation": "horizontal",
       "style": "IPY_MODEL_84f7902845a546109f7ddeee0e5f44e4",
       "value": 443070.0
      }
     },
     "76c4239196884a64acdbb4ce9999c638": {
      "model_module": "@jupyter-widgets/base",
      "model_module_version": "1.2.0",
      "model_name": "LayoutModel",
      "state": {
       "_model_module": "@jupyter-widgets/base",
       "_model_module_version": "1.2.0",
       "_model_name": "LayoutModel",
       "_view_count": null,
       "_view_module": "@jupyter-widgets/base",
       "_view_module_version": "1.2.0",
       "_view_name": "LayoutView",
       "align_content": null,
       "align_items": null,
       "align_self": null,
       "border": null,
       "bottom": null,
       "display": null,
       "flex": null,
       "flex_flow": null,
       "grid_area": null,
       "grid_auto_columns": null,
       "grid_auto_flow": null,
       "grid_auto_rows": null,
       "grid_column": null,
       "grid_gap": null,
       "grid_row": null,
       "grid_template_areas": null,
       "grid_template_columns": null,
       "grid_template_rows": null,
       "height": null,
       "justify_content": null,
       "justify_items": null,
       "left": null,
       "margin": null,
       "max_height": null,
       "max_width": null,
       "min_height": null,
       "min_width": null,
       "object_fit": null,
       "object_position": null,
       "order": null,
       "overflow": null,
       "overflow_x": null,
       "overflow_y": null,
       "padding": null,
       "right": null,
       "top": null,
       "visibility": null,
       "width": null
      }
     },
     "8059c7e8441e4286a3f8b4f25c669a30": {
      "model_module": "@jupyter-widgets/controls",
      "model_module_version": "1.5.0",
      "model_name": "HBoxModel",
      "state": {
       "_dom_classes": [],
       "_model_module": "@jupyter-widgets/controls",
       "_model_module_version": "1.5.0",
       "_model_name": "HBoxModel",
       "_view_count": null,
       "_view_module": "@jupyter-widgets/controls",
       "_view_module_version": "1.5.0",
       "_view_name": "HBoxView",
       "box_style": "",
       "children": [
        "IPY_MODEL_2244c4277dfd42fcb96a30f019f2db7f",
        "IPY_MODEL_6ad116d8e6074defb5206f43c63de358",
        "IPY_MODEL_935c2229c5f14886bf370d09f568348a"
       ],
       "layout": "IPY_MODEL_f8f2e9151c1f48d8a44c9440c2a9a3ac"
      }
     },
     "84f7902845a546109f7ddeee0e5f44e4": {
      "model_module": "@jupyter-widgets/controls",
      "model_module_version": "1.5.0",
      "model_name": "ProgressStyleModel",
      "state": {
       "_model_module": "@jupyter-widgets/controls",
       "_model_module_version": "1.5.0",
       "_model_name": "ProgressStyleModel",
       "_view_count": null,
       "_view_module": "@jupyter-widgets/base",
       "_view_module_version": "1.2.0",
       "_view_name": "StyleView",
       "bar_color": null,
       "description_width": ""
      }
     },
     "927c109209aa47f4aa03d2de5b77b628": {
      "model_module": "@jupyter-widgets/base",
      "model_module_version": "1.2.0",
      "model_name": "LayoutModel",
      "state": {
       "_model_module": "@jupyter-widgets/base",
       "_model_module_version": "1.2.0",
       "_model_name": "LayoutModel",
       "_view_count": null,
       "_view_module": "@jupyter-widgets/base",
       "_view_module_version": "1.2.0",
       "_view_name": "LayoutView",
       "align_content": null,
       "align_items": null,
       "align_self": null,
       "border": null,
       "bottom": null,
       "display": null,
       "flex": null,
       "flex_flow": null,
       "grid_area": null,
       "grid_auto_columns": null,
       "grid_auto_flow": null,
       "grid_auto_rows": null,
       "grid_column": null,
       "grid_gap": null,
       "grid_row": null,
       "grid_template_areas": null,
       "grid_template_columns": null,
       "grid_template_rows": null,
       "height": null,
       "justify_content": null,
       "justify_items": null,
       "left": null,
       "margin": null,
       "max_height": null,
       "max_width": null,
       "min_height": null,
       "min_width": null,
       "object_fit": null,
       "object_position": null,
       "order": null,
       "overflow": null,
       "overflow_x": null,
       "overflow_y": null,
       "padding": null,
       "right": null,
       "top": null,
       "visibility": null,
       "width": null
      }
     },
     "935c2229c5f14886bf370d09f568348a": {
      "model_module": "@jupyter-widgets/controls",
      "model_module_version": "1.5.0",
      "model_name": "HTMLModel",
      "state": {
       "_dom_classes": [],
       "_model_module": "@jupyter-widgets/controls",
       "_model_module_version": "1.5.0",
       "_model_name": "HTMLModel",
       "_view_count": null,
       "_view_module": "@jupyter-widgets/controls",
       "_view_module_version": "1.5.0",
       "_view_name": "HTMLView",
       "description": "",
       "description_tooltip": null,
       "layout": "IPY_MODEL_927c109209aa47f4aa03d2de5b77b628",
       "placeholder": "​",
       "style": "IPY_MODEL_0b6deac5d04640feabcf3790cabde5f3",
       "value": " 443k/443k [00:00&lt;00:00, 587kiB/s]"
      }
     },
     "a61f4285de294f4998684a3c8f4cc484": {
      "model_module": "@jupyter-widgets/base",
      "model_module_version": "1.2.0",
      "model_name": "LayoutModel",
      "state": {
       "_model_module": "@jupyter-widgets/base",
       "_model_module_version": "1.2.0",
       "_model_name": "LayoutModel",
       "_view_count": null,
       "_view_module": "@jupyter-widgets/base",
       "_view_module_version": "1.2.0",
       "_view_name": "LayoutView",
       "align_content": null,
       "align_items": null,
       "align_self": null,
       "border": null,
       "bottom": null,
       "display": null,
       "flex": null,
       "flex_flow": null,
       "grid_area": null,
       "grid_auto_columns": null,
       "grid_auto_flow": null,
       "grid_auto_rows": null,
       "grid_column": null,
       "grid_gap": null,
       "grid_row": null,
       "grid_template_areas": null,
       "grid_template_columns": null,
       "grid_template_rows": null,
       "height": null,
       "justify_content": null,
       "justify_items": null,
       "left": null,
       "margin": null,
       "max_height": null,
       "max_width": null,
       "min_height": null,
       "min_width": null,
       "object_fit": null,
       "object_position": null,
       "order": null,
       "overflow": null,
       "overflow_x": null,
       "overflow_y": null,
       "padding": null,
       "right": null,
       "top": null,
       "visibility": null,
       "width": null
      }
     },
     "cdb024a3aad841b6904dbe1e34e2a3bd": {
      "model_module": "@jupyter-widgets/controls",
      "model_module_version": "1.5.0",
      "model_name": "DescriptionStyleModel",
      "state": {
       "_model_module": "@jupyter-widgets/controls",
       "_model_module_version": "1.5.0",
       "_model_name": "DescriptionStyleModel",
       "_view_count": null,
       "_view_module": "@jupyter-widgets/base",
       "_view_module_version": "1.2.0",
       "_view_name": "StyleView",
       "description_width": ""
      }
     },
     "f8f2e9151c1f48d8a44c9440c2a9a3ac": {
      "model_module": "@jupyter-widgets/base",
      "model_module_version": "1.2.0",
      "model_name": "LayoutModel",
      "state": {
       "_model_module": "@jupyter-widgets/base",
       "_model_module_version": "1.2.0",
       "_model_name": "LayoutModel",
       "_view_count": null,
       "_view_module": "@jupyter-widgets/base",
       "_view_module_version": "1.2.0",
       "_view_name": "LayoutView",
       "align_content": null,
       "align_items": null,
       "align_self": null,
       "border": null,
       "bottom": null,
       "display": null,
       "flex": null,
       "flex_flow": null,
       "grid_area": null,
       "grid_auto_columns": null,
       "grid_auto_flow": null,
       "grid_auto_rows": null,
       "grid_column": null,
       "grid_gap": null,
       "grid_row": null,
       "grid_template_areas": null,
       "grid_template_columns": null,
       "grid_template_rows": null,
       "height": null,
       "justify_content": null,
       "justify_items": null,
       "left": null,
       "margin": null,
       "max_height": null,
       "max_width": null,
       "min_height": null,
       "min_width": null,
       "object_fit": null,
       "object_position": null,
       "order": null,
       "overflow": null,
       "overflow_x": null,
       "overflow_y": null,
       "padding": null,
       "right": null,
       "top": null,
       "visibility": null,
       "width": null
      }
     }
    },
    "version_major": 2,
    "version_minor": 0
   }
  }
 },
 "nbformat": 4,
 "nbformat_minor": 5
}
